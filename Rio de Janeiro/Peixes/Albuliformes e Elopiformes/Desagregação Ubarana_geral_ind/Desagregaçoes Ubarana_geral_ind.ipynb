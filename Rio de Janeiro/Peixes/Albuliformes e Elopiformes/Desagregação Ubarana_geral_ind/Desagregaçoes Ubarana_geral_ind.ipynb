{
 "cells": [
  {
   "cell_type": "code",
   "execution_count": 1,
   "metadata": {},
   "outputs": [],
   "source": [
    "import numpy as np\n",
    "import pandas as pd"
   ]
  },
  {
   "cell_type": "code",
   "execution_count": 3,
   "metadata": {},
   "outputs": [],
   "source": [
    "#Proporções das especies que receberao valores da desagregação\n",
    "prop_Ubarana_ind= np.load('/home/andre/Área de Trabalho/Reconstrução da Estatística Pesqueira BR/Rio de Janeiro/Peixes/Albuliformes e Elopiformes/Desagregação Ubarana_geral_ind/prev_Ubarana_ind.npy').flatten()\n",
    "prop_Ubarana_rato_ind= np.load('/home/andre/Área de Trabalho/Reconstrução da Estatística Pesqueira BR/Rio de Janeiro/Peixes/Albuliformes e Elopiformes/Desagregação Ubarana_geral_ind/prev_Ubarana_rato_ind.npy').flatten()"
   ]
  },
  {
   "cell_type": "code",
   "execution_count": 4,
   "metadata": {},
   "outputs": [],
   "source": [
    "#Soma das proporções\n",
    "prop_soma = prop_Ubarana_ind + prop_Ubarana_rato_ind \n",
    "#Dividindo proporções pela soma para que de sempre 1\n",
    "for i in range(len(prop_Ubarana_ind)):\n",
    "  prop_Ubarana_ind[i] /= prop_soma[i] \n",
    "  prop_Ubarana_rato_ind[i] /= prop_soma[i]\n"
   ]
  },
  {
   "cell_type": "code",
   "execution_count": 5,
   "metadata": {},
   "outputs": [
    {
     "name": "stdout",
     "output_type": "stream",
     "text": [
      "     Ano  Ubarana_ind  Ubarana_rato_ind\n",
      "0   1950          NaN               NaN\n",
      "1   1951          NaN               NaN\n",
      "2   1952          NaN               NaN\n",
      "3   1953          NaN               NaN\n",
      "4   1954          NaN               NaN\n",
      "5   1955          NaN               NaN\n",
      "6   1956          NaN               NaN\n",
      "7   1957          NaN               NaN\n",
      "8   1958          NaN               NaN\n",
      "9   1959          NaN               NaN\n",
      "10  1960          NaN               NaN\n",
      "11  1961          NaN               NaN\n",
      "12  1962          NaN               NaN\n",
      "13  1963          NaN               NaN\n",
      "14  1964          NaN               NaN\n",
      "15  1965          NaN               NaN\n",
      "16  1966          NaN               NaN\n",
      "17  1967          NaN               NaN\n",
      "18  1968          NaN               NaN\n",
      "19  1969          NaN               NaN\n",
      "20  1970          NaN               NaN\n",
      "21  1971          NaN               NaN\n",
      "22  1972          NaN               NaN\n",
      "23  1973          NaN               NaN\n",
      "24  1974          NaN               NaN\n",
      "25  1975          NaN               NaN\n",
      "26  1976          NaN               NaN\n",
      "27  1977          NaN               NaN\n",
      "28  1978     0.000000          1.000000\n",
      "29  1979          NaN               NaN\n",
      "30  1980          NaN               NaN\n",
      "31  1981          NaN               NaN\n",
      "32  1982          NaN               NaN\n",
      "33  1983          NaN               NaN\n",
      "34  1984     0.000000          2.000000\n",
      "35  1985     0.000000          6.000000\n",
      "36  1986     0.000000         15.000000\n",
      "37  1987     0.000000         14.000000\n",
      "38  1988     0.000000         30.000000\n",
      "39  1989     0.000000          6.000000\n",
      "40  1990          NaN               NaN\n",
      "41  1991          NaN               NaN\n",
      "42  1992          NaN               NaN\n",
      "43  1993          NaN               NaN\n",
      "44  1994          NaN               NaN\n",
      "45  1995          NaN               NaN\n",
      "46  1996          NaN               NaN\n",
      "47  1997          NaN               NaN\n",
      "48  1998          NaN               NaN\n",
      "49  1999          NaN               NaN\n",
      "50  2000          NaN               NaN\n",
      "51  2001          NaN               NaN\n",
      "52  2002          NaN               NaN\n",
      "53  2003          NaN               NaN\n",
      "54  2004          NaN               NaN\n",
      "55  2005          NaN               NaN\n",
      "56  2006          NaN               NaN\n",
      "57  2007          NaN               NaN\n",
      "58  2008     4.116541          7.333459\n",
      "59  2009     1.679173          2.523827\n",
      "60  2010     0.578649          0.737351\n",
      "61  2011    24.772576         26.828422\n",
      "62  2012     7.875737          7.251264\n",
      "63  2013     0.768549          0.600451\n",
      "64  2014     3.177374          2.097626\n",
      "65  2015     0.360000               NaN\n",
      "66  2016          NaN               NaN\n",
      "67  2017     8.894000          3.110000\n",
      "68  2018    30.473000               NaN\n",
      "69  2019    76.318000               NaN\n",
      "70  2020    29.327000          5.762000\n",
      "71  2021    11.531000          0.546000\n",
      "72  2022     0.910000               NaN\n"
     ]
    }
   ],
   "source": [
    "df_dados = pd.read_excel('/home/andre/Área de Trabalho/Reconstrução da Estatística Pesqueira BR/Rio de Janeiro/Peixes/Albuliformes e Elopiformes/RJ_Reconstrucao_Albuliformes&Elopiformes_2024_08_20.xlsx')\n",
    "df_prev = df_dados[['Ano','Ubarana_ind','Ubarana_rato_ind']]\n",
    "\n",
    "df_Ubarana_geral_ind = df_dados[['Ano','Ubarana_geral_ind']]\n",
    "\n",
    "anos_para_prever = np.array([1978,1984,1985,1986,1987,1988,1989,2008,2009,2010,2011,2012,2013,2014])\n",
    "\n",
    "for i in range(len(prop_Ubarana_ind)):\n",
    "    if i+1950 in anos_para_prever:\n",
    "      df_prev.loc[i,'Ubarana_ind'] = df_Ubarana_geral_ind.loc[i,'Ubarana_geral_ind']*prop_Ubarana_ind[i]\n",
    "      df_prev.loc[i,'Ubarana_rato_ind'] = df_Ubarana_geral_ind.loc[i,'Ubarana_geral_ind']*prop_Ubarana_rato_ind[i]\n",
    "\n",
    "\n",
    "with pd.option_context('display.max_rows', None,):\n",
    "   print(df_prev)\n",
    "\n",
    "df_prev.to_excel('/home/andre/Área de Trabalho/Reconstrução da Estatística Pesqueira BR/Rio de Janeiro/Peixes/Albuliformes e Elopiformes/Desagregação Ubarana_geral_ind/Desagragação Ubarana_geral_ind.xlsx')"
   ]
  }
 ],
 "metadata": {
  "kernelspec": {
   "display_name": "Python 3",
   "language": "python",
   "name": "python3"
  },
  "language_info": {
   "codemirror_mode": {
    "name": "ipython",
    "version": 3
   },
   "file_extension": ".py",
   "mimetype": "text/x-python",
   "name": "python",
   "nbconvert_exporter": "python",
   "pygments_lexer": "ipython3",
   "version": "3.10.12"
  }
 },
 "nbformat": 4,
 "nbformat_minor": 2
}
