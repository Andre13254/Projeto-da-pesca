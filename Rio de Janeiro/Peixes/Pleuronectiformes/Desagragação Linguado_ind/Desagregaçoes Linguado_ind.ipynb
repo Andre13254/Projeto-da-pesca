{
 "cells": [
  {
   "cell_type": "code",
   "execution_count": 1,
   "metadata": {},
   "outputs": [],
   "source": [
    "import numpy as np\n",
    "import pandas as pd"
   ]
  },
  {
   "cell_type": "code",
   "execution_count": 2,
   "metadata": {},
   "outputs": [],
   "source": [
    "#Proporções das especies que receberao valores da desagregação\n",
    "prop_Linguado_verdadeiro_ind= np.load('/home/andre/Área de Trabalho/Reconstrução da Estatística Pesqueira BR/Rio de Janeiro/Peixes/Pleuronectiformes/Desagragação Linguado_ind/prev_Linguado_verdadeiro_ind.npy').flatten()\n",
    "prop_Linguado_areia_ind= np.load('/home/andre/Área de Trabalho/Reconstrução da Estatística Pesqueira BR/Rio de Janeiro/Peixes/Pleuronectiformes/Desagragação Linguado_ind/prev_Linguado_areia_ind.npy').flatten()"
   ]
  },
  {
   "cell_type": "code",
   "execution_count": 3,
   "metadata": {},
   "outputs": [],
   "source": [
    "#Soma das proporções\n",
    "prop_soma = prop_Linguado_verdadeiro_ind + prop_Linguado_areia_ind \n",
    "#Dividindo proporções pela soma para que de sempre 1\n",
    "for i in range(len(prop_Linguado_verdadeiro_ind)):\n",
    "  prop_Linguado_verdadeiro_ind[i] /= prop_soma[i] \n",
    "  prop_Linguado_areia_ind[i] /= prop_soma[i]\n"
   ]
  },
  {
   "cell_type": "code",
   "execution_count": 6,
   "metadata": {},
   "outputs": [
    {
     "name": "stdout",
     "output_type": "stream",
     "text": [
      "     Ano  Linguado_verdadeiro_ind  Linguado_areia_ind\n",
      "0   1950                      NaN                 NaN\n",
      "1   1951                      NaN                 NaN\n",
      "2   1952                      NaN                 NaN\n",
      "3   1953                      NaN                 NaN\n",
      "4   1954                      NaN                 NaN\n",
      "5   1955                      NaN                 NaN\n",
      "6   1956                      NaN                 NaN\n",
      "7   1957                      NaN                 NaN\n",
      "8   1958                      NaN                 NaN\n",
      "9   1959                      NaN                 NaN\n",
      "10  1960                      NaN                 NaN\n",
      "11  1961                      NaN                 NaN\n",
      "12  1962                      NaN                 NaN\n",
      "13  1963                      NaN                 NaN\n",
      "14  1964                      NaN                 NaN\n",
      "15  1965                      NaN                 NaN\n",
      "16  1966                      NaN                 NaN\n",
      "17  1967                      NaN                 NaN\n",
      "18  1968                      NaN                 NaN\n",
      "19  1969                      NaN                 NaN\n",
      "20  1970                      NaN                 NaN\n",
      "21  1971                      NaN                 NaN\n",
      "22  1972                      NaN                 NaN\n",
      "23  1973                      NaN                 NaN\n",
      "24  1974                      NaN                 NaN\n",
      "25  1975                      NaN                 NaN\n",
      "26  1976                      NaN                 NaN\n",
      "27  1977                      NaN                 NaN\n",
      "28  1978                 1.220971            8.779029\n",
      "29  1979                 0.750215            5.249785\n",
      "30  1980                 0.767929            5.232070\n",
      "31  1981                 2.750044           18.249954\n",
      "32  1982                 3.616235           23.383764\n",
      "33  1983                 8.626515           54.373482\n",
      "34  1984                24.069189          147.930808\n",
      "35  1985                32.451831          194.548158\n",
      "36  1986                25.987376          152.012632\n",
      "37  1987                16.097152           91.902851\n",
      "38  1988                13.233870           73.766131\n",
      "39  1989                19.399235          105.600774\n",
      "40  1990                      NaN                 NaN\n",
      "41  1991                      NaN                 NaN\n",
      "42  1992                      NaN                 NaN\n",
      "43  1993                      NaN                 NaN\n",
      "44  1994                      NaN                 NaN\n",
      "45  1995                      NaN                 NaN\n",
      "46  1996                32.068691          148.931295\n",
      "47  1997                59.253626          269.246349\n",
      "48  1998                75.915800          337.584206\n",
      "49  1999                98.176956          427.323036\n",
      "50  2000               100.834390          429.665602\n",
      "51  2001                93.576302          390.423698\n",
      "52  2002                89.756643          366.743384\n",
      "53  2003                94.159786          376.840207\n",
      "54  2004               104.459458          409.540565\n",
      "55  2005               105.348108          404.651869\n",
      "56  2006               117.763994          443.235990\n",
      "57  2007               107.603658          396.896350\n",
      "58  2008                 6.435008           23.263993\n",
      "59  2009                 6.716771           23.803231\n",
      "60  2010                49.398682          171.626318\n",
      "61  2011               118.024495          402.052536\n",
      "62  2012               127.927384          427.326608\n",
      "63  2013               105.897726          346.854247\n",
      "64  2014                57.694984          185.309994\n",
      "65  2015                 5.794000          102.291000\n",
      "66  2016                      NaN                 NaN\n",
      "67  2017                35.977900          119.708780\n",
      "68  2018                20.825700          123.750300\n",
      "69  2019                15.930800           61.892100\n",
      "70  2020                 6.951600           19.298000\n",
      "71  2021                 8.222600            8.412100\n",
      "72  2022                 9.392400           12.807300\n"
     ]
    }
   ],
   "source": [
    "df_dados = pd.read_excel('/home/andre/Área de Trabalho/Reconstrução da Estatística Pesqueira BR/Rio de Janeiro/Peixes/Pleuronectiformes/RJ_Reconstrucao_Pleuronectiformes_2024_08_20.xlsx')\n",
    "df_prev = df_dados[['Ano','Linguado_verdadeiro_ind','Linguado_areia_ind']]\n",
    "\n",
    "df_Linguado_ind = df_dados[['Ano','Linguado_ind']]\n",
    "\n",
    "anos_para_prever = np.array([1976,1977,1978,1979,1980,1981,1982,1983,1984,1985,1986,1987,1988,1989,1996,1997,1998,1999,2000,2001,2002,2003,2004,2005,2006,2007,2008,2009,2010,2011,2012,2013,2014])\n",
    "\n",
    "for i in range(len(prop_Linguado_verdadeiro_ind)):\n",
    "    if i+1950 in anos_para_prever:\n",
    "      df_prev.loc[i,'Linguado_verdadeiro_ind'] = df_Linguado_ind.loc[i,'Linguado_ind']*prop_Linguado_verdadeiro_ind[i]\n",
    "      df_prev.loc[i,'Linguado_areia_ind'] = df_Linguado_ind.loc[i,'Linguado_ind']*prop_Linguado_areia_ind[i]\n",
    "\n",
    "with pd.option_context('display.max_rows', None,):\n",
    "   print(df_prev)\n",
    "\n",
    "df_prev.to_excel('/home/andre/Área de Trabalho/Reconstrução da Estatística Pesqueira BR/Rio de Janeiro/Peixes/Pleuronectiformes/Desagragação Linguado_ind/Desagragação Linguado_ind.xlsx')"
   ]
  }
 ],
 "metadata": {
  "kernelspec": {
   "display_name": "Python 3",
   "language": "python",
   "name": "python3"
  },
  "language_info": {
   "codemirror_mode": {
    "name": "ipython",
    "version": 3
   },
   "file_extension": ".py",
   "mimetype": "text/x-python",
   "name": "python",
   "nbconvert_exporter": "python",
   "pygments_lexer": "ipython3",
   "version": "3.10.12"
  }
 },
 "nbformat": 4,
 "nbformat_minor": 2
}
