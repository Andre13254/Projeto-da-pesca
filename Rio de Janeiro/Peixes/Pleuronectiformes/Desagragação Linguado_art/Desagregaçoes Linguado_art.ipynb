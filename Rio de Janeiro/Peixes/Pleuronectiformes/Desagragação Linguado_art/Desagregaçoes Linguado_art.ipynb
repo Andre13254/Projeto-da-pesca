{
 "cells": [
  {
   "cell_type": "code",
   "execution_count": 1,
   "metadata": {},
   "outputs": [],
   "source": [
    "import numpy as np\n",
    "import pandas as pd"
   ]
  },
  {
   "cell_type": "code",
   "execution_count": 2,
   "metadata": {},
   "outputs": [],
   "source": [
    "#Proporções das especies que receberao valores da desagregação\n",
    "prop_Linguado_verdadeiro_art= np.load('/home/andre/Área de Trabalho/Reconstrução da Estatística Pesqueira BR/Rio de Janeiro/Peixes/Pleuronectiformes/Desagragação Linguado_art/prev_Linguado_verdadeiro_art.npy').flatten()\n",
    "prop_Linguado_areia_art= np.load('/home/andre/Área de Trabalho/Reconstrução da Estatística Pesqueira BR/Rio de Janeiro/Peixes/Pleuronectiformes/Desagragação Linguado_art/prev_Linguado_areia_art.npy').flatten()"
   ]
  },
  {
   "cell_type": "code",
   "execution_count": 3,
   "metadata": {},
   "outputs": [],
   "source": [
    "#Soma das proporções\n",
    "prop_soma = prop_Linguado_verdadeiro_art + prop_Linguado_areia_art \n",
    "#Dividindo proporções pela soma para que de sempre 1\n",
    "for i in range(len(prop_Linguado_verdadeiro_art)):\n",
    "  prop_Linguado_verdadeiro_art[i] /= prop_soma[i] \n",
    "  prop_Linguado_areia_art[i] /= prop_soma[i]\n"
   ]
  },
  {
   "cell_type": "code",
   "execution_count": 5,
   "metadata": {},
   "outputs": [
    {
     "name": "stdout",
     "output_type": "stream",
     "text": [
      "     Ano  Linguado_verdadeiro_art  Linguado_areia_art\n",
      "0   1950                      NaN                 NaN\n",
      "1   1951                      NaN                 NaN\n",
      "2   1952                      NaN                 NaN\n",
      "3   1953                      NaN                 NaN\n",
      "4   1954                      NaN                 NaN\n",
      "5   1955                      NaN                 NaN\n",
      "6   1956                      NaN                 NaN\n",
      "7   1957                      NaN                 NaN\n",
      "8   1958                      NaN                 NaN\n",
      "9   1959                      NaN                 NaN\n",
      "10  1960                      NaN                 NaN\n",
      "11  1961                      NaN                 NaN\n",
      "12  1962                      NaN                 NaN\n",
      "13  1963                      NaN                 NaN\n",
      "14  1964                      NaN                 NaN\n",
      "15  1965                      NaN                 NaN\n",
      "16  1966                      NaN                 NaN\n",
      "17  1967                      NaN                 NaN\n",
      "18  1968                      NaN                 NaN\n",
      "19  1969                      NaN                 NaN\n",
      "20  1970                      NaN                 NaN\n",
      "21  1971                      NaN                 NaN\n",
      "22  1972                      NaN                 NaN\n",
      "23  1973                      NaN                 NaN\n",
      "24  1974                      NaN                 NaN\n",
      "25  1975                      NaN                 NaN\n",
      "26  1976                27.336803           34.663197\n",
      "27  1977               194.233180          240.766846\n",
      "28  1978               258.171908          312.828075\n",
      "29  1979                20.143074           23.856927\n",
      "30  1980                25.955155           30.044847\n",
      "31  1981                14.076099           15.923899\n",
      "32  1982                25.647451           28.352548\n",
      "33  1983                22.594475           24.405522\n",
      "34  1984                12.650190           13.349808\n",
      "35  1985                16.741255           17.258745\n",
      "36  1986                10.961851           11.038150\n",
      "37  1987                14.621089           14.378912\n",
      "38  1988                26.526248           25.473752\n",
      "39  1989                29.933675           28.066329\n",
      "40  1990                      NaN                 NaN\n",
      "41  1991                      NaN                 NaN\n",
      "42  1992                      NaN                 NaN\n",
      "43  1993                      NaN                 NaN\n",
      "44  1994                      NaN                 NaN\n",
      "45  1995               130.430374          105.569619\n",
      "46  1996                 9.780527            7.719473\n",
      "47  1997                15.541311           11.958688\n",
      "48  1998                10.857086            8.142916\n",
      "49  1999                 3.177616            2.322384\n",
      "50  2000                 3.796697            2.703303\n",
      "51  2001                 7.676536            5.323464\n",
      "52  2002                 8.357089            5.642910\n",
      "53  2003                 8.447660            5.552340\n",
      "54  2004                 9.453622            6.046378\n",
      "55  2005                 8.322152            5.177848\n",
      "56  2006                 9.034058            5.465943\n",
      "57  2007                11.648706            6.851295\n",
      "58  2008                 5.289746            3.023254\n",
      "59  2009                 1.762529            0.978471\n",
      "60  2010                 2.168278            1.168722\n",
      "61  2011                 2.622951            1.372049\n",
      "62  2012                 1.023608            0.519392\n",
      "63  2013                 5.969995            2.937004\n",
      "64  2014                 6.423650            3.062350\n",
      "65  2015                      NaN            1.661000\n",
      "66  2016                      NaN                 NaN\n",
      "67  2017                 4.202060            5.761470\n",
      "68  2018                 2.564090            2.753300\n",
      "69  2019                 5.024500            1.791100\n",
      "70  2020                 4.527100            0.622600\n",
      "71  2021                 3.491400            0.441300\n",
      "72  2022                 4.895060            0.378450\n"
     ]
    }
   ],
   "source": [
    "df_dados = pd.read_excel('/home/andre/Área de Trabalho/Reconstrução da Estatística Pesqueira BR/Rio de Janeiro/Peixes/Pleuronectiformes/RJ_Reconstrucao_Pleuronectiformes_2024_08_20.xlsx')\n",
    "df_prev = df_dados[['Ano','Linguado_verdadeiro_art','Linguado_areia_art']]\n",
    "\n",
    "df_Linguado_art = pd.read_excel('/home/andre/Área de Trabalho/Reconstrução da Estatística Pesqueira BR/Rio de Janeiro/Peixes/Pleuronectiformes/Linguado/Previsão Linguado_art.xlsx')\n",
    "\n",
    "anos_para_prever = np.array([1976,1977,1978,1979,1980,1981,1982,1983,1984,1985,1986,1987,1988,1989,1995,1996,1997,1998,1999,2000,2001,2002,2003,2004,2005,2006,2007,2008,2009,2010,2011,2012,2013,2014])\n",
    "\n",
    "for i in range(len(prop_Linguado_verdadeiro_art)):\n",
    "    if i+1950 in anos_para_prever:\n",
    "      df_prev.loc[i,'Linguado_verdadeiro_art'] = df_Linguado_art.loc[i,'Linguado_art']*prop_Linguado_verdadeiro_art[i]\n",
    "      df_prev.loc[i,'Linguado_areia_art'] = df_Linguado_art.loc[i,'Linguado_art']*prop_Linguado_areia_art[i]\n",
    "\n",
    "with pd.option_context('display.max_rows', None,):\n",
    "   print(df_prev)\n",
    "\n",
    "df_prev.to_excel('/home/andre/Área de Trabalho/Reconstrução da Estatística Pesqueira BR/Rio de Janeiro/Peixes/Pleuronectiformes/Desagragação Linguado_art/Desagragação Linguado_art.xlsx')"
   ]
  }
 ],
 "metadata": {
  "kernelspec": {
   "display_name": "Python 3",
   "language": "python",
   "name": "python3"
  },
  "language_info": {
   "codemirror_mode": {
    "name": "ipython",
    "version": 3
   },
   "file_extension": ".py",
   "mimetype": "text/x-python",
   "name": "python",
   "nbconvert_exporter": "python",
   "pygments_lexer": "ipython3",
   "version": "3.10.12"
  }
 },
 "nbformat": 4,
 "nbformat_minor": 2
}
