{
 "cells": [
  {
   "cell_type": "code",
   "execution_count": 2,
   "metadata": {},
   "outputs": [
    {
     "name": "stderr",
     "output_type": "stream",
     "text": [
      "2024-09-26 20:59:25.227079: I tensorflow/core/util/port.cc:113] oneDNN custom operations are on. You may see slightly different numerical results due to floating-point round-off errors from different computation orders. To turn them off, set the environment variable `TF_ENABLE_ONEDNN_OPTS=0`.\n",
      "2024-09-26 20:59:25.257101: I tensorflow/core/platform/cpu_feature_guard.cc:210] This TensorFlow binary is optimized to use available CPU instructions in performance-critical operations.\n",
      "To enable the following instructions: AVX2 AVX_VNNI FMA, in other operations, rebuild TensorFlow with the appropriate compiler flags.\n",
      "2024-09-26 20:59:25.747813: W tensorflow/compiler/tf2tensorrt/utils/py_utils.cc:38] TF-TRT Warning: Could not find TensorRT\n",
      "/usr/lib/python3/dist-packages/scipy/__init__.py:146: UserWarning: A NumPy version >=1.17.3 and <1.25.0 is required for this version of SciPy (detected version 1.26.4\n",
      "  warnings.warn(f\"A NumPy version >={np_minversion} and <{np_maxversion}\"\n"
     ]
    }
   ],
   "source": [
    "import numpy as np\n",
    "import pandas as pd\n",
    "import keras\n",
    "import matplotlib.pyplot as plt\n",
    "from keras import layers"
   ]
  },
  {
   "cell_type": "code",
   "execution_count": 27,
   "metadata": {},
   "outputs": [
    {
     "data": {
      "text/html": [
       "<div>\n",
       "<style scoped>\n",
       "    .dataframe tbody tr th:only-of-type {\n",
       "        vertical-align: middle;\n",
       "    }\n",
       "\n",
       "    .dataframe tbody tr th {\n",
       "        vertical-align: top;\n",
       "    }\n",
       "\n",
       "    .dataframe thead th {\n",
       "        text-align: right;\n",
       "    }\n",
       "</style>\n",
       "<table border=\"1\" class=\"dataframe\">\n",
       "  <thead>\n",
       "    <tr style=\"text-align: right;\">\n",
       "      <th></th>\n",
       "      <th>Ano</th>\n",
       "      <th>Bagre_bandeira_art</th>\n",
       "      <th>Bagre_art</th>\n",
       "      <th>Prop_Bagre_bandeira_art</th>\n",
       "    </tr>\n",
       "  </thead>\n",
       "  <tbody>\n",
       "    <tr>\n",
       "      <th>0</th>\n",
       "      <td>2015</td>\n",
       "      <td>0.2650</td>\n",
       "      <td>13.62300</td>\n",
       "      <td>0.019452</td>\n",
       "    </tr>\n",
       "    <tr>\n",
       "      <th>1</th>\n",
       "      <td>2017</td>\n",
       "      <td>5.5220</td>\n",
       "      <td>28.69305</td>\n",
       "      <td>0.192451</td>\n",
       "    </tr>\n",
       "    <tr>\n",
       "      <th>2</th>\n",
       "      <td>2018</td>\n",
       "      <td>7.9838</td>\n",
       "      <td>46.76420</td>\n",
       "      <td>0.170725</td>\n",
       "    </tr>\n",
       "    <tr>\n",
       "      <th>3</th>\n",
       "      <td>2019</td>\n",
       "      <td>10.1999</td>\n",
       "      <td>67.93711</td>\n",
       "      <td>0.150137</td>\n",
       "    </tr>\n",
       "    <tr>\n",
       "      <th>4</th>\n",
       "      <td>2020</td>\n",
       "      <td>3.3465</td>\n",
       "      <td>34.10145</td>\n",
       "      <td>0.098134</td>\n",
       "    </tr>\n",
       "  </tbody>\n",
       "</table>\n",
       "</div>"
      ],
      "text/plain": [
       "    Ano  Bagre_bandeira_art  Bagre_art  Prop_Bagre_bandeira_art\n",
       "0  2015              0.2650   13.62300                 0.019452\n",
       "1  2017              5.5220   28.69305                 0.192451\n",
       "2  2018              7.9838   46.76420                 0.170725\n",
       "3  2019             10.1999   67.93711                 0.150137\n",
       "4  2020              3.3465   34.10145                 0.098134"
      ]
     },
     "execution_count": 27,
     "metadata": {},
     "output_type": "execute_result"
    }
   ],
   "source": [
    "#Coletando dados\n",
    "\n",
    "\n",
    "###########\n",
    "#Para refazer esse tem que somar os dados de Bagre_bandeira_art dos anos para prever com Bagre_art e depois apagar Bagre_bandeira_art\n",
    "\n",
    "###########\n",
    "\n",
    "\n",
    "df = pd.read_excel('/home/andre/Área de Trabalho/Reconstrução da Estatística Pesqueira BR/Rio de Janeiro/Peixes/Siluriformes/Desagregações- RJ_Reconstrucao_Siluriformes_2024_08_20.xlsx')\n",
    "\n",
    "dados = df[['Ano', 'Bagre_bandeira_art', 'Bagre_art']].dropna().reset_index(drop=True)\n",
    "\n",
    "\n",
    "\n",
    "#Fazendo as proporções\n",
    "for i in range(len(dados['Ano'])):\n",
    "  dados.loc[i,'Prop_Bagre_bandeira_art'] = dados.loc[i,'Bagre_bandeira_art'] / dados.loc[i,'Bagre_art']\n",
    "\n",
    "\n",
    "anos_com_dados = dados[\"Ano\"].values\n",
    "anos_para_prever = np.array([1962,1963,1964,1966,1971,1976,1977,1978,1979,1980,1981,1982,1983,1984,1985,1986,1987,1988,1989,1995,1996,1997,1998,1999,2000,2001,2002,2003,2004,2005,2006,2007,2008,2009,2010,2011,2012,2013,2014])\n",
    "todos_anos = np.concatenate((anos_para_prever, anos_com_dados))\n",
    "todos_anos.sort()\n",
    "\n",
    "prop= dados['Prop_Bagre_bandeira_art'].values\n",
    "dados.head()\n"
   ]
  },
  {
   "cell_type": "code",
   "execution_count": 28,
   "metadata": {},
   "outputs": [],
   "source": [
    "#Normalização dos dados\n",
    "\n",
    "ano_mean = np.mean(anos_com_dados)\n",
    "ano_std = np.std(anos_com_dados)\n",
    "anos_para_prever_norm = (anos_para_prever - ano_mean)/ano_std\n",
    "anos_com_dados_norm = (anos_com_dados - ano_mean)/ano_std\n",
    "\n",
    "prop_mean = np.mean(prop)\n",
    "prop_std = np.std(prop)\n",
    "prop_norm = (prop - prop_mean)/prop_std\n"
   ]
  },
  {
   "cell_type": "code",
   "execution_count": 22,
   "metadata": {},
   "outputs": [
    {
     "name": "stdout",
     "output_type": "stream",
     "text": [
      "Epoch 1/5\n"
     ]
    },
    {
     "name": "stderr",
     "output_type": "stream",
     "text": [
      "/home/andre/.local/lib/python3.10/site-packages/keras/src/layers/core/dense.py:87: UserWarning: Do not pass an `input_shape`/`input_dim` argument to a layer. When using Sequential models, prefer using an `Input(shape)` object as the first layer in the model instead.\n",
      "  super().__init__(activity_regularizer=activity_regularizer, **kwargs)\n"
     ]
    },
    {
     "name": "stdout",
     "output_type": "stream",
     "text": [
      "\u001b[1m1/1\u001b[0m \u001b[32m━━━━━━━━━━━━━━━━━━━━\u001b[0m\u001b[37m\u001b[0m \u001b[1m1s\u001b[0m 1s/step - loss: 0.9978\n",
      "Epoch 2/5\n",
      "\u001b[1m1/1\u001b[0m \u001b[32m━━━━━━━━━━━━━━━━━━━━\u001b[0m\u001b[37m\u001b[0m \u001b[1m0s\u001b[0m 17ms/step - loss: 0.9628\n",
      "Epoch 3/5\n",
      "\u001b[1m1/1\u001b[0m \u001b[32m━━━━━━━━━━━━━━━━━━━━\u001b[0m\u001b[37m\u001b[0m \u001b[1m0s\u001b[0m 17ms/step - loss: 0.9392\n",
      "Epoch 4/5\n",
      "\u001b[1m1/1\u001b[0m \u001b[32m━━━━━━━━━━━━━━━━━━━━\u001b[0m\u001b[37m\u001b[0m \u001b[1m0s\u001b[0m 18ms/step - loss: 0.9142\n",
      "Epoch 5/5\n",
      "\u001b[1m1/1\u001b[0m \u001b[32m━━━━━━━━━━━━━━━━━━━━\u001b[0m\u001b[37m\u001b[0m \u001b[1m0s\u001b[0m 17ms/step - loss: 0.8886\n"
     ]
    }
   ],
   "source": [
    "#Fit do modelo e salvando seus pesos\n",
    "model = keras.Sequential([layers.Dense(96,activation='leaky_relu',input_shape=(1,)),\n",
    "                             layers.Dense(32,activation='leaky_relu'),\n",
    "                             layers.Dense(80,activation='leaky_relu'),\n",
    "                             layers.Dense(80,activation='leaky_relu'),\n",
    "                             layers.Dense(96,activation='leaky_relu'),\n",
    "                             layers.Dense(112,activation='leaky_relu'),\n",
    "                             layers.Dense(1,activation='linear')])\n",
    "\n",
    "opt = keras.optimizers.Nadam(learning_rate=0.001)\n",
    "model.compile(optimizer=opt, loss='mse')\n",
    "\n",
    "\n",
    "history = model.fit(anos_com_dados_norm,prop_norm, epochs=5, verbose=1)\n",
    "model.save_weights('/home/andre/Área de Trabalho/Reconstrução da Estatística Pesqueira BR/Rio de Janeiro/Peixes/Siluriformes/Bagre_bandeira/pesos prop art/.weights.h5', overwrite=True)"
   ]
  },
  {
   "cell_type": "code",
   "execution_count": 20,
   "metadata": {},
   "outputs": [],
   "source": [
    "model.load_weights('/home/andre/Área de Trabalho/Reconstrução da Estatística Pesqueira BR/Rio de Janeiro/Peixes/Siluriformes/Bagre_bandeira/pesos prop art/.weights.h5')"
   ]
  },
  {
   "cell_type": "code",
   "execution_count": 29,
   "metadata": {},
   "outputs": [
    {
     "name": "stdout",
     "output_type": "stream",
     "text": [
      "\u001b[1m1/1\u001b[0m \u001b[32m━━━━━━━━━━━━━━━━━━━━\u001b[0m\u001b[37m\u001b[0m \u001b[1m0s\u001b[0m 12ms/step\n",
      "\u001b[1m2/2\u001b[0m \u001b[32m━━━━━━━━━━━━━━━━━━━━\u001b[0m\u001b[37m\u001b[0m \u001b[1m0s\u001b[0m 1ms/step \n",
      "\u001b[1m2/2\u001b[0m \u001b[32m━━━━━━━━━━━━━━━━━━━━\u001b[0m\u001b[37m\u001b[0m \u001b[1m0s\u001b[0m 2ms/step \n",
      "Previsões dos dados ausentes: [[0.02235622]\n",
      " [0.02386201]\n",
      " [0.02536786]\n",
      " [0.02837951]\n",
      " [0.03590859]\n",
      " [0.04344007]\n",
      " [0.04494638]\n",
      " [0.04645265]\n",
      " [0.04795895]\n",
      " [0.04946526]\n",
      " [0.05097156]\n",
      " [0.05247784]\n",
      " [0.05398415]\n",
      " [0.05549045]\n",
      " [0.05699673]\n",
      " [0.05850304]\n",
      " [0.06000933]\n",
      " [0.0615156 ]\n",
      " [0.06302165]\n",
      " [0.07205798]\n",
      " [0.07356404]\n",
      " [0.07507009]\n",
      " [0.07657614]\n",
      " [0.07808243]\n",
      " [0.07959387]\n",
      " [0.08110778]\n",
      " [0.08262771]\n",
      " [0.08415362]\n",
      " [0.0856838 ]\n",
      " [0.08721411]\n",
      " [0.08874442]\n",
      " [0.09028283]\n",
      " [0.0918223 ]\n",
      " [0.09336875]\n",
      " [0.09491766]\n",
      " [0.09647389]\n",
      " [0.09804064]\n",
      " [0.099641  ]\n",
      " [0.10130279]]\n"
     ]
    },
    {
     "data": {
      "image/png": "[encoded data removed]",
      "text/plain": [
       "<Figure size 432x288 with 1 Axes>"
      ]
     },
     "metadata": {
      "needs_background": "light"
     },
     "output_type": "display_data"
    }
   ],
   "source": [
    "#Previsões\n",
    "prev_disponiveis = model.predict(anos_com_dados_norm)*prop_std + prop_mean\n",
    "prev_ausentes = model.predict(anos_para_prever_norm)*prop_std + prop_mean\n",
    "\n",
    "#Colocando valores negativos para 0\n",
    "for i in range(len(prev_ausentes)):\n",
    "    if prev_ausentes[i]<0:\n",
    "        prev_ausentes[i]=0\n",
    "    if prev_ausentes[i]>1:\n",
    "        prev_ausentes[i]=1\n",
    "\n",
    "#Plot dos dados e previsões\n",
    "f1=plt.figure(1).add_subplot()\n",
    "f1.scatter(anos_com_dados,prop,label='Dados disponíveis')\n",
    "f1.scatter(anos_para_prever,prev_ausentes, color='red', label='Previsões dos dados ausentes')\n",
    "\n",
    "#Plot do fit da rede\n",
    "p = np.linspace(-2,2,50)\n",
    "y = model.predict(p)*prop_std + prop_mean\n",
    "f1.plot(p*ano_std + ano_mean,y,color='orange',label='Fit da rede')\n",
    "\n",
    "#Print das previsões\n",
    "print('Previsões dos dados ausentes:', prev_ausentes)\n",
    "\n",
    "\n",
    "plt.legend()\n",
    "plt.show()"
   ]
  },
  {
   "cell_type": "code",
   "execution_count": 24,
   "metadata": {},
   "outputs": [
    {
     "data": {
      "image/png": "[encoded data removed]",
      "text/plain": [
       "<Figure size 432x288 with 1 Axes>"
      ]
     },
     "metadata": {
      "needs_background": "light"
     },
     "output_type": "display_data"
    }
   ],
   "source": [
    "loss = history.history['loss']\n",
    "plt.plot(loss,label='loss')\n",
    "plt.legend()\n",
    "plt.show()"
   ]
  },
  {
   "cell_type": "code",
   "execution_count": 31,
   "metadata": {},
   "outputs": [
    {
     "name": "stdout",
     "output_type": "stream",
     "text": [
      "\u001b[1m3/3\u001b[0m \u001b[32m━━━━━━━━━━━━━━━━━━━━\u001b[0m\u001b[37m\u001b[0m \u001b[1m0s\u001b[0m 3ms/step \n",
      "     Ano  Bagre_bandeira_art\n",
      "0   1950                 NaN\n",
      "1   1951                 NaN\n",
      "2   1952                 NaN\n",
      "3   1953                 NaN\n",
      "4   1954                 NaN\n",
      "5   1955                 NaN\n",
      "6   1956                 NaN\n",
      "7   1957                 NaN\n",
      "8   1958                 NaN\n",
      "9   1959                 NaN\n",
      "10  1960                 NaN\n",
      "11  1961                 NaN\n",
      "12  1962           13.405313\n",
      "13  1963           16.787498\n",
      "14  1964           18.285654\n",
      "15  1965                 NaN\n",
      "16  1966           16.210009\n",
      "17  1967                 NaN\n",
      "18  1968                 NaN\n",
      "19  1969                 NaN\n",
      "20  1970                 NaN\n",
      "21  1971           17.257050\n",
      "22  1972                 NaN\n",
      "23  1973                 NaN\n",
      "24  1974                 NaN\n",
      "25  1975                 NaN\n",
      "26  1976            2.903906\n",
      "27  1977           14.606460\n",
      "28  1978           42.922249\n",
      "29  1979            4.508142\n",
      "30  1980           11.228613\n",
      "31  1981           30.531965\n",
      "32  1982           58.407841\n",
      "33  1983           22.889278\n",
      "34  1984           17.202040\n",
      "35  1985           36.078934\n",
      "36  1986           25.624332\n",
      "37  1987           29.224545\n",
      "38  1988           26.759285\n",
      "39  1989           33.905647\n",
      "40  1990                 NaN\n",
      "41  1991                 NaN\n",
      "42  1992                 NaN\n",
      "43  1993                 NaN\n",
      "44  1994                 NaN\n",
      "45  1995            5.368320\n",
      "46  1996            2.721869\n",
      "47  1997            6.831378\n",
      "48  1998            5.972939\n",
      "49  1999            4.021245\n",
      "50  2000            6.128728\n",
      "51  2001           22.466856\n",
      "52  2002            9.502187\n",
      "53  2003            9.593513\n",
      "54  2004            1.670834\n",
      "55  2005            1.831496\n",
      "56  2006            2.174238\n",
      "57  2007           14.354970\n",
      "58  2008            2.855765\n",
      "59  2009            2.121338\n",
      "60  2010            1.501408\n",
      "61  2011            1.526024\n",
      "62  2012            1.601984\n",
      "63  2013            3.901344\n",
      "64  2014            1.676156\n",
      "65  2015            0.265000\n",
      "66  2016                 NaN\n",
      "67  2017            5.522000\n",
      "68  2018            7.983800\n",
      "69  2019           10.199900\n",
      "70  2020            3.346500\n",
      "71  2021            3.413000\n",
      "72  2022            1.136000\n"
     ]
    }
   ],
   "source": [
    "#Lista de anos sem buracos normalizada e sua predição      (para poder me referir por indices)\n",
    "\n",
    "anos = np.arange(1950,np.max(anos_para_prever)+1)\n",
    "anos_norm = (anos-ano_mean)/ano_std\n",
    "prev_continua = model.predict(anos_norm)*prop_std + prop_mean\n",
    "\n",
    "for i in range(len(prev_continua)):\n",
    "    if prev_continua[i]<0:\n",
    "        prev_continua[i]=0\n",
    "    if prev_continua[i]>=1:\n",
    "        prev_continua[i]=1\n",
    "\n",
    "\n",
    "df_preenchido = df[['Ano','Bagre_bandeira_art']]\n",
    "for i in range(len(prev_continua)):\n",
    "    if i+1950 in anos_para_prever:\n",
    "      df_preenchido.loc[i,'Bagre_bandeira_art']=df.loc[i,'Bagre_art']*prev_continua[i]\n",
    "\n",
    "\n",
    "with pd.option_context('display.max_rows', None,):\n",
    "    print(df_preenchido)\n",
    "\n",
    "\n",
    "#Planilha com os dados preenchidos\n",
    "df_preenchido.to_excel('/home/andre/Área de Trabalho/Reconstrução da Estatística Pesqueira BR/Rio de Janeiro/Peixes/Siluriformes/Bagre_bandeira/Desagregação Bagre_bandeira_art.xlsx')"
   ]
  }
 ],
 "metadata": {
  "kernelspec": {
   "display_name": "Python 3",
   "language": "python",
   "name": "python3"
  },
  "language_info": {
   "codemirror_mode": {
    "name": "ipython",
    "version": 3
   },
   "file_extension": ".py",
   "mimetype": "text/x-python",
   "name": "python",
   "nbconvert_exporter": "python",
   "pygments_lexer": "ipython3",
   "version": "3.10.12"
  }
 },
 "nbformat": 4,
 "nbformat_minor": 2
}
