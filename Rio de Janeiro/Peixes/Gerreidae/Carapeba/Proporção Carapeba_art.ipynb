{
 "cells": [
  {
   "cell_type": "code",
   "execution_count": 2,
   "metadata": {},
   "outputs": [
    {
     "name": "stderr",
     "output_type": "stream",
     "text": [
      "2024-08-16 06:46:06.711627: I tensorflow/core/util/port.cc:113] oneDNN custom operations are on. You may see slightly different numerical results due to floating-point round-off errors from different computation orders. To turn them off, set the environment variable `TF_ENABLE_ONEDNN_OPTS=0`.\n",
      "2024-08-16 06:46:07.025209: I tensorflow/core/platform/cpu_feature_guard.cc:210] This TensorFlow binary is optimized to use available CPU instructions in performance-critical operations.\n",
      "To enable the following instructions: AVX2 AVX_VNNI FMA, in other operations, rebuild TensorFlow with the appropriate compiler flags.\n",
      "2024-08-16 06:46:07.739668: W tensorflow/compiler/tf2tensorrt/utils/py_utils.cc:38] TF-TRT Warning: Could not find TensorRT\n",
      "/usr/lib/python3/dist-packages/scipy/__init__.py:146: UserWarning: A NumPy version >=1.17.3 and <1.25.0 is required for this version of SciPy (detected version 1.26.4\n",
      "  warnings.warn(f\"A NumPy version >={np_minversion} and <{np_maxversion}\"\n"
     ]
    }
   ],
   "source": [
    "import numpy as np\n",
    "import pandas as pd\n",
    "import keras\n",
    "import matplotlib.pyplot as plt\n",
    "from keras import layers"
   ]
  },
  {
   "cell_type": "code",
   "execution_count": 3,
   "metadata": {},
   "outputs": [
    {
     "data": {
      "text/html": [
       "<div>\n",
       "<style scoped>\n",
       "    .dataframe tbody tr th:only-of-type {\n",
       "        vertical-align: middle;\n",
       "    }\n",
       "\n",
       "    .dataframe tbody tr th {\n",
       "        vertical-align: top;\n",
       "    }\n",
       "\n",
       "    .dataframe thead th {\n",
       "        text-align: right;\n",
       "    }\n",
       "</style>\n",
       "<table border=\"1\" class=\"dataframe\">\n",
       "  <thead>\n",
       "    <tr style=\"text-align: right;\">\n",
       "      <th></th>\n",
       "      <th>Ano</th>\n",
       "      <th>Carapeba_art</th>\n",
       "      <th>Carapeba_art_ind</th>\n",
       "      <th>Prop_Carapeba_art</th>\n",
       "    </tr>\n",
       "  </thead>\n",
       "  <tbody>\n",
       "    <tr>\n",
       "      <th>0</th>\n",
       "      <td>1978</td>\n",
       "      <td>80.0</td>\n",
       "      <td>84.0</td>\n",
       "      <td>0.952381</td>\n",
       "    </tr>\n",
       "    <tr>\n",
       "      <th>1</th>\n",
       "      <td>1981</td>\n",
       "      <td>121.0</td>\n",
       "      <td>128.0</td>\n",
       "      <td>0.945312</td>\n",
       "    </tr>\n",
       "    <tr>\n",
       "      <th>2</th>\n",
       "      <td>1983</td>\n",
       "      <td>271.0</td>\n",
       "      <td>286.0</td>\n",
       "      <td>0.947552</td>\n",
       "    </tr>\n",
       "    <tr>\n",
       "      <th>3</th>\n",
       "      <td>1984</td>\n",
       "      <td>270.0</td>\n",
       "      <td>302.0</td>\n",
       "      <td>0.894040</td>\n",
       "    </tr>\n",
       "    <tr>\n",
       "      <th>4</th>\n",
       "      <td>1985</td>\n",
       "      <td>302.0</td>\n",
       "      <td>389.0</td>\n",
       "      <td>0.776350</td>\n",
       "    </tr>\n",
       "  </tbody>\n",
       "</table>\n",
       "</div>"
      ],
      "text/plain": [
       "    Ano  Carapeba_art  Carapeba_art_ind  Prop_Carapeba_art\n",
       "0  1978          80.0              84.0           0.952381\n",
       "1  1981         121.0             128.0           0.945312\n",
       "2  1983         271.0             286.0           0.947552\n",
       "3  1984         270.0             302.0           0.894040\n",
       "4  1985         302.0             389.0           0.776350"
      ]
     },
     "execution_count": 3,
     "metadata": {},
     "output_type": "execute_result"
    }
   ],
   "source": [
    "#Coletando dados\n",
    "\n",
    "df = pd.read_excel('/home/andre/Área de Trabalho/Reconstrução da Estatística Pesqueira BR/Rio de Janeiro/Peixes/Gerreidae/RJ_Reconstrucao_Gerreidae_2024_08_07.xlsx')\n",
    "\n",
    "df_Carapeba = pd.DataFrame(df[['Ano','Carapeba_art','Carapeba_ind','Carapeba_art_ind']])\n",
    "\n",
    "#Somando art e ind em art_ind\n",
    "for i in range(len(df_Carapeba['Ano'])):\n",
    "  if pd.isnull(df_Carapeba.iloc[i,3])==True and pd.isnull(df_Carapeba.iloc[i,2])==False and pd.isnull(df_Carapeba.iloc[i,1])==False:\n",
    "    df_Carapeba.iloc[i,3] = df_Carapeba.iloc[i,2] + df_Carapeba.iloc[i,1] \n",
    "\n",
    "\n",
    "dados = df_Carapeba[['Ano','Carapeba_art','Carapeba_art_ind']].dropna().reset_index(drop=True)\n",
    "\n",
    "#Fazendo as proporções\n",
    "for i in range(len(dados['Ano'])):\n",
    "  dados.loc[i,'Prop_Carapeba_art'] = dados.loc[i,'Carapeba_art'] / dados.loc[i,'Carapeba_art_ind']\n",
    "\n",
    "\n",
    "anos_com_dados = dados[\"Ano\"].values\n",
    "anos_para_prever = np.array([1976,1977])\n",
    "todos_anos = np.concatenate((anos_para_prever, anos_com_dados))\n",
    "todos_anos.sort()\n",
    "\n",
    "\n",
    "\n",
    "prop = dados['Prop_Carapeba_art'].values\n",
    "\n",
    "dados.head()"
   ]
  },
  {
   "cell_type": "code",
   "execution_count": 4,
   "metadata": {},
   "outputs": [],
   "source": [
    "#Normalização dos dados\n",
    "\n",
    "ano_mean = np.mean(anos_com_dados)\n",
    "ano_std = np.std(anos_com_dados)\n",
    "anos_para_prever_norm = (anos_para_prever - ano_mean)/ano_std\n",
    "anos_com_dados_norm = (anos_com_dados - ano_mean)/ano_std\n",
    "\n",
    "prop_mean = np.mean(prop)\n",
    "prop_std = np.std(prop)\n",
    "prop_norm = (prop - prop_mean)/prop_std"
   ]
  },
  {
   "cell_type": "code",
   "execution_count": 5,
   "metadata": {},
   "outputs": [
    {
     "name": "stderr",
     "output_type": "stream",
     "text": [
      "/home/andre/.local/lib/python3.10/site-packages/keras/src/layers/core/dense.py:87: UserWarning: Do not pass an `input_shape`/`input_dim` argument to a layer. When using Sequential models, prefer using an `Input(shape)` object as the first layer in the model instead.\n",
      "  super().__init__(activity_regularizer=activity_regularizer, **kwargs)\n"
     ]
    }
   ],
   "source": [
    "#Fit do modelo e salvando seus pesos\n",
    "model = keras.Sequential([layers.Dense(96,activation='leaky_relu',input_shape=(1,)),\n",
    "                             layers.Dense(32,activation='leaky_relu'),\n",
    "                             layers.Dense(80,activation='leaky_relu'),\n",
    "                             layers.Dense(80,activation='leaky_relu'),\n",
    "                             layers.Dense(96,activation='leaky_relu'),\n",
    "                             layers.Dense(112,activation='leaky_relu'),\n",
    "                             layers.Dense(1,activation='linear')])\n",
    "\n",
    "opt = keras.optimizers.Adam(learning_rate=0.001)\n",
    "model.compile(optimizer=opt, loss='mse')\n",
    "\n",
    "\n",
    "#history = model.fit(anos_com_dados_norm,prop_norm, epochs=70, verbose=1)\n",
    "#model.save_weights('/home/andre/Área de Trabalho/Reconstrução da Estatística Pesqueira BR/Rio de Janeiro/Peixes/Gerreidae/Carapeba/pesos prop art/.weights.h5', overwrite=True)"
   ]
  },
  {
   "cell_type": "code",
   "execution_count": 6,
   "metadata": {},
   "outputs": [
    {
     "name": "stderr",
     "output_type": "stream",
     "text": [
      "/home/andre/.local/lib/python3.10/site-packages/keras/src/saving/saving_lib.py:415: UserWarning: Skipping variable loading for optimizer 'adam', because it has 2 variables whereas the saved optimizer has 30 variables. \n",
      "  saveable.load_own_variables(weights_store.get(inner_path))\n"
     ]
    }
   ],
   "source": [
    "model.load_weights('/home/andre/Área de Trabalho/Reconstrução da Estatística Pesqueira BR/Rio de Janeiro/Peixes/Gerreidae/Carapeba/pesos prop art/.weights.h5')"
   ]
  },
  {
   "cell_type": "code",
   "execution_count": 7,
   "metadata": {},
   "outputs": [
    {
     "name": "stdout",
     "output_type": "stream",
     "text": [
      "\u001b[1m1/1\u001b[0m \u001b[32m━━━━━━━━━━━━━━━━━━━━\u001b[0m\u001b[37m\u001b[0m \u001b[1m0s\u001b[0m 76ms/step\n",
      "\u001b[1m1/1\u001b[0m \u001b[32m━━━━━━━━━━━━━━━━━━━━\u001b[0m\u001b[37m\u001b[0m \u001b[1m0s\u001b[0m 38ms/step\n",
      "\u001b[1m2/2\u001b[0m \u001b[32m━━━━━━━━━━━━━━━━━━━━\u001b[0m\u001b[37m\u001b[0m \u001b[1m0s\u001b[0m 2ms/step \n",
      "Previsões dos dados ausentes: [[0.9807838 ]\n",
      " [0.97055495]]\n"
     ]
    },
    {
     "data": {
      "image/png": "[encoded data removed]",
      "text/plain": [
       "<Figure size 432x288 with 1 Axes>"
      ]
     },
     "metadata": {
      "needs_background": "light"
     },
     "output_type": "display_data"
    }
   ],
   "source": [
    "#Previsões\n",
    "prev_disponiveis = model.predict(anos_com_dados_norm)*prop_std + prop_mean\n",
    "prev_ausentes = model.predict(anos_para_prever_norm)*prop_std + prop_mean\n",
    "\n",
    "#Colocando valores negativos para 0\n",
    "for i in range(len(prev_ausentes)):\n",
    "    if prev_ausentes[i]<0:\n",
    "        prev_ausentes[i]=0\n",
    "    if prev_ausentes[i]>=1:\n",
    "        prev_ausentes[i]=1\n",
    "\n",
    "#Plot dos dados e previsões\n",
    "f1=plt.figure(1).add_subplot()\n",
    "f1.scatter(anos_com_dados,prop,label='Dados disponíveis')\n",
    "f1.scatter(anos_para_prever,prev_ausentes, color='red', label='Previsões dos dados ausentes')\n",
    "\n",
    "#Plot do fit da rede\n",
    "p = np.linspace(-2,2,50)\n",
    "y = model.predict(p)*prop_std + prop_mean\n",
    "f1.plot(p*ano_std + ano_mean,y,color='orange',label='Fit da rede')\n",
    "\n",
    "#Print das previsões\n",
    "print('Previsões dos dados ausentes:', prev_ausentes)\n",
    "\n",
    "\n",
    "plt.legend()\n",
    "plt.show()"
   ]
  },
  {
   "cell_type": "code",
   "execution_count": 7,
   "metadata": {},
   "outputs": [
    {
     "data": {
      "image/png": "[encoded data removed]",
      "text/plain": [
       "<Figure size 432x288 with 1 Axes>"
      ]
     },
     "metadata": {
      "needs_background": "light"
     },
     "output_type": "display_data"
    }
   ],
   "source": [
    "loss = history.history['loss']\n",
    "plt.plot(loss,label='loss')\n",
    "plt.legend()\n",
    "plt.show()"
   ]
  },
  {
   "cell_type": "code",
   "execution_count": 8,
   "metadata": {},
   "outputs": [
    {
     "name": "stdout",
     "output_type": "stream",
     "text": [
      "\u001b[1m1/1\u001b[0m \u001b[32m━━━━━━━━━━━━━━━━━━━━\u001b[0m\u001b[37m\u001b[0m \u001b[1m0s\u001b[0m 12ms/step\n",
      "     Ano  Carapeba_art\n",
      "0   1950           NaN\n",
      "1   1951           NaN\n",
      "2   1952           NaN\n",
      "3   1953           NaN\n",
      "4   1954           NaN\n",
      "5   1955           NaN\n",
      "6   1956           NaN\n",
      "7   1957           NaN\n",
      "8   1958           NaN\n",
      "9   1959           NaN\n",
      "10  1960           NaN\n",
      "11  1961           NaN\n",
      "12  1962           NaN\n",
      "13  1963           NaN\n",
      "14  1964           NaN\n",
      "15  1965           NaN\n",
      "16  1966           NaN\n",
      "17  1967           NaN\n",
      "18  1968           NaN\n",
      "19  1969           NaN\n",
      "20  1970           NaN\n",
      "21  1971           NaN\n",
      "22  1972           NaN\n",
      "23  1973           NaN\n",
      "24  1974           NaN\n",
      "25  1975           NaN\n",
      "26  1976    152.021469\n",
      "27  1977    156.259354\n",
      "28  1978     80.000000\n",
      "29  1979     72.000000\n",
      "30  1980     65.000000\n",
      "31  1981    121.000000\n",
      "32  1982    218.000000\n",
      "33  1983    271.000000\n",
      "34  1984    270.000000\n",
      "35  1985    302.000000\n",
      "36  1986    370.000000\n",
      "37  1987    460.000000\n",
      "38  1988    597.000000\n",
      "39  1989    805.000000\n",
      "40  1990           NaN\n",
      "41  1991           NaN\n",
      "42  1992           NaN\n",
      "43  1993           NaN\n",
      "44  1994           NaN\n",
      "45  1995    164.320000\n",
      "46  1996    667.387000\n",
      "47  1997    875.320000\n",
      "48  1998           NaN\n",
      "49  1999           NaN\n",
      "50  2000           NaN\n",
      "51  2001           NaN\n",
      "52  2002           NaN\n",
      "53  2003           NaN\n",
      "54  2004           NaN\n",
      "55  2005           NaN\n",
      "56  2006           NaN\n",
      "57  2007           NaN\n",
      "58  2008      2.630000\n",
      "59  2009      1.061000\n",
      "60  2010      0.002000\n",
      "61  2011      2.191000\n",
      "62  2012      1.758000\n",
      "63  2013     24.857000\n",
      "64  2014     11.758000\n",
      "65  2015      0.710000\n",
      "66  2016           NaN\n",
      "67  2017      2.738500\n",
      "68  2018      7.616300\n",
      "69  2019      8.444900\n",
      "70  2020     13.743410\n",
      "71  2021     12.790900\n",
      "72  2022      6.675557\n"
     ]
    }
   ],
   "source": [
    "#Lista de anos sem buracos normalizada e sua predição      (para poder me referir por indices)\n",
    "\n",
    "anos = np.arange(1950,np.max(anos_para_prever)+1)\n",
    "anos_norm = (anos-ano_mean)/ano_std\n",
    "prev_continua = model.predict(anos_norm)*prop_std + prop_mean\n",
    "\n",
    "for i in range(len(prev_continua)):\n",
    "    if prev_continua[i]<0:\n",
    "        prev_continua[i]=0\n",
    "    if prev_continua[i]>=1:\n",
    "        prev_continua[i]=1\n",
    "\n",
    "\n",
    "df_preenchido = df[['Ano','Carapeba_art']]\n",
    "for i in range(len(prev_continua)):\n",
    "    if i+1950 in anos_para_prever:\n",
    "      df_preenchido.loc[i,'Carapeba_art']=df.loc[i,'Carapeba_art_ind']*prev_continua[i]\n",
    "\n",
    "\n",
    "with pd.option_context('display.max_rows', None,):\n",
    "    print(df_preenchido)\n",
    "\n",
    "\n",
    "#Planilha com os dados preenchidos\n",
    "df_preenchido.to_excel('/home/andre/Área de Trabalho/Reconstrução da Estatística Pesqueira BR/Rio de Janeiro/Peixes/Gerreidae/Carapeba/Previsão Carapeba_art_1976-1977.xlsx')\n"
   ]
  },
  {
   "cell_type": "code",
   "execution_count": 14,
   "metadata": {},
   "outputs": [
    {
     "data": {
      "image/png": "[encoded data removed]",
      "text/plain": [
       "<Figure size 432x288 with 1 Axes>"
      ]
     },
     "metadata": {
      "needs_background": "light"
     },
     "output_type": "display_data"
    }
   ],
   "source": [
    "for i in range(len(df_preenchido['Ano'])):\n",
    "  if i+1950 in anos_para_prever:\n",
    "    plt.scatter(df_preenchido['Ano'].values[i],df_preenchido['Carapeba_art'].values[i],color='red')\n",
    "  else:\n",
    "    plt.scatter(df_preenchido['Ano'].values[i],df_preenchido['Carapeba_art'].values[i],color='blue')"
   ]
  }
 ],
 "metadata": {
  "kernelspec": {
   "display_name": "Python 3",
   "language": "python",
   "name": "python3"
  },
  "language_info": {
   "codemirror_mode": {
    "name": "ipython",
    "version": 3
   },
   "file_extension": ".py",
   "mimetype": "text/x-python",
   "name": "python",
   "nbconvert_exporter": "python",
   "pygments_lexer": "ipython3",
   "version": "3.10.12"
  }
 },
 "nbformat": 4,
 "nbformat_minor": 2
}
