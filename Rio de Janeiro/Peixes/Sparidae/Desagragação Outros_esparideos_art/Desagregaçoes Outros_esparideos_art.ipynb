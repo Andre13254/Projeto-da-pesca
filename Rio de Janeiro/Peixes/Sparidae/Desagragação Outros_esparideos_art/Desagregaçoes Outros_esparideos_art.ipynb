{
 "cells": [
  {
   "cell_type": "code",
   "execution_count": 1,
   "metadata": {},
   "outputs": [],
   "source": [
    "import numpy as np\n",
    "import pandas as pd"
   ]
  },
  {
   "cell_type": "code",
   "execution_count": 2,
   "metadata": {},
   "outputs": [],
   "source": [
    "#Proporções das especies que receberao valores da desagregação\n",
    "prop_Peixe_pena_art= np.load('/home/andre/Área de Trabalho/Reconstrução da Estatística Pesqueira BR/Rio de Janeiro/Peixes/Sparidae/Desagragação Outros_esparideos_art/prev_Peixe_pena_art.npy').flatten()\n",
    "prop_Marimba_art= np.load('/home/andre/Área de Trabalho/Reconstrução da Estatística Pesqueira BR/Rio de Janeiro/Peixes/Sparidae/Desagragação Outros_esparideos_art/prev_Marimba_art.npy').flatten()"
   ]
  },
  {
   "cell_type": "code",
   "execution_count": 3,
   "metadata": {},
   "outputs": [],
   "source": [
    "#Soma das proporções\n",
    "prop_soma = prop_Peixe_pena_art + prop_Marimba_art \n",
    "#Dividindo proporções pela soma para que de sempre 1\n",
    "for i in range(len(prop_Peixe_pena_art)):\n",
    "  prop_Peixe_pena_art[i] /= prop_soma[i] \n",
    "  prop_Marimba_art[i] /= prop_soma[i]\n"
   ]
  },
  {
   "cell_type": "code",
   "execution_count": 5,
   "metadata": {},
   "outputs": [
    {
     "name": "stdout",
     "output_type": "stream",
     "text": [
      "     Ano  Peixe_pena_art  Marimba_art\n",
      "30  1980        0.082262     2.917738\n",
      "31  1981        0.253734     8.746266\n",
      "32  1982        0.115861     3.884139\n",
      "33  1983        0.178433     5.821567\n",
      "34  1984        0.762953    24.237047\n",
      "35  1985        1.033507    31.966490\n",
      "36  1986        0.770617    23.229383\n",
      "37  1987        0.789207    23.210795\n",
      "38  1988        0.740426    21.259573\n",
      "39  1989        0.240995     6.759005\n"
     ]
    }
   ],
   "source": [
    "df_prev = pd.read_excel('/home/andre/Área de Trabalho/Reconstrução da Estatística Pesqueira BR/Rio de Janeiro/Peixes/Sparidae/RJ_Reconstrucao_Sparidae_2024_08_15.xlsx')\n",
    "df_prev = df_prev[['Ano','Peixe_pena_art','Marimba_art']]\n",
    "\n",
    "\n",
    "df_Outros_esparideos_art = pd.read_excel('/home/andre/Área de Trabalho/Reconstrução da Estatística Pesqueira BR/Rio de Janeiro/Peixes/Sparidae/RJ_Reconstrucao_Sparidae_2024_08_15.xlsx')\n",
    "df_Outros_esparideos_art = df_Outros_esparideos_art[['Ano','Outros_esparideos_art']]\n",
    "\n",
    "anos_para_prever = np.array([1980,1981,1982,1983,1984,1985,1986,1987,1988,1989])\n",
    "\n",
    "for i in range(len(prop_Peixe_pena_art)):\n",
    "    if i+1950 in anos_para_prever:\n",
    "      df_prev.loc[i,'Peixe_pena_art'] = df_Outros_esparideos_art.loc[i,'Outros_esparideos_art']*prop_Peixe_pena_art[i]\n",
    "      df_prev.loc[i,'Marimba_art'] = df_Outros_esparideos_art.loc[i,'Outros_esparideos_art']*prop_Marimba_art[i]\n",
    "\n",
    "df_prev = df_prev.loc[1980-1950:1989-1950,:]\n",
    "with pd.option_context('display.max_rows', None,):\n",
    "   print(df_prev)\n",
    "\n",
    "df_prev.to_excel('/home/andre/Área de Trabalho/Reconstrução da Estatística Pesqueira BR/Rio de Janeiro/Peixes/Sparidae/Desagragação Outros_esparideos_art/Desagragação Outros_esparideos_art.xlsx')"
   ]
  }
 ],
 "metadata": {
  "kernelspec": {
   "display_name": "Python 3",
   "language": "python",
   "name": "python3"
  },
  "language_info": {
   "codemirror_mode": {
    "name": "ipython",
    "version": 3
   },
   "file_extension": ".py",
   "mimetype": "text/x-python",
   "name": "python",
   "nbconvert_exporter": "python",
   "pygments_lexer": "ipython3",
   "version": "3.10.12"
  }
 },
 "nbformat": 4,
 "nbformat_minor": 2
}
