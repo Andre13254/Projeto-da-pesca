{
 "cells": [
  {
   "cell_type": "code",
   "execution_count": 2,
   "metadata": {},
   "outputs": [],
   "source": [
    "import numpy as np\n",
    "import pandas as pd"
   ]
  },
  {
   "cell_type": "code",
   "execution_count": 3,
   "metadata": {},
   "outputs": [],
   "source": [
    "#Proporções das especies que receberao valores da desagregação\n",
    "prop_Pesc_goete_art_2010_2015= np.load('/home/andre/Área de Trabalho/Reconstrução da Estatística Pesqueira BR/Rio de Janeiro/Peixes/Sciaenidae/Desagregações Pescada_art 2010-2015/prev_Pesc_goete_art.npy').flatten()\n",
    "prop_Pesc_amarela_art_2010_2015= np.load('/home/andre/Área de Trabalho/Reconstrução da Estatística Pesqueira BR/Rio de Janeiro/Peixes/Sciaenidae/Desagregações Pescada_art 2010-2015/prev_Pesc_amarela_art.npy').flatten()\n",
    "prop_Pesc_bicuda_art_2010_2015=np.load('/home/andre/Área de Trabalho/Reconstrução da Estatística Pesqueira BR/Rio de Janeiro/Peixes/Sciaenidae/Desagregações Pescada_art 2010-2015/prev_Pesc_bicuda_art.npy').flatten()\n",
    "prop_Pesc_branca_art_2010_2015= np.load('/home/andre/Área de Trabalho/Reconstrução da Estatística Pesqueira BR/Rio de Janeiro/Peixes/Sciaenidae/Desagregações Pescada_art 2010-2015/prev_Pesc_branca_art.npy').flatten()\n",
    "prop_Pesc_cambucu_art_2010_2015=np.load('/home/andre/Área de Trabalho/Reconstrução da Estatística Pesqueira BR/Rio de Janeiro/Peixes/Sciaenidae/Desagregações Pescada_art 2010-2015/prev_Pesc_cambucu_art.npy').flatten()\n",
    "prop_Pesc_olhuda_art_2010_2015= np.load('/home/andre/Área de Trabalho/Reconstrução da Estatística Pesqueira BR/Rio de Janeiro/Peixes/Sciaenidae/Desagregações Pescada_art 2010-2015/prev_Pesc_olhuda_art.npy').flatten()\n",
    "prop_Pesc_faneca_art_2010_2015= np.load('/home/andre/Área de Trabalho/Reconstrução da Estatística Pesqueira BR/Rio de Janeiro/Peixes/Sciaenidae/Desagregações Pescada_art 2010-2015/prev_Pesc_faneca_art.npy').flatten()\n",
    "\n"
   ]
  },
  {
   "cell_type": "code",
   "execution_count": 4,
   "metadata": {},
   "outputs": [],
   "source": [
    "#Soma das proporções\n",
    "prop_soma = prop_Pesc_goete_art_2010_2015 + prop_Pesc_amarela_art_2010_2015 + prop_Pesc_bicuda_art_2010_2015  + prop_Pesc_branca_art_2010_2015 + prop_Pesc_cambucu_art_2010_2015 + prop_Pesc_olhuda_art_2010_2015 + prop_Pesc_faneca_art_2010_2015\n",
    "\n",
    "#Dividindo proporções pela soma para que de sempre 1\n",
    "for i in range(len(prop_Pesc_goete_art_2010_2015)):\n",
    "  prop_Pesc_goete_art_2010_2015[i] /= prop_soma[i] \n",
    "  prop_Pesc_amarela_art_2010_2015[i] /= prop_soma[i]\n",
    "  prop_Pesc_bicuda_art_2010_2015 [i] /= prop_soma[i]\n",
    "  prop_Pesc_branca_art_2010_2015[i] /= prop_soma[i]\n",
    "  prop_Pesc_cambucu_art_2010_2015[i] /= prop_soma[i]\n",
    "  prop_Pesc_olhuda_art_2010_2015[i] /= prop_soma[i]\n",
    "  prop_Pesc_faneca_art_2010_2015[i] /= prop_soma[i]\n"
   ]
  },
  {
   "cell_type": "code",
   "execution_count": 5,
   "metadata": {},
   "outputs": [
    {
     "name": "stdout",
     "output_type": "stream",
     "text": [
      "     Ano  Pesc_goete_art  Pesc_amarela_art  Pesc_bicuda_art  Pesc_branca_art  \\\n",
      "60  2010        0.656097          0.000000           0.0000         0.096818   \n",
      "61  2011       13.520261          0.000000           0.0000         2.240280   \n",
      "62  2012        8.594890          0.000000           0.0000         1.586784   \n",
      "63  2013       15.470119          0.000000           0.0000         3.162772   \n",
      "64  2014       21.951943          0.378109           0.0000         4.927358   \n",
      "65  2015       10.000965          0.376509           0.0000         2.449127   \n",
      "66  2016             NaN               NaN              NaN              NaN   \n",
      "67  2017       50.584400          3.760480           0.0020        16.724800   \n",
      "68  2018       59.108300          4.973190           0.1881        11.324910   \n",
      "69  2019       64.181900         11.486350           0.1343        17.562100   \n",
      "70  2020       33.811300          6.156900           0.0610        24.346820   \n",
      "71  2021       24.499900          4.413700           0.0150        29.480700   \n",
      "72  2022       12.211000          6.344800           0.0300        10.408140   \n",
      "\n",
      "    Pesc_cambucu_art  Pesc_olhuda_art  Pesc_faneca_art  \n",
      "60          0.072125         0.257442         0.009518  \n",
      "61          1.639234         5.238373         0.200850  \n",
      "62          1.143683         3.286803         0.130839  \n",
      "63          2.248354         5.834318         0.241437  \n",
      "64          3.478547         8.161607         0.351436  \n",
      "65          1.726381         3.662640         0.164378  \n",
      "66               NaN              NaN              NaN  \n",
      "67          9.204850        16.260900         0.945000  \n",
      "68         16.186200        23.635500         0.921000  \n",
      "69         12.300400        15.641850         1.189800  \n",
      "70         11.094100        11.649400         1.173000  \n",
      "71          7.555200        13.120500         0.525000  \n",
      "72          3.047900         4.841200         0.030500  \n"
     ]
    }
   ],
   "source": [
    "df_prev = pd.read_excel('/home/andre/Área de Trabalho/Reconstrução da Estatística Pesqueira BR/Rio de Janeiro/Peixes/Sciaenidae/RJ_Reconstrucao_Sciaenidae_2024_08_06.xlsx')\n",
    "df_prev = df_prev[['Ano','Pesc_goete_art','Pesc_amarela_art','Pesc_bicuda_art','Pesc_branca_art','Pesc_cambucu_art','Pesc_olhuda_art','Pesc_faneca_art']]\n",
    "\n",
    "\n",
    "df_Pescada_art = pd.read_excel('/home/andre/Área de Trabalho/Reconstrução da Estatística Pesqueira BR/Rio de Janeiro/Peixes/Sciaenidae/Desagregações Pescada_art 1962-2008/Previsão Pescada_art_1962-1977.xlsx')\n",
    "df_Pescada_art = df_Pescada_art[['Ano','Pescada_art']]\n",
    "\n",
    "anos_para_prever = np.array([2010,2011,2012,2013,2014,2015])\n",
    "\n",
    "for i in range(len(prop_Pesc_goete_art_2010_2015)):\n",
    "    if i+1950 in anos_para_prever:\n",
    "      df_prev.loc[i,'Pesc_goete_art'] = df_Pescada_art.loc[i,'Pescada_art']*prop_Pesc_goete_art_2010_2015[i]\n",
    "      df_prev.loc[i,'Pesc_amarela_art'] = df_Pescada_art.loc[i,'Pescada_art']*prop_Pesc_amarela_art_2010_2015[i]\n",
    "      df_prev.loc[i,'Pesc_bicuda_art'] = df_Pescada_art.loc[i,'Pescada_art']*prop_Pesc_bicuda_art_2010_2015[i]\n",
    "      df_prev.loc[i,'Pesc_branca_art'] = df_Pescada_art.loc[i,'Pescada_art']*prop_Pesc_branca_art_2010_2015[i]\n",
    "      df_prev.loc[i,'Pesc_cambucu_art'] = df_Pescada_art.loc[i,'Pescada_art']*prop_Pesc_cambucu_art_2010_2015[i]\n",
    "      df_prev.loc[i,'Pesc_olhuda_art'] = df_Pescada_art.loc[i,'Pescada_art']*prop_Pesc_olhuda_art_2010_2015[i]\n",
    "      df_prev.loc[i,'Pesc_faneca_art'] = df_Pescada_art.loc[i,'Pescada_art']*prop_Pesc_faneca_art_2010_2015[i]\n",
    "\n",
    "\n",
    "df_prev = df_prev.loc[2010-1950:,:]\n",
    "with pd.option_context('display.max_rows', None,):\n",
    "   print(df_prev)\n",
    "\n",
    "df_prev.to_excel('/home/andre/Área de Trabalho/Reconstrução da Estatística Pesqueira BR/Rio de Janeiro/Peixes/Sciaenidae/Desagregações Pescada_art 2010-2015/Desagregação Pescada_art 2010-2015.xlsx')"
   ]
  }
 ],
 "metadata": {
  "kernelspec": {
   "display_name": "Python 3",
   "language": "python",
   "name": "python3"
  },
  "language_info": {
   "codemirror_mode": {
    "name": "ipython",
    "version": 3
   },
   "file_extension": ".py",
   "mimetype": "text/x-python",
   "name": "python",
   "nbconvert_exporter": "python",
   "pygments_lexer": "ipython3",
   "version": "3.10.12"
  }
 },
 "nbformat": 4,
 "nbformat_minor": 2
}
