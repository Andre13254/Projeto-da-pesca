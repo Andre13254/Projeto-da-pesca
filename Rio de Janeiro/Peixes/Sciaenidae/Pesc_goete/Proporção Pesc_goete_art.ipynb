{
 "cells": [
  {
   "cell_type": "code",
   "execution_count": 1,
   "metadata": {},
   "outputs": [
    {
     "name": "stderr",
     "output_type": "stream",
     "text": [
      "2024-08-16 07:02:12.677779: I tensorflow/core/util/port.cc:113] oneDNN custom operations are on. You may see slightly different numerical results due to floating-point round-off errors from different computation orders. To turn them off, set the environment variable `TF_ENABLE_ONEDNN_OPTS=0`.\n",
      "2024-08-16 07:02:12.708002: I tensorflow/core/platform/cpu_feature_guard.cc:210] This TensorFlow binary is optimized to use available CPU instructions in performance-critical operations.\n",
      "To enable the following instructions: AVX2 AVX_VNNI FMA, in other operations, rebuild TensorFlow with the appropriate compiler flags.\n",
      "2024-08-16 07:02:13.166603: W tensorflow/compiler/tf2tensorrt/utils/py_utils.cc:38] TF-TRT Warning: Could not find TensorRT\n",
      "/usr/lib/python3/dist-packages/scipy/__init__.py:146: UserWarning: A NumPy version >=1.17.3 and <1.25.0 is required for this version of SciPy (detected version 1.26.4\n",
      "  warnings.warn(f\"A NumPy version >={np_minversion} and <{np_maxversion}\"\n"
     ]
    }
   ],
   "source": [
    "import numpy as np\n",
    "import pandas as pd\n",
    "import keras\n",
    "import matplotlib.pyplot as plt\n",
    "from keras import layers"
   ]
  },
  {
   "cell_type": "code",
   "execution_count": 2,
   "metadata": {},
   "outputs": [
    {
     "data": {
      "text/html": [
       "<div>\n",
       "<style scoped>\n",
       "    .dataframe tbody tr th:only-of-type {\n",
       "        vertical-align: middle;\n",
       "    }\n",
       "\n",
       "    .dataframe tbody tr th {\n",
       "        vertical-align: top;\n",
       "    }\n",
       "\n",
       "    .dataframe thead th {\n",
       "        text-align: right;\n",
       "    }\n",
       "</style>\n",
       "<table border=\"1\" class=\"dataframe\">\n",
       "  <thead>\n",
       "    <tr style=\"text-align: right;\">\n",
       "      <th></th>\n",
       "      <th>Ano</th>\n",
       "      <th>Pesc_goete_art</th>\n",
       "      <th>Pesc_goete_art_ind</th>\n",
       "      <th>Prop_Pesc_goete_art</th>\n",
       "    </tr>\n",
       "  </thead>\n",
       "  <tbody>\n",
       "    <tr>\n",
       "      <th>0</th>\n",
       "      <td>1968</td>\n",
       "      <td>163.589334</td>\n",
       "      <td>327.178669</td>\n",
       "      <td>0.500000</td>\n",
       "    </tr>\n",
       "    <tr>\n",
       "      <th>1</th>\n",
       "      <td>1969</td>\n",
       "      <td>188.177461</td>\n",
       "      <td>376.354921</td>\n",
       "      <td>0.500000</td>\n",
       "    </tr>\n",
       "    <tr>\n",
       "      <th>2</th>\n",
       "      <td>1978</td>\n",
       "      <td>65.000000</td>\n",
       "      <td>135.000000</td>\n",
       "      <td>0.481481</td>\n",
       "    </tr>\n",
       "    <tr>\n",
       "      <th>3</th>\n",
       "      <td>1979</td>\n",
       "      <td>23.000000</td>\n",
       "      <td>78.000000</td>\n",
       "      <td>0.294872</td>\n",
       "    </tr>\n",
       "    <tr>\n",
       "      <th>4</th>\n",
       "      <td>1980</td>\n",
       "      <td>275.000000</td>\n",
       "      <td>503.000000</td>\n",
       "      <td>0.546720</td>\n",
       "    </tr>\n",
       "  </tbody>\n",
       "</table>\n",
       "</div>"
      ],
      "text/plain": [
       "    Ano  Pesc_goete_art  Pesc_goete_art_ind  Prop_Pesc_goete_art\n",
       "0  1968      163.589334          327.178669             0.500000\n",
       "1  1969      188.177461          376.354921             0.500000\n",
       "2  1978       65.000000          135.000000             0.481481\n",
       "3  1979       23.000000           78.000000             0.294872\n",
       "4  1980      275.000000          503.000000             0.546720"
      ]
     },
     "execution_count": 2,
     "metadata": {},
     "output_type": "execute_result"
    }
   ],
   "source": [
    "#Coletando dados\n",
    "\n",
    "df = pd.read_excel('/home/andre/Área de Trabalho/Reconstrução da Estatística Pesqueira BR/Rio de Janeiro/Peixes/Sciaenidae/RJ_Reconstrucao_Sciaenidae_2024_08_06.xlsx')\n",
    "\n",
    "df_Pesc_goete = pd.DataFrame(df[['Ano','Pesc_goete_art','Pesc_goete_ind','Pesc_goete_art_ind']])\n",
    "\n",
    "#Somando art e ind em art_ind\n",
    "for i in range(len(df_Pesc_goete['Ano'])):\n",
    "  if pd.isnull(df_Pesc_goete.iloc[i,3])==True and pd.isnull(df_Pesc_goete.iloc[i,2])==False and pd.isnull(df_Pesc_goete.iloc[i,1])==False:\n",
    "    df_Pesc_goete.iloc[i,3] = df_Pesc_goete.iloc[i,2] + df_Pesc_goete.iloc[i,1] \n",
    "\n",
    "\n",
    "dados = df_Pesc_goete[['Ano','Pesc_goete_art','Pesc_goete_art_ind']].dropna().reset_index(drop=True)\n",
    "\n",
    "#Fazendo as proporções\n",
    "for i in range(len(dados['Ano'])):\n",
    "  dados.loc[i,'Prop_Pesc_goete_art'] = dados.loc[i,'Pesc_goete_art'] / dados.loc[i,'Pesc_goete_art_ind']\n",
    "\n",
    "\n",
    "anos_com_dados = dados[\"Ano\"].values\n",
    "anos_para_prever = np.array([1976,1977])\n",
    "todos_anos = np.concatenate((anos_para_prever, anos_com_dados))\n",
    "todos_anos.sort()\n",
    "\n",
    "\n",
    "\n",
    "prop = dados['Prop_Pesc_goete_art'].values\n",
    "\n",
    "dados.head()"
   ]
  },
  {
   "cell_type": "code",
   "execution_count": 3,
   "metadata": {},
   "outputs": [],
   "source": [
    "#Normalização dos dados\n",
    "\n",
    "ano_mean = np.mean(anos_com_dados)\n",
    "ano_std = np.std(anos_com_dados)\n",
    "anos_para_prever_norm = (anos_para_prever - ano_mean)/ano_std\n",
    "anos_com_dados_norm = (anos_com_dados - ano_mean)/ano_std\n",
    "\n",
    "prop_mean = np.mean(prop)\n",
    "prop_std = np.std(prop)\n",
    "prop_norm = (prop - prop_mean)/prop_std"
   ]
  },
  {
   "cell_type": "code",
   "execution_count": 4,
   "metadata": {},
   "outputs": [
    {
     "name": "stderr",
     "output_type": "stream",
     "text": [
      "/home/andre/.local/lib/python3.10/site-packages/keras/src/layers/core/dense.py:87: UserWarning: Do not pass an `input_shape`/`input_dim` argument to a layer. When using Sequential models, prefer using an `Input(shape)` object as the first layer in the model instead.\n",
      "  super().__init__(activity_regularizer=activity_regularizer, **kwargs)\n"
     ]
    }
   ],
   "source": [
    "#Fit do modelo e salvando seus pesos\n",
    "model = keras.Sequential([layers.Dense(96,activation='leaky_relu',input_shape=(1,)),\n",
    "                             layers.Dense(32,activation='leaky_relu'),\n",
    "                             layers.Dense(80,activation='leaky_relu'),\n",
    "                             layers.Dense(80,activation='leaky_relu'),\n",
    "                             layers.Dense(96,activation='leaky_relu'),\n",
    "                             layers.Dense(112,activation='leaky_relu'),\n",
    "                             layers.Dense(1,activation='linear')])\n",
    "\n",
    "opt = keras.optimizers.Adam(learning_rate=0.001)\n",
    "model.compile(optimizer=opt, loss='mse')\n",
    "\n",
    "\n",
    "#history = model.fit(anos_com_dados_norm,prop_norm, epochs=150, verbose=1)\n",
    "#model.save_weights('/home/andre/Área de Trabalho/Reconstrução da Estatística Pesqueira BR/Rio de Janeiro/Peixes/Sciaenidae/Pesc_goete/pesos prop art/.weights.h5', overwrite=True)"
   ]
  },
  {
   "cell_type": "code",
   "execution_count": 5,
   "metadata": {},
   "outputs": [
    {
     "name": "stderr",
     "output_type": "stream",
     "text": [
      "/home/andre/.local/lib/python3.10/site-packages/keras/src/saving/saving_lib.py:415: UserWarning: Skipping variable loading for optimizer 'adam', because it has 2 variables whereas the saved optimizer has 30 variables. \n",
      "  saveable.load_own_variables(weights_store.get(inner_path))\n"
     ]
    }
   ],
   "source": [
    "model.load_weights('/home/andre/Área de Trabalho/Reconstrução da Estatística Pesqueira BR/Rio de Janeiro/Peixes/Sciaenidae/Pesc_goete/pesos prop art/.weights.h5')"
   ]
  },
  {
   "cell_type": "code",
   "execution_count": 6,
   "metadata": {},
   "outputs": [
    {
     "name": "stdout",
     "output_type": "stream",
     "text": [
      "\u001b[1m2/2\u001b[0m \u001b[32m━━━━━━━━━━━━━━━━━━━━\u001b[0m\u001b[37m\u001b[0m \u001b[1m0s\u001b[0m 31ms/step\n",
      "\u001b[1m1/1\u001b[0m \u001b[32m━━━━━━━━━━━━━━━━━━━━\u001b[0m\u001b[37m\u001b[0m \u001b[1m0s\u001b[0m 11ms/step\n",
      "\u001b[1m2/2\u001b[0m \u001b[32m━━━━━━━━━━━━━━━━━━━━\u001b[0m\u001b[37m\u001b[0m \u001b[1m0s\u001b[0m 3ms/step \n",
      "Previsões dos dados ausentes: [[0.4995461 ]\n",
      " [0.48618093]]\n"
     ]
    },
    {
     "data": {
      "image/png": "[encoded data removed]",
      "text/plain": [
       "<Figure size 432x288 with 1 Axes>"
      ]
     },
     "metadata": {
      "needs_background": "light"
     },
     "output_type": "display_data"
    }
   ],
   "source": [
    "#Previsões\n",
    "prev_disponiveis = model.predict(anos_com_dados_norm)*prop_std + prop_mean\n",
    "prev_ausentes = model.predict(anos_para_prever_norm)*prop_std + prop_mean\n",
    "\n",
    "#Colocando valores negativos para 0\n",
    "for i in range(len(prev_ausentes)):\n",
    "    if prev_ausentes[i]<0:\n",
    "        prev_ausentes[i]=0\n",
    "    if prev_ausentes[i]>=1:\n",
    "        prev_ausentes[i]=1\n",
    "\n",
    "#Plot dos dados e previsões\n",
    "f1=plt.figure(1).add_subplot()\n",
    "f1.scatter(anos_com_dados,prop,label='Dados disponíveis')\n",
    "f1.scatter(anos_para_prever,prev_ausentes, color='red', label='Previsões dos dados ausentes')\n",
    "\n",
    "#Plot do fit da rede\n",
    "p = np.linspace(-2,2,50)\n",
    "y = model.predict(p)*prop_std + prop_mean\n",
    "f1.plot(p*ano_std + ano_mean,y,color='orange',label='Fit da rede')\n",
    "\n",
    "#Print das previsões\n",
    "print('Previsões dos dados ausentes:', prev_ausentes)\n",
    "\n",
    "\n",
    "plt.legend()\n",
    "plt.show()"
   ]
  },
  {
   "cell_type": "code",
   "execution_count": 7,
   "metadata": {},
   "outputs": [
    {
     "data": {
      "image/png": "[encoded data removed]",
      "text/plain": [
       "<Figure size 432x288 with 1 Axes>"
      ]
     },
     "metadata": {
      "needs_background": "light"
     },
     "output_type": "display_data"
    }
   ],
   "source": [
    "loss = history.history['loss']\n",
    "plt.plot(loss,label='loss')\n",
    "plt.legend()\n",
    "plt.show()"
   ]
  },
  {
   "cell_type": "code",
   "execution_count": 7,
   "metadata": {},
   "outputs": [
    {
     "name": "stdout",
     "output_type": "stream",
     "text": [
      "\u001b[1m1/1\u001b[0m \u001b[32m━━━━━━━━━━━━━━━━━━━━\u001b[0m\u001b[37m\u001b[0m \u001b[1m0s\u001b[0m 12ms/step\n",
      "     Ano  Pesc_goete_art\n",
      "0   1950             NaN\n",
      "1   1951             NaN\n",
      "2   1952             NaN\n",
      "3   1953             NaN\n",
      "4   1954             NaN\n",
      "5   1955             NaN\n",
      "6   1956             NaN\n",
      "7   1957             NaN\n",
      "8   1958             NaN\n",
      "9   1959             NaN\n",
      "10  1960             NaN\n",
      "11  1961             NaN\n",
      "12  1962             NaN\n",
      "13  1963             NaN\n",
      "14  1964             NaN\n",
      "15  1965             NaN\n",
      "16  1966             NaN\n",
      "17  1967             NaN\n",
      "18  1968      163.589334\n",
      "19  1969      188.177461\n",
      "20  1970             NaN\n",
      "21  1971             NaN\n",
      "22  1972             NaN\n",
      "23  1973             NaN\n",
      "24  1974             NaN\n",
      "25  1975             NaN\n",
      "26  1976       27.475039\n",
      "27  1977      147.312820\n",
      "28  1978       65.000000\n",
      "29  1979       23.000000\n",
      "30  1980      275.000000\n",
      "31  1981       14.000000\n",
      "32  1982       24.000000\n",
      "33  1983       82.000000\n",
      "34  1984      210.000000\n",
      "35  1985      461.000000\n",
      "36  1986      405.000000\n",
      "37  1987      496.000000\n",
      "38  1988      481.000000\n",
      "39  1989      378.000000\n",
      "40  1990             NaN\n",
      "41  1991             NaN\n",
      "42  1992             NaN\n",
      "43  1993             NaN\n",
      "44  1994             NaN\n",
      "45  1995       14.500000\n",
      "46  1996      566.500000\n",
      "47  1997      261.000000\n",
      "48  1998      336.500000\n",
      "49  1999      368.500000\n",
      "50  2000      404.500000\n",
      "51  2001      371.000000\n",
      "52  2002      348.000000\n",
      "53  2003      351.000000\n",
      "54  2004      381.000000\n",
      "55  2005      385.000000\n",
      "56  2006      435.000000\n",
      "57  2007      271.000000\n",
      "58  2008      174.966000\n",
      "59  2009       42.286000\n",
      "60  2010       42.869000\n",
      "61  2011       71.465000\n",
      "62  2012       24.504000\n",
      "63  2013       33.613000\n",
      "64  2014       48.080000\n",
      "65  2015       66.175000\n",
      "66  2016             NaN\n",
      "67  2017       50.584400\n",
      "68  2018       59.108300\n",
      "69  2019       64.181900\n",
      "70  2020       33.811300\n",
      "71  2021       24.499900\n",
      "72  2022       12.211000\n"
     ]
    }
   ],
   "source": [
    "#Lista de anos sem buracos normalizada e sua predição      (para poder me referir por indices)\n",
    "\n",
    "anos = np.arange(1950,np.max(anos_para_prever)+1)\n",
    "anos_norm = (anos-ano_mean)/ano_std\n",
    "prev_continua = model.predict(anos_norm)*prop_std + prop_mean\n",
    "\n",
    "for i in range(len(prev_continua)):\n",
    "    if prev_continua[i]<0:\n",
    "        prev_continua[i]=0\n",
    "    if prev_continua[i]>=1:\n",
    "        prev_continua[i]=1\n",
    "\n",
    "\n",
    "df_preenchido = df[['Ano','Pesc_goete_art']]\n",
    "for i in range(len(prev_continua)):\n",
    "    if i+1950 in anos_para_prever:\n",
    "      df_preenchido.loc[i,'Pesc_goete_art']=df.loc[i,'Pesc_goete_art_ind']*prev_continua[i]\n",
    "\n",
    "\n",
    "with pd.option_context('display.max_rows', None,):\n",
    "    print(df_preenchido)\n",
    "\n",
    "\n",
    "#Planilha com os dados preenchidos\n",
    "df_preenchido.to_excel('/home/andre/Área de Trabalho/Reconstrução da Estatística Pesqueira BR/Rio de Janeiro/Peixes/Sciaenidae/Pesc_goete/Previsão Pesc_goete_art_1976-1977.xlsx')\n"
   ]
  },
  {
   "cell_type": "code",
   "execution_count": 8,
   "metadata": {},
   "outputs": [
    {
     "data": {
      "image/png": "[encoded data removed]",
      "text/plain": [
       "<Figure size 432x288 with 1 Axes>"
      ]
     },
     "metadata": {
      "needs_background": "light"
     },
     "output_type": "display_data"
    }
   ],
   "source": [
    "for i in range(len(df_preenchido['Ano'])):\n",
    "  if i+1950 in anos_para_prever:\n",
    "    plt.scatter(df_preenchido['Ano'].values[i],df_preenchido['Pesc_goete_art'].values[i],color='red')\n",
    "  else:\n",
    "    plt.scatter(df_preenchido['Ano'].values[i],df_preenchido['Pesc_goete_art'].values[i],color='blue')"
   ]
  }
 ],
 "metadata": {
  "kernelspec": {
   "display_name": "Python 3",
   "language": "python",
   "name": "python3"
  },
  "language_info": {
   "codemirror_mode": {
    "name": "ipython",
    "version": 3
   },
   "file_extension": ".py",
   "mimetype": "text/x-python",
   "name": "python",
   "nbconvert_exporter": "python",
   "pygments_lexer": "ipython3",
   "version": "3.10.12"
  }
 },
 "nbformat": 4,
 "nbformat_minor": 2
}
