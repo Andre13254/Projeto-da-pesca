{
 "cells": [
  {
   "cell_type": "code",
   "execution_count": 1,
   "metadata": {},
   "outputs": [],
   "source": [
    "import numpy as np\n",
    "import pandas as pd"
   ]
  },
  {
   "cell_type": "code",
   "execution_count": 3,
   "metadata": {},
   "outputs": [],
   "source": [
    "#Proporções das especies que receberao valores da desagregação\n",
    "prop_Pesc_goete_ind_2017_2022= np.load('/home/andre/Área de Trabalho/Reconstrução da Estatística Pesqueira BR/Rio de Janeiro/Peixes/Sciaenidae/Desagregações Pescada_ind 2017-2022/prev_Pesc_goete_ind.npy').flatten()\n",
    "prop_Pesc_amarela_ind_2017_2022= np.load('/home/andre/Área de Trabalho/Reconstrução da Estatística Pesqueira BR/Rio de Janeiro/Peixes/Sciaenidae/Desagregações Pescada_ind 2017-2022/prev_Pesc_amarela_ind.npy').flatten()\n",
    "prop_Pesc_bicuda_ind_2017_2022=np.load('/home/andre/Área de Trabalho/Reconstrução da Estatística Pesqueira BR/Rio de Janeiro/Peixes/Sciaenidae/Desagregações Pescada_ind 2017-2022/prev_Pesc_bicuda_ind.npy').flatten()\n",
    "prop_Pesc_branca_ind_2017_2022= np.load('/home/andre/Área de Trabalho/Reconstrução da Estatística Pesqueira BR/Rio de Janeiro/Peixes/Sciaenidae/Desagregações Pescada_ind 2017-2022/prev_Pesc_branca_ind.npy').flatten()\n",
    "prop_Pesc_cambucu_ind_2017_2022=np.load('/home/andre/Área de Trabalho/Reconstrução da Estatística Pesqueira BR/Rio de Janeiro/Peixes/Sciaenidae/Desagregações Pescada_ind 2017-2022/prev_Pesc_cambucu_ind.npy').flatten()\n",
    "prop_Pesc_olhuda_ind_2017_2022= np.load('/home/andre/Área de Trabalho/Reconstrução da Estatística Pesqueira BR/Rio de Janeiro/Peixes/Sciaenidae/Desagregações Pescada_ind 2017-2022/prev_Pesc_olhuda_ind.npy').flatten()\n",
    "prop_Pesc_banana_ind_2017_2022= np.load('/home/andre/Área de Trabalho/Reconstrução da Estatística Pesqueira BR/Rio de Janeiro/Peixes/Sciaenidae/Desagregações Pescada_ind 2017-2022/prev_Pesc_banana_ind.npy').flatten()\n",
    "prop_Pesc_faneca_ind_2017_2022= np.load('/home/andre/Área de Trabalho/Reconstrução da Estatística Pesqueira BR/Rio de Janeiro/Peixes/Sciaenidae/Desagregações Pescada_ind 2017-2022/prev_Pesc_faneca_ind.npy').flatten()"
   ]
  },
  {
   "cell_type": "code",
   "execution_count": 4,
   "metadata": {},
   "outputs": [],
   "source": [
    "#Soma das proporções\n",
    "prop_soma = prop_Pesc_goete_ind_2017_2022 + prop_Pesc_amarela_ind_2017_2022 + prop_Pesc_bicuda_ind_2017_2022  + prop_Pesc_branca_ind_2017_2022 + prop_Pesc_cambucu_ind_2017_2022 + prop_Pesc_olhuda_ind_2017_2022 + prop_Pesc_banana_ind_2017_2022 + prop_Pesc_faneca_ind_2017_2022\n",
    "\n",
    "#Dividindo proporções pela soma para que de sempre 1\n",
    "for i in range(len(prop_Pesc_goete_ind_2017_2022)):\n",
    "  prop_Pesc_goete_ind_2017_2022[i] /= prop_soma[i] \n",
    "  prop_Pesc_amarela_ind_2017_2022[i] /= prop_soma[i]\n",
    "  prop_Pesc_bicuda_ind_2017_2022 [i] /= prop_soma[i]\n",
    "  prop_Pesc_branca_ind_2017_2022[i] /= prop_soma[i]\n",
    "  prop_Pesc_cambucu_ind_2017_2022[i] /= prop_soma[i]\n",
    "  prop_Pesc_olhuda_ind_2017_2022[i] /= prop_soma[i]\n",
    "  prop_Pesc_banana_ind_2017_2022[i] /= prop_soma[i]\n",
    "  prop_Pesc_faneca_ind_2017_2022[i] /= prop_soma[i]"
   ]
  },
  {
   "cell_type": "code",
   "execution_count": 5,
   "metadata": {},
   "outputs": [
    {
     "name": "stdout",
     "output_type": "stream",
     "text": [
      "     Ano  Pesc_goete_ind  Pesc_amarela_ind  Pesc_bicuda_ind  Pesc_branca_ind  \\\n",
      "67  2017        4.865019          0.022036         0.013804         0.041036   \n",
      "68  2018       54.155478          0.245298         0.153663         0.456791   \n",
      "69  2019       41.464081          0.187812         0.117652         0.349742   \n",
      "70  2020       77.622351          0.351591         0.220249         0.654730   \n",
      "71  2021       30.838372          0.139683         0.087502         0.260116   \n",
      "72  2022        1.786045          0.008090         0.005068         0.015065   \n",
      "\n",
      "    Pesc_cambucu_ind  Pesc_olhuda_ind  Pesc_banana_ind  Pesc_faneca_ind  \n",
      "67          0.369910         1.841999         0.006029         0.092567  \n",
      "68          4.117693        20.504410         0.067116         1.030421  \n",
      "69          3.152707        15.699178         0.051387         0.788941  \n",
      "70          5.901988        29.389464         0.096199         1.476928  \n",
      "71          2.344785        11.676060         0.038219         0.586765  \n",
      "72          0.135801         0.676234         0.002213         0.033983  \n"
     ]
    }
   ],
   "source": [
    "df_prev = pd.read_excel('/home/andre/Área de Trabalho/Reconstrução da Estatística Pesqueira BR/Rio de Janeiro/Peixes/Sciaenidae/RJ_Reconstrucao_Sciaenidae_2024_08_06.xlsx')\n",
    "df_prev = df_prev[['Ano','Pesc_goete_ind','Pesc_amarela_ind','Pesc_bicuda_ind','Pesc_branca_ind','Pesc_cambucu_ind','Pesc_olhuda_ind','Pesc_banana_ind','Pesc_faneca_ind']]\n",
    "\n",
    "\n",
    "df_Pescada_ind = pd.read_excel('/home/andre/Área de Trabalho/Reconstrução da Estatística Pesqueira BR/Rio de Janeiro/Peixes/Sciaenidae/Desagregações Pescada_ind 1962-2015/Previsão Pescada_ind_1962-1977.xlsx')\n",
    "df_Pescada_ind = df_Pescada_ind[['Ano','Pescada_ind']]\n",
    "\n",
    "anos_para_prever = np.array([2017,2018,2019,2020,2021,2022])\n",
    "\n",
    "for i in range(len(prop_Pesc_goete_ind_2017_2022)):\n",
    "    if i+1950 in anos_para_prever:\n",
    "      df_prev.loc[i,'Pesc_goete_ind'] = df_Pescada_ind.loc[i,'Pescada_ind']*prop_Pesc_goete_ind_2017_2022[i]\n",
    "      df_prev.loc[i,'Pesc_amarela_ind'] = df_Pescada_ind.loc[i,'Pescada_ind']*prop_Pesc_amarela_ind_2017_2022[i]\n",
    "      df_prev.loc[i,'Pesc_bicuda_ind'] = df_Pescada_ind.loc[i,'Pescada_ind']*prop_Pesc_bicuda_ind_2017_2022[i]\n",
    "      df_prev.loc[i,'Pesc_branca_ind'] = df_Pescada_ind.loc[i,'Pescada_ind']*prop_Pesc_branca_ind_2017_2022[i]\n",
    "      df_prev.loc[i,'Pesc_cambucu_ind'] = df_Pescada_ind.loc[i,'Pescada_ind']*prop_Pesc_cambucu_ind_2017_2022[i]\n",
    "      df_prev.loc[i,'Pesc_olhuda_ind'] = df_Pescada_ind.loc[i,'Pescada_ind']*prop_Pesc_olhuda_ind_2017_2022[i]\n",
    "      df_prev.loc[i,'Pesc_banana_ind'] = df_Pescada_ind.loc[i,'Pescada_ind']*prop_Pesc_banana_ind_2017_2022[i]\n",
    "      df_prev.loc[i,'Pesc_faneca_ind'] = df_Pescada_ind.loc[i,'Pescada_ind']*prop_Pesc_faneca_ind_2017_2022[i]\n",
    "\n",
    "\n",
    "df_prev = df_prev.loc[2017-1950:,:]\n",
    "with pd.option_context('display.max_rows', None,):\n",
    "   print(df_prev)\n",
    "\n",
    "df_prev.to_excel('/home/andre/Área de Trabalho/Reconstrução da Estatística Pesqueira BR/Rio de Janeiro/Peixes/Sciaenidae/Desagregações Pescada_ind 2017-2022/Desagregação Pescada_ind 2017-2022.xlsx')"
   ]
  }
 ],
 "metadata": {
  "kernelspec": {
   "display_name": "Python 3",
   "language": "python",
   "name": "python3"
  },
  "language_info": {
   "codemirror_mode": {
    "name": "ipython",
    "version": 3
   },
   "file_extension": ".py",
   "mimetype": "text/x-python",
   "name": "python",
   "nbconvert_exporter": "python",
   "pygments_lexer": "ipython3",
   "version": "3.10.12"
  }
 },
 "nbformat": 4,
 "nbformat_minor": 2
}
