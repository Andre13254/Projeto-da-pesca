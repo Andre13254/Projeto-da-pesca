{
 "cells": [
  {
   "cell_type": "code",
   "execution_count": 1,
   "metadata": {},
   "outputs": [
    {
     "name": "stderr",
     "output_type": "stream",
     "text": [
      "2024-08-16 06:54:58.471615: I tensorflow/core/util/port.cc:113] oneDNN custom operations are on. You may see slightly different numerical results due to floating-point round-off errors from different computation orders. To turn them off, set the environment variable `TF_ENABLE_ONEDNN_OPTS=0`.\n",
      "2024-08-16 06:54:58.501248: I tensorflow/core/platform/cpu_feature_guard.cc:210] This TensorFlow binary is optimized to use available CPU instructions in performance-critical operations.\n",
      "To enable the following instructions: AVX2 AVX_VNNI FMA, in other operations, rebuild TensorFlow with the appropriate compiler flags.\n",
      "2024-08-16 06:54:58.967519: W tensorflow/compiler/tf2tensorrt/utils/py_utils.cc:38] TF-TRT Warning: Could not find TensorRT\n",
      "/usr/lib/python3/dist-packages/scipy/__init__.py:146: UserWarning: A NumPy version >=1.17.3 and <1.25.0 is required for this version of SciPy (detected version 1.26.4\n",
      "  warnings.warn(f\"A NumPy version >={np_minversion} and <{np_maxversion}\"\n"
     ]
    }
   ],
   "source": [
    "import numpy as np\n",
    "import pandas as pd\n",
    "import keras\n",
    "import matplotlib.pyplot as plt\n",
    "from keras import layers"
   ]
  },
  {
   "cell_type": "code",
   "execution_count": 2,
   "metadata": {},
   "outputs": [
    {
     "data": {
      "text/html": [
       "<div>\n",
       "<style scoped>\n",
       "    .dataframe tbody tr th:only-of-type {\n",
       "        vertical-align: middle;\n",
       "    }\n",
       "\n",
       "    .dataframe tbody tr th {\n",
       "        vertical-align: top;\n",
       "    }\n",
       "\n",
       "    .dataframe thead th {\n",
       "        text-align: right;\n",
       "    }\n",
       "</style>\n",
       "<table border=\"1\" class=\"dataframe\">\n",
       "  <thead>\n",
       "    <tr style=\"text-align: right;\">\n",
       "      <th></th>\n",
       "      <th>Ano</th>\n",
       "      <th>Castanha_risc_art</th>\n",
       "      <th>Castanha_art</th>\n",
       "      <th>Prop_Castanha_risc_art</th>\n",
       "    </tr>\n",
       "  </thead>\n",
       "  <tbody>\n",
       "    <tr>\n",
       "      <th>0</th>\n",
       "      <td>2017</td>\n",
       "      <td>0.0320</td>\n",
       "      <td>15.7632</td>\n",
       "      <td>0.002030</td>\n",
       "    </tr>\n",
       "    <tr>\n",
       "      <th>1</th>\n",
       "      <td>2018</td>\n",
       "      <td>0.0170</td>\n",
       "      <td>42.7157</td>\n",
       "      <td>0.000398</td>\n",
       "    </tr>\n",
       "    <tr>\n",
       "      <th>2</th>\n",
       "      <td>2019</td>\n",
       "      <td>0.0325</td>\n",
       "      <td>32.3564</td>\n",
       "      <td>0.001004</td>\n",
       "    </tr>\n",
       "    <tr>\n",
       "      <th>3</th>\n",
       "      <td>2020</td>\n",
       "      <td>0.0075</td>\n",
       "      <td>3.3527</td>\n",
       "      <td>0.002237</td>\n",
       "    </tr>\n",
       "    <tr>\n",
       "      <th>4</th>\n",
       "      <td>2021</td>\n",
       "      <td>0.0040</td>\n",
       "      <td>18.2980</td>\n",
       "      <td>0.000219</td>\n",
       "    </tr>\n",
       "  </tbody>\n",
       "</table>\n",
       "</div>"
      ],
      "text/plain": [
       "    Ano  Castanha_risc_art  Castanha_art  Prop_Castanha_risc_art\n",
       "0  2017             0.0320       15.7632                0.002030\n",
       "1  2018             0.0170       42.7157                0.000398\n",
       "2  2019             0.0325       32.3564                0.001004\n",
       "3  2020             0.0075        3.3527                0.002237\n",
       "4  2021             0.0040       18.2980                0.000219"
      ]
     },
     "execution_count": 2,
     "metadata": {},
     "output_type": "execute_result"
    }
   ],
   "source": [
    "#Coletando dados\n",
    "\n",
    "df = pd.read_excel('/home/andre/Área de Trabalho/Reconstrução da Estatística Pesqueira BR/Rio de Janeiro/Peixes/Sciaenidae/RJ_Reconstrucao_Sciaenidae_2024_08_06.xlsx')\n",
    "\n",
    "df_Castanha_art = pd.DataFrame(df[['Ano','Castanha_risc_art','Castanha_art']])\n",
    "\n",
    "\n",
    "dados = df_Castanha_art[['Ano','Castanha_risc_art','Castanha_art']].dropna().reset_index(drop=True)\n",
    "\n",
    "#Fazendo as proporções\n",
    "for i in range(len(dados['Ano'])):\n",
    "  dados.loc[i,'Prop_Castanha_risc_art'] = dados.loc[i,'Castanha_risc_art'] / dados.loc[i,'Castanha_art']\n",
    "\n",
    "\n",
    "anos_com_dados = dados[\"Ano\"].values\n",
    "anos_para_prever = np.array([1990,1991,1992,1993,1994,1995,2016])\n",
    "todos_anos = np.concatenate((anos_para_prever, anos_com_dados))\n",
    "todos_anos.sort()\n",
    "\n",
    "\n",
    "\n",
    "prop = dados['Prop_Castanha_risc_art'].values\n",
    "\n",
    "dados.head()"
   ]
  },
  {
   "cell_type": "code",
   "execution_count": 3,
   "metadata": {},
   "outputs": [],
   "source": [
    "#Normalização dos dados\n",
    "\n",
    "ano_mean = np.mean(anos_com_dados)\n",
    "ano_std = np.std(anos_com_dados)\n",
    "anos_para_prever_norm = (anos_para_prever - ano_mean)/ano_std\n",
    "anos_com_dados_norm = (anos_com_dados - ano_mean)/ano_std\n",
    "\n",
    "prop_mean = np.mean(prop)\n",
    "prop_std = np.std(prop)\n",
    "prop_norm = (prop - prop_mean)/prop_std"
   ]
  },
  {
   "cell_type": "code",
   "execution_count": 4,
   "metadata": {},
   "outputs": [
    {
     "name": "stderr",
     "output_type": "stream",
     "text": [
      "/home/andre/.local/lib/python3.10/site-packages/keras/src/layers/core/dense.py:87: UserWarning: Do not pass an `input_shape`/`input_dim` argument to a layer. When using Sequential models, prefer using an `Input(shape)` object as the first layer in the model instead.\n",
      "  super().__init__(activity_regularizer=activity_regularizer, **kwargs)\n"
     ]
    }
   ],
   "source": [
    "#Fit do modelo e salvando seus pesos\n",
    "model = keras.Sequential([layers.Dense(96,activation='leaky_relu',input_shape=(1,)),\n",
    "                             layers.Dense(32,activation='leaky_relu'),\n",
    "                             layers.Dense(80,activation='leaky_relu'),\n",
    "                             layers.Dense(80,activation='leaky_relu'),\n",
    "                             layers.Dense(96,activation='leaky_relu'),\n",
    "                             layers.Dense(112,activation='leaky_relu'),\n",
    "                             layers.Dense(1,activation='linear')])\n",
    "\n",
    "opt = keras.optimizers.Adam(learning_rate=0.001)\n",
    "model.compile(optimizer=opt, loss='mse')\n",
    "\n",
    "\n",
    "#history = model.fit(anos_com_dados_norm,prop_norm, epochs=50, verbose=1)\n",
    "#model.save_weights('/home/andre/Área de Trabalho/Reconstrução da Estatística Pesqueira BR/Rio de Janeiro/Peixes/Sciaenidae/Castanha/pesos prop Castanha_risc_art/.weights.h5', overwrite=True)"
   ]
  },
  {
   "cell_type": "code",
   "execution_count": 5,
   "metadata": {},
   "outputs": [
    {
     "name": "stderr",
     "output_type": "stream",
     "text": [
      "/home/andre/.local/lib/python3.10/site-packages/keras/src/saving/saving_lib.py:415: UserWarning: Skipping variable loading for optimizer 'adam', because it has 2 variables whereas the saved optimizer has 30 variables. \n",
      "  saveable.load_own_variables(weights_store.get(inner_path))\n"
     ]
    }
   ],
   "source": [
    "model.load_weights('/home/andre/Área de Trabalho/Reconstrução da Estatística Pesqueira BR/Rio de Janeiro/Peixes/Sciaenidae/Castanha/pesos prop Castanha_risc_art/.weights.h5')"
   ]
  },
  {
   "cell_type": "code",
   "execution_count": 6,
   "metadata": {},
   "outputs": [
    {
     "name": "stdout",
     "output_type": "stream",
     "text": [
      "\u001b[1m1/1\u001b[0m \u001b[32m━━━━━━━━━━━━━━━━━━━━\u001b[0m\u001b[37m\u001b[0m \u001b[1m0s\u001b[0m 53ms/step\n",
      "\u001b[1m1/1\u001b[0m \u001b[32m━━━━━━━━━━━━━━━━━━━━\u001b[0m\u001b[37m\u001b[0m \u001b[1m0s\u001b[0m 37ms/step\n",
      "\u001b[1m2/2\u001b[0m \u001b[32m━━━━━━━━━━━━━━━━━━━━\u001b[0m\u001b[37m\u001b[0m \u001b[1m0s\u001b[0m 2ms/step \n",
      "Previsões dos dados ausentes: [[0.00209146]\n",
      " [0.00207893]\n",
      " [0.0020664 ]\n",
      " [0.00205434]\n",
      " [0.00204412]\n",
      " [0.0020355 ]\n",
      " [0.00165018]]\n"
     ]
    },
    {
     "data": {
      "image/png": "[encoded data removed]",
      "text/plain": [
       "<Figure size 432x288 with 1 Axes>"
      ]
     },
     "metadata": {
      "needs_background": "light"
     },
     "output_type": "display_data"
    }
   ],
   "source": [
    "#Previsões\n",
    "prev_disponiveis = model.predict(anos_com_dados_norm)*prop_std + prop_mean\n",
    "prev_ausentes = model.predict(anos_para_prever_norm)*prop_std + prop_mean\n",
    "\n",
    "#Colocando valores negativos para 0\n",
    "for i in range(len(prev_ausentes)):\n",
    "    if prev_ausentes[i]<0:\n",
    "        prev_ausentes[i]=0\n",
    "    if prev_ausentes[i]>=1:\n",
    "        prev_ausentes[i]=1\n",
    "\n",
    "#Plot dos dados e previsões\n",
    "f1=plt.figure(1).add_subplot()\n",
    "f1.scatter(anos_com_dados,prop,label='Dados disponíveis')\n",
    "f1.scatter(anos_para_prever,prev_ausentes, color='red', label='Previsões dos dados ausentes')\n",
    "\n",
    "#Plot do fit da rede\n",
    "p = np.linspace(-2,2,50)\n",
    "y = model.predict(p)*prop_std + prop_mean\n",
    "f1.plot(p*ano_std + ano_mean,y,color='orange',label='Fit da rede')\n",
    "\n",
    "#Print das previsões\n",
    "print('Previsões dos dados ausentes:', prev_ausentes)\n",
    "\n",
    "\n",
    "plt.legend()\n",
    "plt.show()"
   ]
  },
  {
   "cell_type": "code",
   "execution_count": 7,
   "metadata": {},
   "outputs": [
    {
     "data": {
      "image/png": "[encoded data removed]",
      "text/plain": [
       "<Figure size 432x288 with 1 Axes>"
      ]
     },
     "metadata": {
      "needs_background": "light"
     },
     "output_type": "display_data"
    }
   ],
   "source": [
    "loss = history.history['loss']\n",
    "plt.plot(loss,label='loss')\n",
    "plt.legend()\n",
    "plt.show()"
   ]
  },
  {
   "cell_type": "code",
   "execution_count": 7,
   "metadata": {},
   "outputs": [
    {
     "name": "stdout",
     "output_type": "stream",
     "text": [
      "\u001b[1m3/3\u001b[0m \u001b[32m━━━━━━━━━━━━━━━━━━━━\u001b[0m\u001b[37m\u001b[0m \u001b[1m0s\u001b[0m 1ms/step \n",
      "     Ano  Castanha_risc_art\n",
      "0   1950                NaN\n",
      "1   1951                NaN\n",
      "2   1952                NaN\n",
      "3   1953                NaN\n",
      "4   1954                NaN\n",
      "5   1955                NaN\n",
      "6   1956                NaN\n",
      "7   1957                NaN\n",
      "8   1958                NaN\n",
      "9   1959                NaN\n",
      "10  1960                NaN\n",
      "11  1961                NaN\n",
      "12  1962                NaN\n",
      "13  1963                NaN\n",
      "14  1964                NaN\n",
      "15  1965                NaN\n",
      "16  1966                NaN\n",
      "17  1967                NaN\n",
      "18  1968                NaN\n",
      "19  1969                NaN\n",
      "20  1970                NaN\n",
      "21  1971                NaN\n",
      "22  1972                NaN\n",
      "23  1973                NaN\n",
      "24  1974                NaN\n",
      "25  1975                NaN\n",
      "26  1976                NaN\n",
      "27  1977                NaN\n",
      "28  1978                NaN\n",
      "29  1979                NaN\n",
      "30  1980                NaN\n",
      "31  1981                NaN\n",
      "32  1982                NaN\n",
      "33  1983                NaN\n",
      "34  1984                NaN\n",
      "35  1985                NaN\n",
      "36  1986                NaN\n",
      "37  1987                NaN\n",
      "38  1988                NaN\n",
      "39  1989                NaN\n",
      "40  1990           0.075292\n",
      "41  1991           0.117320\n",
      "42  1992           0.078523\n",
      "43  1993           0.207176\n",
      "44  1994           0.196235\n",
      "45  1995           0.215763\n",
      "46  1996                NaN\n",
      "47  1997                NaN\n",
      "48  1998                NaN\n",
      "49  1999                NaN\n",
      "50  2000                NaN\n",
      "51  2001                NaN\n",
      "52  2002                NaN\n",
      "53  2003                NaN\n",
      "54  2004                NaN\n",
      "55  2005                NaN\n",
      "56  2006                NaN\n",
      "57  2007                NaN\n",
      "58  2008                NaN\n",
      "59  2009                NaN\n",
      "60  2010                NaN\n",
      "61  2011                NaN\n",
      "62  2012                NaN\n",
      "63  2013                NaN\n",
      "64  2014                NaN\n",
      "65  2015                NaN\n",
      "66  2016           0.056035\n",
      "67  2017           0.032000\n",
      "68  2018           0.017000\n",
      "69  2019           0.032500\n",
      "70  2020           0.007500\n",
      "71  2021           0.004000\n",
      "72  2022           0.013800\n"
     ]
    }
   ],
   "source": [
    "#Lista de anos sem buracos normalizada e sua predição      (para poder me referir por indices)\n",
    "\n",
    "anos = np.arange(1950,np.max(anos_para_prever)+1)\n",
    "anos_norm = (anos-ano_mean)/ano_std\n",
    "prev_continua = model.predict(anos_norm)*prop_std + prop_mean\n",
    "\n",
    "for i in range(len(prev_continua)):\n",
    "    if prev_continua[i]<0:\n",
    "        prev_continua[i]=0\n",
    "    if prev_continua[i]>=1:\n",
    "        prev_continua[i]=1\n",
    "\n",
    "#Trazendo valores previstos para Castanha_art\n",
    "df_prev_Castanha_art = pd.read_excel('/home/andre/Área de Trabalho/Reconstrução da Estatística Pesqueira BR/Rio de Janeiro/Peixes/Sciaenidae/Castanha/Interpolações Castanha_art.xlsx')\n",
    "df_prev_Castanha_art = df_prev_Castanha_art[['Ano','Castanha_art']]\n",
    "\n",
    "for i in range(len(df['Ano'])):\n",
    "    if pd.isnull(df.loc[i,'Castanha_art'])==True:\n",
    "       df.loc[i,'Castanha_art'] = df_prev_Castanha_art.loc[i,'Castanha_art']\n",
    "\n",
    "\n",
    "df_preenchido = df[['Ano','Castanha_risc_art']]\n",
    "for i in range(len(prev_continua)):\n",
    "    if i+1950 in anos_para_prever:\n",
    "      df_preenchido.loc[i,'Castanha_risc_art']=df.loc[i,'Castanha_art']*prev_continua[i]\n",
    "\n",
    "df_preenchido = df_preenchido.loc[:,:]\n",
    "with pd.option_context('display.max_rows', None,):\n",
    "    print(df_preenchido)\n",
    "\n",
    "\n",
    "#Planilha com os dados preenchidos\n",
    "df_preenchido.to_excel('/home/andre/Área de Trabalho/Reconstrução da Estatística Pesqueira BR/Rio de Janeiro/Peixes/Sciaenidae/Castanha/Previsão Castanha_risc_art_1990-95 e 2016.xlsx')\n"
   ]
  },
  {
   "cell_type": "code",
   "execution_count": 8,
   "metadata": {},
   "outputs": [
    {
     "data": {
      "image/png": "[encoded data removed]",
      "text/plain": [
       "<Figure size 432x288 with 1 Axes>"
      ]
     },
     "metadata": {
      "needs_background": "light"
     },
     "output_type": "display_data"
    }
   ],
   "source": [
    "for i in range(len(df_preenchido['Ano'])):\n",
    "  if i+1950 in anos_para_prever:\n",
    "    plt.scatter(df_preenchido['Ano'].values[i],df_preenchido['Castanha_risc_art'].values[i],color='red')\n",
    "  else:\n",
    "    plt.scatter(df_preenchido['Ano'].values[i],df_preenchido['Castanha_risc_art'].values[i],color='blue')"
   ]
  }
 ],
 "metadata": {
  "kernelspec": {
   "display_name": "Python 3",
   "language": "python",
   "name": "python3"
  },
  "language_info": {
   "codemirror_mode": {
    "name": "ipython",
    "version": 3
   },
   "file_extension": ".py",
   "mimetype": "text/x-python",
   "name": "python",
   "nbconvert_exporter": "python",
   "pygments_lexer": "ipython3",
   "version": "3.10.12"
  }
 },
 "nbformat": 4,
 "nbformat_minor": 2
}
