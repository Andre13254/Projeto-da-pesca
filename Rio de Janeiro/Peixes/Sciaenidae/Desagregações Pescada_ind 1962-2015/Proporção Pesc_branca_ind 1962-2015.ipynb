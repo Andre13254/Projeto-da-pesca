{
 "cells": [
  {
   "cell_type": "code",
   "execution_count": 1,
   "metadata": {},
   "outputs": [
    {
     "name": "stderr",
     "output_type": "stream",
     "text": [
      "2024-08-25 10:02:07.856169: I tensorflow/core/util/port.cc:113] oneDNN custom operations are on. You may see slightly different numerical results due to floating-point round-off errors from different computation orders. To turn them off, set the environment variable `TF_ENABLE_ONEDNN_OPTS=0`.\n",
      "2024-08-25 10:02:07.894023: I tensorflow/core/platform/cpu_feature_guard.cc:210] This TensorFlow binary is optimized to use available CPU instructions in performance-critical operations.\n",
      "To enable the following instructions: AVX2 AVX_VNNI FMA, in other operations, rebuild TensorFlow with the appropriate compiler flags.\n",
      "2024-08-25 10:02:08.426438: W tensorflow/compiler/tf2tensorrt/utils/py_utils.cc:38] TF-TRT Warning: Could not find TensorRT\n",
      "/usr/lib/python3/dist-packages/scipy/__init__.py:146: UserWarning: A NumPy version >=1.17.3 and <1.25.0 is required for this version of SciPy (detected version 1.26.4\n",
      "  warnings.warn(f\"A NumPy version >={np_minversion} and <{np_maxversion}\"\n"
     ]
    }
   ],
   "source": [
    "import numpy as np\n",
    "import pandas as pd\n",
    "import keras\n",
    "import matplotlib.pyplot as plt\n",
    "from keras import layers"
   ]
  },
  {
   "cell_type": "code",
   "execution_count": 2,
   "metadata": {},
   "outputs": [
    {
     "name": "stderr",
     "output_type": "stream",
     "text": [
      "/tmp/ipykernel_67591/4210674486.py:16: SettingWithCopyWarning: \n",
      "A value is trying to be set on a copy of a slice from a DataFrame.\n",
      "Try using .loc[row_indexer,col_indexer] = value instead\n",
      "\n",
      "See the caveats in the documentation: https://pandas.pydata.org/pandas-docs/stable/user_guide/indexing.html#returning-a-view-versus-a-copy\n",
      "  dados.loc[i,'Prop_Pesc_branca_ind'] = dados.loc[i,'Pesc_branca_ind'] / dados.loc[i,'Soma']\n"
     ]
    },
    {
     "data": {
      "text/html": [
       "<div>\n",
       "<style scoped>\n",
       "    .dataframe tbody tr th:only-of-type {\n",
       "        vertical-align: middle;\n",
       "    }\n",
       "\n",
       "    .dataframe tbody tr th {\n",
       "        vertical-align: top;\n",
       "    }\n",
       "\n",
       "    .dataframe thead th {\n",
       "        text-align: right;\n",
       "    }\n",
       "</style>\n",
       "<table border=\"1\" class=\"dataframe\">\n",
       "  <thead>\n",
       "    <tr style=\"text-align: right;\">\n",
       "      <th></th>\n",
       "      <th>Ano</th>\n",
       "      <th>Pesc_branca_ind</th>\n",
       "      <th>Soma</th>\n",
       "      <th>Prop_Pesc_branca_ind</th>\n",
       "    </tr>\n",
       "  </thead>\n",
       "  <tbody>\n",
       "    <tr>\n",
       "      <th>0</th>\n",
       "      <td>2018</td>\n",
       "      <td>1.16472</td>\n",
       "      <td>202.95008</td>\n",
       "      <td>0.005739</td>\n",
       "    </tr>\n",
       "    <tr>\n",
       "      <th>1</th>\n",
       "      <td>2019</td>\n",
       "      <td>0.83750</td>\n",
       "      <td>146.31850</td>\n",
       "      <td>0.005724</td>\n",
       "    </tr>\n",
       "  </tbody>\n",
       "</table>\n",
       "</div>"
      ],
      "text/plain": [
       "    Ano  Pesc_branca_ind       Soma  Prop_Pesc_branca_ind\n",
       "0  2018          1.16472  202.95008              0.005739\n",
       "1  2019          0.83750  146.31850              0.005724"
      ]
     },
     "execution_count": 2,
     "metadata": {},
     "output_type": "execute_result"
    }
   ],
   "source": [
    "#Coletando dados\n",
    "\n",
    "df = pd.read_excel('/home/andre/Área de Trabalho/Reconstrução da Estatística Pesqueira BR/Rio de Janeiro/Peixes/Sciaenidae/RJ_Reconstrucao_Sciaenidae_2024_08_06.xlsx')\n",
    "\n",
    "df_Pescadas = df[['Ano','Pesc_goete_ind', 'Pesc_amarela_ind', 'Pesc_bicuda_ind','Pesc_branca_ind','Pesc_cambucu_ind','Pesc_olhuda_ind','Pesc_banana_ind']].dropna().reset_index(drop=True)\n",
    "\n",
    "\n",
    "\n",
    "for i in range(len(df_Pescadas['Ano'])):\n",
    "  df_Pescadas.loc[i,'Soma'] = df_Pescadas.loc[i,'Pesc_goete_ind']+df_Pescadas.loc[i,'Pesc_amarela_ind']+df_Pescadas.loc[i,'Pesc_bicuda_ind']+df_Pescadas.loc[i,'Pesc_branca_ind']+df_Pescadas.loc[i,'Pesc_cambucu_ind']+df_Pescadas.loc[i,'Pesc_olhuda_ind']+df_Pescadas.loc[i,'Pesc_banana_ind']\n",
    "  \n",
    "dados = df_Pescadas[['Ano','Pesc_branca_ind','Soma']]\n",
    "\n",
    "#Fazendo as proporções\n",
    "for i in range(len(dados['Ano'])):\n",
    "  dados.loc[i,'Prop_Pesc_branca_ind'] = dados.loc[i,'Pesc_branca_ind'] / dados.loc[i,'Soma']\n",
    "\n",
    "\n",
    "anos_com_dados = dados[\"Ano\"].values\n",
    "anos_para_prever = np.array([1962,1963,1964,1966,1967,1968,1969,1970,1971,1972,1973,1975,1976,1977,1978,1979,1980,1981,1982,1983,1984,1985,1986,1987,1988,1989,1996,1997,1998,1999,2000,2001,2002,2003,2004,2005,2006,2007,2008,2009,2010,2011,2012,2013,2014,2015])\n",
    "todos_anos = np.concatenate((anos_para_prever, anos_com_dados))\n",
    "todos_anos.sort()\n",
    "\n",
    "prop= dados['Prop_Pesc_branca_ind'].values\n",
    "dados.head()\n"
   ]
  },
  {
   "cell_type": "code",
   "execution_count": 3,
   "metadata": {},
   "outputs": [
    {
     "name": "stdout",
     "output_type": "stream",
     "text": [
      "Previsões dos dados ausentes: [0.00573138 0.00573138 0.00573138 0.00573138 0.00573138 0.00573138\n",
      " 0.00573138 0.00573138 0.00573138 0.00573138 0.00573138 0.00573138\n",
      " 0.00573138 0.00573138 0.00573138 0.00573138 0.00573138 0.00573138\n",
      " 0.00573138 0.00573138 0.00573138 0.00573138 0.00573138 0.00573138\n",
      " 0.00573138 0.00573138 0.00573138 0.00573138 0.00573138 0.00573138\n",
      " 0.00573138 0.00573138 0.00573138 0.00573138 0.00573138 0.00573138\n",
      " 0.00573138 0.00573138 0.00573138 0.00573138 0.00573138 0.00573138\n",
      " 0.00573138 0.00573138 0.00573138 0.00573138]\n"
     ]
    },
    {
     "data": {
      "image/png": "[encoded data removed]",
      "text/plain": [
       "<Figure size 432x288 with 1 Axes>"
      ]
     },
     "metadata": {
      "needs_background": "light"
     },
     "output_type": "display_data"
    }
   ],
   "source": [
    "################\n",
    "\n",
    "#Como só tem 2 anos com dados, apenas farei a média\n",
    "\n",
    "################\n",
    "\n",
    "\n",
    "\n",
    "\n",
    "\n",
    "\n",
    "#Previsões\n",
    "prev_ausentes=np.array([])\n",
    "for i in range(len(anos_para_prever)):\n",
    "  prev_ausentes = np.append(prev_ausentes,prop.mean())\n",
    "\n",
    "\n",
    "#Plot dos dados e previsões\n",
    "f1=plt.figure(1).add_subplot()\n",
    "f1.scatter(anos_com_dados,prop,label='Dados disponíveis')\n",
    "f1.scatter(anos_para_prever,prev_ausentes, color='red', label='Previsões dos dados ausentes')\n",
    "\n",
    "\n",
    "#Print das previsões\n",
    "print('Previsões dos dados ausentes:', prev_ausentes)\n",
    "\n",
    "\n",
    "plt.legend()\n",
    "plt.show()"
   ]
  },
  {
   "cell_type": "code",
   "execution_count": 4,
   "metadata": {},
   "outputs": [],
   "source": [
    "#Lista de anos sem buracos e sua predição      (para poder me referir por indices)\n",
    "\n",
    "anos = np.arange(1950,np.max(anos_para_prever)+1)\n",
    "\n",
    "prev_continua=np.array([])\n",
    "for i in range(len(anos)):\n",
    "  prev_continua = np.append(prev_continua,prop.mean())\n",
    "\n",
    "\n",
    "np.save('prev_Pesc_branca_ind',prev_continua)"
   ]
  }
 ],
 "metadata": {
  "kernelspec": {
   "display_name": "Python 3",
   "language": "python",
   "name": "python3"
  },
  "language_info": {
   "codemirror_mode": {
    "name": "ipython",
    "version": 3
   },
   "file_extension": ".py",
   "mimetype": "text/x-python",
   "name": "python",
   "nbconvert_exporter": "python",
   "pygments_lexer": "ipython3",
   "version": "3.10.12"
  }
 },
 "nbformat": 4,
 "nbformat_minor": 2
}
