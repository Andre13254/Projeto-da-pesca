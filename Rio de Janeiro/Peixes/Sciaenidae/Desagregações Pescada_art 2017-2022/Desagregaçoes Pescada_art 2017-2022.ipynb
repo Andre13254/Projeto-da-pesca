{
 "cells": [
  {
   "cell_type": "code",
   "execution_count": 1,
   "metadata": {},
   "outputs": [],
   "source": [
    "import numpy as np\n",
    "import pandas as pd"
   ]
  },
  {
   "cell_type": "code",
   "execution_count": 2,
   "metadata": {},
   "outputs": [],
   "source": [
    "#Proporções das especies que receberao valores da desagregação\n",
    "prop_Pesc_goete_art_2017_2022= np.load('/home/andre/Área de Trabalho/Reconstrução da Estatística Pesqueira BR/Rio de Janeiro/Peixes/Sciaenidae/Desagregações Pescada_art 2017-2022/prev_Pesc_goete_art.npy').flatten()\n",
    "prop_Pesc_amarela_art_2017_2022= np.load('/home/andre/Área de Trabalho/Reconstrução da Estatística Pesqueira BR/Rio de Janeiro/Peixes/Sciaenidae/Desagregações Pescada_art 2017-2022/prev_Pesc_amarela_art.npy').flatten()\n",
    "prop_Pesc_bicuda_art_2017_2022=np.load('/home/andre/Área de Trabalho/Reconstrução da Estatística Pesqueira BR/Rio de Janeiro/Peixes/Sciaenidae/Desagregações Pescada_art 2017-2022/prev_Pesc_bicuda_art.npy').flatten()\n",
    "prop_Pesc_branca_art_2017_2022= np.load('/home/andre/Área de Trabalho/Reconstrução da Estatística Pesqueira BR/Rio de Janeiro/Peixes/Sciaenidae/Desagregações Pescada_art 2017-2022/prev_Pesc_branca_art.npy').flatten()\n",
    "prop_Pesc_cambucu_art_2017_2022=np.load('/home/andre/Área de Trabalho/Reconstrução da Estatística Pesqueira BR/Rio de Janeiro/Peixes/Sciaenidae/Desagregações Pescada_art 2017-2022/prev_Pesc_cambucu_art.npy').flatten()\n",
    "prop_Pesc_olhuda_art_2017_2022= np.load('/home/andre/Área de Trabalho/Reconstrução da Estatística Pesqueira BR/Rio de Janeiro/Peixes/Sciaenidae/Desagregações Pescada_art 2017-2022/prev_Pesc_olhuda_art.npy').flatten()\n",
    "prop_Pesc_faneca_art_2017_2022= np.load('/home/andre/Área de Trabalho/Reconstrução da Estatística Pesqueira BR/Rio de Janeiro/Peixes/Sciaenidae/Desagregações Pescada_art 2017-2022/prev_Pesc_faneca_art.npy').flatten()\n",
    "prop_Pesc_banana_art_2017_2022= np.load('/home/andre/Área de Trabalho/Reconstrução da Estatística Pesqueira BR/Rio de Janeiro/Peixes/Sciaenidae/Desagregações Pescada_art 2017-2022/prev_Pesc_banana_art.npy').flatten()"
   ]
  },
  {
   "cell_type": "code",
   "execution_count": 3,
   "metadata": {},
   "outputs": [],
   "source": [
    "#Soma das proporções\n",
    "prop_soma = prop_Pesc_goete_art_2017_2022 + prop_Pesc_amarela_art_2017_2022 + prop_Pesc_bicuda_art_2017_2022  + prop_Pesc_branca_art_2017_2022 + prop_Pesc_cambucu_art_2017_2022 + prop_Pesc_olhuda_art_2017_2022 + prop_Pesc_faneca_art_2017_2022 + prop_Pesc_banana_art_2017_2022\n",
    "\n",
    "#Dividindo proporções pela soma para que de sempre 1\n",
    "for i in range(len(prop_Pesc_goete_art_2017_2022)):\n",
    "  prop_Pesc_goete_art_2017_2022[i] /= prop_soma[i] \n",
    "  prop_Pesc_amarela_art_2017_2022[i] /= prop_soma[i]\n",
    "  prop_Pesc_bicuda_art_2017_2022 [i] /= prop_soma[i]\n",
    "  prop_Pesc_branca_art_2017_2022[i] /= prop_soma[i]\n",
    "  prop_Pesc_cambucu_art_2017_2022[i] /= prop_soma[i]\n",
    "  prop_Pesc_olhuda_art_2017_2022[i] /= prop_soma[i]\n",
    "  prop_Pesc_faneca_art_2017_2022[i] /= prop_soma[i]\n",
    "  prop_Pesc_banana_art_2017_2022[i] /= prop_soma[i]\n"
   ]
  },
  {
   "cell_type": "code",
   "execution_count": 4,
   "metadata": {},
   "outputs": [
    {
     "name": "stdout",
     "output_type": "stream",
     "text": [
      "     Ano  Pesc_goete_art  Pesc_amarela_art  Pesc_bicuda_art  Pesc_branca_art  \\\n",
      "67  2017       51.290230          3.481401         0.000927        15.443410   \n",
      "68  2018       65.795353          6.451684         0.211951        17.119215   \n",
      "69  2019       65.621125          9.012295         0.135487        17.346353   \n",
      "70  2020       32.051669          5.847199         0.046080        23.350165   \n",
      "71  2021       14.272738          3.042173         0.022226        13.417278   \n",
      "72  2022        4.888768          2.730339         0.009951         5.164103   \n",
      "\n",
      "    Pesc_cambucu_art  Pesc_olhuda_art  Pesc_faneca_art  Pesc_banana_art  \n",
      "67          9.606775        16.558055         0.902520         0.006375  \n",
      "68         15.244738        26.059144         1.122072         0.176619  \n",
      "69         15.144477        16.555335         1.233209         0.069111  \n",
      "70         10.409909        11.113699         1.109125         0.115054  \n",
      "71          4.122144         6.957096         0.275938         0.041860  \n",
      "72          1.262520         2.095055         0.013076         0.024140  \n"
     ]
    }
   ],
   "source": [
    "df_prev = pd.read_excel('/home/andre/Área de Trabalho/Reconstrução da Estatística Pesqueira BR/Rio de Janeiro/Peixes/Sciaenidae/RJ_Reconstrucao_Sciaenidae_2024_08_06.xlsx')\n",
    "df_prev = df_prev[['Ano','Pesc_goete_art','Pesc_amarela_art','Pesc_bicuda_art','Pesc_branca_art','Pesc_cambucu_art','Pesc_olhuda_art','Pesc_faneca_art','Pesc_banana_art']]\n",
    "\n",
    "\n",
    "df_Pescada_art = pd.read_excel('/home/andre/Área de Trabalho/Reconstrução da Estatística Pesqueira BR/Rio de Janeiro/Peixes/Sciaenidae/Desagregações Pescada_art 1962-2008/Previsão Pescada_art_1962-1977.xlsx')\n",
    "df_Pescada_art = df_Pescada_art[['Ano','Pescada_art']]\n",
    "\n",
    "anos_para_prever = np.array([2017,2018,2019,2020,2021,2022])\n",
    "\n",
    "for i in range(len(prop_Pesc_goete_art_2017_2022)):\n",
    "    if i+1950 in anos_para_prever:\n",
    "      df_prev.loc[i,'Pesc_goete_art'] = df_Pescada_art.loc[i,'Pescada_art']*prop_Pesc_goete_art_2017_2022[i]\n",
    "      df_prev.loc[i,'Pesc_amarela_art'] = df_Pescada_art.loc[i,'Pescada_art']*prop_Pesc_amarela_art_2017_2022[i]\n",
    "      df_prev.loc[i,'Pesc_bicuda_art'] = df_Pescada_art.loc[i,'Pescada_art']*prop_Pesc_bicuda_art_2017_2022[i]\n",
    "      df_prev.loc[i,'Pesc_branca_art'] = df_Pescada_art.loc[i,'Pescada_art']*prop_Pesc_branca_art_2017_2022[i]\n",
    "      df_prev.loc[i,'Pesc_cambucu_art'] = df_Pescada_art.loc[i,'Pescada_art']*prop_Pesc_cambucu_art_2017_2022[i]\n",
    "      df_prev.loc[i,'Pesc_olhuda_art'] = df_Pescada_art.loc[i,'Pescada_art']*prop_Pesc_olhuda_art_2017_2022[i]\n",
    "      df_prev.loc[i,'Pesc_faneca_art'] = df_Pescada_art.loc[i,'Pescada_art']*prop_Pesc_faneca_art_2017_2022[i]\n",
    "      df_prev.loc[i,'Pesc_banana_art'] = df_Pescada_art.loc[i,'Pescada_art']*prop_Pesc_banana_art_2017_2022[i]\n",
    "\n",
    "\n",
    "df_prev = df_prev.loc[2017-1950:,:]\n",
    "with pd.option_context('display.max_rows', None,):\n",
    "   print(df_prev)\n",
    "\n",
    "df_prev.to_excel('/home/andre/Área de Trabalho/Reconstrução da Estatística Pesqueira BR/Rio de Janeiro/Peixes/Sciaenidae/Desagregações Pescada_art 2017-2022/Desagregação Pescada_art 2017-2022.xlsx')"
   ]
  }
 ],
 "metadata": {
  "kernelspec": {
   "display_name": "Python 3",
   "language": "python",
   "name": "python3"
  },
  "language_info": {
   "codemirror_mode": {
    "name": "ipython",
    "version": 3
   },
   "file_extension": ".py",
   "mimetype": "text/x-python",
   "name": "python",
   "nbconvert_exporter": "python",
   "pygments_lexer": "ipython3",
   "version": "3.10.12"
  }
 },
 "nbformat": 4,
 "nbformat_minor": 2
}
