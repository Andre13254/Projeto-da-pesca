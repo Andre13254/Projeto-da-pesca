{
 "cells": [
  {
   "cell_type": "code",
   "execution_count": 3,
   "metadata": {},
   "outputs": [],
   "source": [
    "import numpy as np\n",
    "import pandas as pd"
   ]
  },
  {
   "cell_type": "code",
   "execution_count": 4,
   "metadata": {},
   "outputs": [],
   "source": [
    "#Proporções das especies que receberao valores da desagregação\n",
    "prop_Abrotea_profundidade_ind= np.load('/home/andre/Área de Trabalho/Reconstrução da Estatística Pesqueira BR/Rio de Janeiro/Peixes/Gadiformes/Abrótea/Desagragação Abrotea_ind/prev_Abrotea_profundidade.npy').flatten()\n",
    "prop_Abrotea_verdadeira_ind= np.load('/home/andre/Área de Trabalho/Reconstrução da Estatística Pesqueira BR/Rio de Janeiro/Peixes/Gadiformes/Abrótea/Desagragação Abrotea_ind/prev_Abrotea_verdadeira.npy').flatten()"
   ]
  },
  {
   "cell_type": "code",
   "execution_count": 5,
   "metadata": {},
   "outputs": [],
   "source": [
    "#Soma das proporções\n",
    "prop_soma = prop_Abrotea_profundidade_ind + prop_Abrotea_verdadeira_ind \n",
    "#Dividindo proporções pela soma para que de sempre 1\n",
    "for i in range(len(prop_Abrotea_profundidade_ind)):\n",
    "  prop_Abrotea_profundidade_ind[i] /= prop_soma[i] \n",
    "  prop_Abrotea_verdadeira_ind[i] /= prop_soma[i]\n"
   ]
  },
  {
   "cell_type": "code",
   "execution_count": 7,
   "metadata": {},
   "outputs": [
    {
     "name": "stdout",
     "output_type": "stream",
     "text": [
      "     Ano  Abrotea_profundidade_ind  Abrotea_verdadeira_ind\n",
      "0   1950                       NaN                     NaN\n",
      "1   1951                       NaN                     NaN\n",
      "2   1952                       NaN                     NaN\n",
      "3   1953                       NaN                     NaN\n",
      "4   1954                       NaN                     NaN\n",
      "5   1955                       NaN                     NaN\n",
      "6   1956                       NaN                     NaN\n",
      "7   1957                       NaN                     NaN\n",
      "8   1958                       NaN                     NaN\n",
      "9   1959                       NaN                     NaN\n",
      "10  1960                       NaN                     NaN\n",
      "11  1961                       NaN                     NaN\n",
      "12  1962                       NaN                     NaN\n",
      "13  1963                       NaN                     NaN\n",
      "14  1964                       NaN                     NaN\n",
      "15  1965                       NaN                     NaN\n",
      "16  1966                       NaN                     NaN\n",
      "17  1967                       NaN                     NaN\n",
      "18  1968                       NaN                     NaN\n",
      "19  1969                       NaN                     NaN\n",
      "20  1970                       NaN                     NaN\n",
      "21  1971                       NaN                     NaN\n",
      "22  1972                       NaN                     NaN\n",
      "23  1973                       NaN                     NaN\n",
      "24  1974                       NaN                     NaN\n",
      "25  1975                       NaN                     NaN\n",
      "26  1976                  1.468892                0.000000\n",
      "27  1977                  1.617365                0.000000\n",
      "28  1978                  4.000000                0.000000\n",
      "29  1979                       NaN                     NaN\n",
      "30  1980                       NaN                     NaN\n",
      "31  1981                  3.000000                0.000000\n",
      "32  1982                  1.000000                0.000000\n",
      "33  1983                  6.000000                0.000000\n",
      "34  1984                  9.000000                0.000000\n",
      "35  1985                  1.000000                0.000000\n",
      "36  1986                  5.000000                0.000000\n",
      "37  1987                  1.000000                0.000000\n",
      "38  1988                  6.000000                0.000000\n",
      "39  1989                 11.000000                0.000000\n",
      "40  1990                       NaN                     NaN\n",
      "41  1991                       NaN                     NaN\n",
      "42  1992                       NaN                     NaN\n",
      "43  1993                       NaN                     NaN\n",
      "44  1994                       NaN                     NaN\n",
      "45  1995                 37.500000                0.000000\n",
      "46  1996                 47.000000                0.000000\n",
      "47  1997                271.000000                0.000000\n",
      "48  1998                203.000000                0.000000\n",
      "49  1999                207.500000                0.000000\n",
      "50  2000                354.500000                0.000000\n",
      "51  2001                414.855904                4.644117\n",
      "52  2002                282.133590                8.866396\n",
      "53  2003                276.484600               14.515386\n",
      "54  2004                287.583889               21.416114\n",
      "55  2005                279.752120               27.247869\n",
      "56  2006                261.750294               31.749713\n",
      "57  2007                294.429182               43.070824\n",
      "58  2008                 55.448313                9.561689\n",
      "59  2009                 65.066210               13.003789\n",
      "60  2010                 67.677019               15.472984\n",
      "61  2011                112.279159               29.066843\n",
      "62  2012                205.832484               59.825508\n",
      "63  2013                164.819799               53.325201\n",
      "64  2014                 78.749756               28.170244\n",
      "65  2015                 13.430903                5.291297\n",
      "66  2016                       NaN                     NaN\n",
      "67  2017                 11.070933                5.347067\n",
      "68  2018                 15.912418               10.239583\n",
      "69  2019                  8.752992                7.489908\n",
      "70  2020                  6.962785                7.789315\n",
      "71  2021                 12.980248               18.996949\n",
      "72  2022                  7.888560               15.237742\n"
     ]
    }
   ],
   "source": [
    "df_dados = pd.read_excel('/home/andre/Área de Trabalho/Reconstrução da Estatística Pesqueira BR/Rio de Janeiro/Peixes/Gadiformes/Desagreg Abrotea_art_ind - RJ_Reconstrucao_Gadiformes_2024_10_30.xlsx')\n",
    "df_prev = df_dados[['Ano','Abrotea_profundidade_ind','Abrotea_verdadeira_ind']]\n",
    "\n",
    "df_Abrotea_ind = df_dados[['Ano','Abrotea_ind']]\n",
    "\n",
    "anos_para_prever = np.array([1976,1977,1978,1981,1982,1983,1984,1985,1986,1987,1988,1989,1995,1996,1997,1998,1999,2000,2001,2002,2003,2004,2005,2006,2007,2008,2009,2010,2011,2012,2013,2014,2015,2017,2018,2019,2020,2021,2022])\n",
    "\n",
    "for i in range(len(prop_Abrotea_profundidade_ind)):\n",
    "    if i+1950 in anos_para_prever:\n",
    "      df_prev.loc[i,'Abrotea_profundidade_ind'] = df_Abrotea_ind.loc[i,'Abrotea_ind']*prop_Abrotea_profundidade_ind[i]\n",
    "      df_prev.loc[i,'Abrotea_verdadeira_ind'] = df_Abrotea_ind.loc[i,'Abrotea_ind']*prop_Abrotea_verdadeira_ind[i]\n",
    "\n",
    "\n",
    "with pd.option_context('display.max_rows', None,):\n",
    "   print(df_prev)\n",
    "\n",
    "df_prev.to_excel('/home/andre/Área de Trabalho/Reconstrução da Estatística Pesqueira BR/Rio de Janeiro/Peixes/Gadiformes/Abrótea/Desagragação Abrotea_ind/Desagregação Abrotea_ind.xlsx')"
   ]
  }
 ],
 "metadata": {
  "kernelspec": {
   "display_name": "Python 3",
   "language": "python",
   "name": "python3"
  },
  "language_info": {
   "codemirror_mode": {
    "name": "ipython",
    "version": 3
   },
   "file_extension": ".py",
   "mimetype": "text/x-python",
   "name": "python",
   "nbconvert_exporter": "python",
   "pygments_lexer": "ipython3",
   "version": "3.10.12"
  }
 },
 "nbformat": 4,
 "nbformat_minor": 2
}
