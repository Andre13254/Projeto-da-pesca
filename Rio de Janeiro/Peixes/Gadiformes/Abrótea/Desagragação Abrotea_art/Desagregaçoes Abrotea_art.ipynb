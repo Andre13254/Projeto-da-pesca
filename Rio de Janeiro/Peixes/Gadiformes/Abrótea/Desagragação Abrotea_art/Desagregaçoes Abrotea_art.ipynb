{
 "cells": [
  {
   "cell_type": "code",
   "execution_count": 1,
   "metadata": {},
   "outputs": [],
   "source": [
    "import numpy as np\n",
    "import pandas as pd"
   ]
  },
  {
   "cell_type": "code",
   "execution_count": 4,
   "metadata": {},
   "outputs": [],
   "source": [
    "#Proporções das especies que receberao valores da desagregação\n",
    "prop_Abrotea_profundidade_art= np.load('/home/andre/Área de Trabalho/Reconstrução da Estatística Pesqueira BR/Rio de Janeiro/Peixes/Gadiformes/Abrótea/Desagragação Abrotea_art/prev_Abrotea_profundidade.npy').flatten()\n",
    "prop_Abrotea_verdadeira_art= np.load('/home/andre/Área de Trabalho/Reconstrução da Estatística Pesqueira BR/Rio de Janeiro/Peixes/Gadiformes/Abrótea/Desagragação Abrotea_art/prev_Abrotea_verdadeira.npy').flatten()"
   ]
  },
  {
   "cell_type": "code",
   "execution_count": 5,
   "metadata": {},
   "outputs": [],
   "source": [
    "#Soma das proporções\n",
    "prop_soma = prop_Abrotea_profundidade_art + prop_Abrotea_verdadeira_art \n",
    "#Dividindo proporções pela soma para que de sempre 1\n",
    "for i in range(len(prop_Abrotea_profundidade_art)):\n",
    "  prop_Abrotea_profundidade_art[i] /= prop_soma[i] \n",
    "  prop_Abrotea_verdadeira_art[i] /= prop_soma[i]\n"
   ]
  },
  {
   "cell_type": "code",
   "execution_count": 8,
   "metadata": {},
   "outputs": [
    {
     "name": "stdout",
     "output_type": "stream",
     "text": [
      "     Ano  Abrotea_profundidade_art  Abrotea_verdadeira_art\n",
      "0   1950                       NaN                     NaN\n",
      "1   1951                       NaN                     NaN\n",
      "2   1952                       NaN                     NaN\n",
      "3   1953                       NaN                     NaN\n",
      "4   1954                       NaN                     NaN\n",
      "5   1955                       NaN                     NaN\n",
      "6   1956                       NaN                     NaN\n",
      "7   1957                       NaN                     NaN\n",
      "8   1958                       NaN                     NaN\n",
      "9   1959                       NaN                     NaN\n",
      "10  1960                       NaN                     NaN\n",
      "11  1961                       NaN                     NaN\n",
      "12  1962                       NaN                     NaN\n",
      "13  1963                       NaN                     NaN\n",
      "14  1964                       NaN                     NaN\n",
      "15  1965                       NaN                     NaN\n",
      "16  1966                       NaN                     NaN\n",
      "17  1967                       NaN                     NaN\n",
      "18  1968                       NaN                     NaN\n",
      "19  1969                       NaN                     NaN\n",
      "20  1970                       NaN                     NaN\n",
      "21  1971                       NaN                     NaN\n",
      "22  1972                       NaN                     NaN\n",
      "23  1973                       NaN                     NaN\n",
      "24  1974                       NaN                     NaN\n",
      "25  1975                       NaN                     NaN\n",
      "26  1976                  0.000000                3.531108\n",
      "27  1977                  0.000000                3.382635\n",
      "28  1978                       NaN                     NaN\n",
      "29  1979                       NaN                     NaN\n",
      "30  1980                       NaN                     NaN\n",
      "31  1981                       NaN                     NaN\n",
      "32  1982                       NaN                     NaN\n",
      "33  1983                       NaN                     NaN\n",
      "34  1984                       NaN                     NaN\n",
      "35  1985                       NaN                     NaN\n",
      "36  1986                       NaN                     NaN\n",
      "37  1987                       NaN                     NaN\n",
      "38  1988                  0.000000                5.000000\n",
      "39  1989                       NaN                     NaN\n",
      "40  1990                       NaN                     NaN\n",
      "41  1991                       NaN                     NaN\n",
      "42  1992                       NaN                     NaN\n",
      "43  1993                       NaN                     NaN\n",
      "44  1994                       NaN                     NaN\n",
      "45  1995                       NaN                     NaN\n",
      "46  1996                  0.000000                0.500000\n",
      "47  1997                  0.000000                5.000000\n",
      "48  1998                       NaN                     NaN\n",
      "49  1999                       NaN                     NaN\n",
      "50  2000                       NaN                     NaN\n",
      "51  2001                  0.000000                3.500000\n",
      "52  2002                  0.000000                1.500000\n",
      "53  2003                  0.000000                2.000000\n",
      "54  2004                  0.000000                2.500000\n",
      "55  2005                  0.000000                3.500000\n",
      "56  2006                  0.000000                3.500000\n",
      "57  2007                  0.000000                3.500000\n",
      "58  2008                  0.000000                0.760000\n",
      "59  2009                  0.000000                0.200000\n",
      "60  2010                  0.000000                0.830000\n",
      "61  2011                       NaN                     NaN\n",
      "62  2012                  0.000000                1.966000\n",
      "63  2013                  0.196039                2.203961\n",
      "64  2014                  0.149964                0.761036\n",
      "65  2015                  0.693038                2.089762\n",
      "66  2016                       NaN                     NaN\n",
      "67  2017                  0.374491                0.510909\n",
      "68  2018                  0.389135                0.372965\n",
      "69  2019                  3.447695                2.479405\n",
      "70  2020                  0.179649                0.050251\n",
      "71  2021                  0.604862                0.023538\n",
      "72  2022                  0.157800                0.000000\n"
     ]
    }
   ],
   "source": [
    "df_dados = pd.read_excel('/home/andre/Área de Trabalho/Reconstrução da Estatística Pesqueira BR/Rio de Janeiro/Peixes/Gadiformes/Desagreg Abrotea_art_ind - RJ_Reconstrucao_Gadiformes_2024_10_30.xlsx')\n",
    "df_prev = df_dados[['Ano','Abrotea_profundidade_art','Abrotea_verdadeira_art']]\n",
    "\n",
    "df_Abrotea_art = df_dados[['Ano','Abrotea_art']]\n",
    "\n",
    "anos_para_prever = np.array([1976,1977,1988,1996,1997,2001,2002,2003,2004,2005,2006,2007,2008,2009,2010,2012,2013,2014,2015,2017,2018,2019,2020,2021,2022])\n",
    "\n",
    "for i in range(len(prop_Abrotea_profundidade_art)):\n",
    "    if i+1950 in anos_para_prever:\n",
    "      df_prev.loc[i,'Abrotea_profundidade_art'] = df_Abrotea_art.loc[i,'Abrotea_art']*prop_Abrotea_profundidade_art[i]\n",
    "      df_prev.loc[i,'Abrotea_verdadeira_art'] = df_Abrotea_art.loc[i,'Abrotea_art']*prop_Abrotea_verdadeira_art[i]\n",
    "\n",
    "\n",
    "with pd.option_context('display.max_rows', None,):\n",
    "   print(df_prev)\n",
    "\n",
    "df_prev.to_excel('/home/andre/Área de Trabalho/Reconstrução da Estatística Pesqueira BR/Rio de Janeiro/Peixes/Gadiformes/Abrótea/Desagragação Abrotea_art/Desagregação Abrotea_art.xlsx')"
   ]
  }
 ],
 "metadata": {
  "kernelspec": {
   "display_name": "Python 3",
   "language": "python",
   "name": "python3"
  },
  "language_info": {
   "codemirror_mode": {
    "name": "ipython",
    "version": 3
   },
   "file_extension": ".py",
   "mimetype": "text/x-python",
   "name": "python",
   "nbconvert_exporter": "python",
   "pygments_lexer": "ipython3",
   "version": "3.10.12"
  }
 },
 "nbformat": 4,
 "nbformat_minor": 2
}
