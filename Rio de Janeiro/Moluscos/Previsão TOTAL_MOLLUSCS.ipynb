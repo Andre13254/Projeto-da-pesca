{
 "cells": [
  {
   "cell_type": "code",
   "execution_count": 2,
   "metadata": {},
   "outputs": [
    {
     "name": "stderr",
     "output_type": "stream",
     "text": [
      "2024-07-03 20:51:16.544395: I tensorflow/core/util/port.cc:113] oneDNN custom operations are on. You may see slightly different numerical results due to floating-point round-off errors from different computation orders. To turn them off, set the environment variable `TF_ENABLE_ONEDNN_OPTS=0`.\n",
      "2024-07-03 20:51:16.575773: I tensorflow/core/platform/cpu_feature_guard.cc:210] This TensorFlow binary is optimized to use available CPU instructions in performance-critical operations.\n",
      "To enable the following instructions: AVX2 AVX_VNNI FMA, in other operations, rebuild TensorFlow with the appropriate compiler flags.\n",
      "2024-07-03 20:51:17.037429: W tensorflow/compiler/tf2tensorrt/utils/py_utils.cc:38] TF-TRT Warning: Could not find TensorRT\n",
      "/usr/lib/python3/dist-packages/scipy/__init__.py:146: UserWarning: A NumPy version >=1.17.3 and <1.25.0 is required for this version of SciPy (detected version 1.26.4\n",
      "  warnings.warn(f\"A NumPy version >={np_minversion} and <{np_maxversion}\"\n"
     ]
    }
   ],
   "source": [
    "import numpy as np\n",
    "import pandas as pd\n",
    "import keras\n",
    "import matplotlib.pyplot as plt\n",
    "from keras import layers"
   ]
  },
  {
   "cell_type": "code",
   "execution_count": 11,
   "metadata": {},
   "outputs": [],
   "source": [
    "#Coletando dados \n",
    "\n",
    "df = pd.read_excel('/home/andre/Downloads/RJ_Reconstrucao_Moluscos_2024_06_25.xlsx')\n",
    "df_TOTAL_MOLLUSCS = pd.DataFrame(df[['Ano','TOTAL_MOLLUSCS']])\n",
    "\n",
    "dados = df_TOTAL_MOLLUSCS.dropna()\n",
    "anos_com_dados = dados[\"Ano\"].values\n",
    "anos_para_prever = np.array([1950,1951,1952,1953,1954,1955,1990,1991,1992,1993,1994,2008,2009,2010,2011,2012,2013,2014,2015,2016,2017,2018,2019,2020,2021,2022])\n",
    "todos_anos = np.concatenate((anos_para_prever, anos_com_dados))\n",
    "todos_anos.sort()\n",
    "\n",
    "pesca = dados['TOTAL_MOLLUSCS'].values"
   ]
  },
  {
   "cell_type": "code",
   "execution_count": 13,
   "metadata": {},
   "outputs": [],
   "source": [
    "#Normalização dos dados\n",
    "\n",
    "ano_mean = np.mean(anos_com_dados)\n",
    "ano_std = np.std(anos_com_dados)\n",
    "anos_para_prever_norm = (anos_para_prever - ano_mean)/ano_std\n",
    "anos_com_dados_norm = (anos_com_dados - ano_mean)/ano_std\n",
    "\n",
    "pesca_mean = np.mean(pesca)\n",
    "pesca_std = np.std(pesca)\n",
    "pesca_norm = (pesca - pesca_mean)/pesca_std"
   ]
  },
  {
   "cell_type": "code",
   "execution_count": 7,
   "metadata": {},
   "outputs": [
    {
     "name": "stderr",
     "output_type": "stream",
     "text": [
      "/home/andre/.local/lib/python3.10/site-packages/keras/src/layers/core/dense.py:87: UserWarning: Do not pass an `input_shape`/`input_dim` argument to a layer. When using Sequential models, prefer using an `Input(shape)` object as the first layer in the model instead.\n",
      "  super().__init__(activity_regularizer=activity_regularizer, **kwargs)\n"
     ]
    }
   ],
   "source": [
    "#Fit do modelo e salvando seus pesos\n",
    "model = keras.Sequential([layers.Dense(96,activation='leaky_relu',input_shape=(1,)),\n",
    "                             layers.Dense(32,activation='leaky_relu'),\n",
    "                             layers.Dense(80,activation='leaky_relu'),\n",
    "                             layers.Dense(80,activation='leaky_relu'),\n",
    "                             layers.Dense(96,activation='leaky_relu'),\n",
    "                             layers.Dense(112,activation='leaky_relu'),\n",
    "                             layers.Dense(1,activation='linear')])\n",
    "\n",
    "opt = keras.optimizers.Adam(learning_rate=0.001)\n",
    "model.compile(optimizer=opt, loss='mse')\n",
    "\n",
    "\n",
    "#history = model.fit(anos_com_dados_norm,pesca_norm, epochs=800, verbose=1)\n",
    "#model.save_weights('/home/andre/Área de Trabalho/Projeto da pesca/Rio de Janeiro/Moluscos/pesos pesca total/.weights.h5', overwrite=True)"
   ]
  },
  {
   "cell_type": "code",
   "execution_count": 8,
   "metadata": {},
   "outputs": [
    {
     "name": "stderr",
     "output_type": "stream",
     "text": [
      "/home/andre/.local/lib/python3.10/site-packages/keras/src/saving/saving_lib.py:415: UserWarning: Skipping variable loading for optimizer 'adam', because it has 2 variables whereas the saved optimizer has 30 variables. \n",
      "  saveable.load_own_variables(weights_store.get(inner_path))\n"
     ]
    }
   ],
   "source": [
    "#Pegando os pesos salvos\n",
    "model.load_weights('/home/andre/Área de Trabalho/Projeto da pesca/Rio de Janeiro/Moluscos/pesos pesca total/.weights.h5')"
   ]
  },
  {
   "cell_type": "code",
   "execution_count": 14,
   "metadata": {},
   "outputs": [
    {
     "name": "stdout",
     "output_type": "stream",
     "text": [
      "\u001b[1m2/2\u001b[0m \u001b[32m━━━━━━━━━━━━━━━━━━━━\u001b[0m\u001b[37m\u001b[0m \u001b[1m0s\u001b[0m 2ms/step \n",
      "\u001b[1m1/1\u001b[0m \u001b[32m━━━━━━━━━━━━━━━━━━━━\u001b[0m\u001b[37m\u001b[0m \u001b[1m0s\u001b[0m 13ms/step\n",
      "\u001b[1m2/2\u001b[0m \u001b[32m━━━━━━━━━━━━━━━━━━━━\u001b[0m\u001b[37m\u001b[0m \u001b[1m0s\u001b[0m 2ms/step \n",
      "Previsões dos dados ausentes: [[  34.274323]\n",
      " [  40.03427 ]\n",
      " [  45.418457]\n",
      " [  45.975098]\n",
      " [  41.93802 ]\n",
      " [  36.598267]\n",
      " [ 250.78053 ]\n",
      " [ 253.57596 ]\n",
      " [ 276.7943  ]\n",
      " [ 320.68286 ]\n",
      " [ 385.32248 ]\n",
      " [1418.5659  ]\n",
      " [1469.6295  ]\n",
      " [1515.3223  ]\n",
      " [1555.7761  ]\n",
      " [1593.658   ]\n",
      " [1631.3137  ]\n",
      " [1669.0669  ]\n",
      " [1706.4583  ]\n",
      " [1740.9316  ]\n",
      " [1775.6047  ]\n",
      " [1810.353   ]\n",
      " [1844.5215  ]\n",
      " [1878.3647  ]\n",
      " [1912.0994  ]\n",
      " [1945.3796  ]]\n"
     ]
    },
    {
     "data": {
      "image/png": "[encoded data removed]",
      "text/plain": [
       "<Figure size 432x288 with 1 Axes>"
      ]
     },
     "metadata": {
      "needs_background": "light"
     },
     "output_type": "display_data"
    }
   ],
   "source": [
    "#Previsões\n",
    "prev_disponiveis = model.predict(anos_com_dados_norm)*pesca_std + pesca_mean\n",
    "prev_ausentes = model.predict(anos_para_prever_norm)*pesca_std + pesca_mean\n",
    "\n",
    "#Colocando valores negativos para 0\n",
    "for i in range(len(prev_ausentes)):\n",
    "    if prev_ausentes[i]<0:\n",
    "        prev_ausentes[i]=0\n",
    "\n",
    "#Plot dos dados e previsões\n",
    "f1=plt.figure(1).add_subplot()\n",
    "f1.scatter(anos_com_dados,pesca,label='Dados disponíveis')\n",
    "f1.scatter(anos_para_prever,prev_ausentes, color='red', label='Previsões dos dados ausentes')\n",
    "\n",
    "#Plot do fit da rede\n",
    "p = np.linspace(-2,2,50)\n",
    "y = model.predict(p)*pesca_std + pesca_mean\n",
    "f1.plot(p*ano_std + ano_mean,y,color='orange',label='Fit da rede')\n",
    "\n",
    "#Print das previsões\n",
    "print('Previsões dos dados ausentes:', prev_ausentes)\n",
    "\n",
    "\n",
    "plt.legend()\n",
    "plt.show()"
   ]
  },
  {
   "cell_type": "code",
   "execution_count": 70,
   "metadata": {},
   "outputs": [
    {
     "data": {
      "image/png": "[encoded data removed]",
      "text/plain": [
       "<Figure size 432x288 with 1 Axes>"
      ]
     },
     "metadata": {
      "needs_background": "light"
     },
     "output_type": "display_data"
    }
   ],
   "source": [
    "loss = history.history['loss']\n",
    "plt.plot(loss,label='loss')\n",
    "plt.legend()\n",
    "plt.show()"
   ]
  },
  {
   "cell_type": "code",
   "execution_count": 18,
   "metadata": {},
   "outputs": [
    {
     "name": "stdout",
     "output_type": "stream",
     "text": [
      "      TOTAL_MOLLUSCS\n",
      "Ano                 \n",
      "1950       34.274323\n",
      "1951       40.034271\n",
      "1952       45.418457\n",
      "1953       45.975098\n",
      "1954       41.938019\n",
      "1955       36.598267\n",
      "1956       43.670000\n",
      "1957       64.000000\n",
      "1958       44.000000\n",
      "1959       23.000000\n",
      "1960       43.000000\n",
      "1961       36.000000\n",
      "1962       38.000000\n",
      "1963      141.000000\n",
      "1964      708.000000\n",
      "1965      560.000000\n",
      "1966       75.000000\n",
      "1967      145.000000\n",
      "1968      843.000000\n",
      "1969      125.000000\n",
      "1970      277.000000\n",
      "1971      133.000000\n",
      "1972      241.000000\n",
      "1973      526.000000\n",
      "1974      704.000000\n",
      "1975      238.000000\n",
      "1976      103.000000\n",
      "1977      292.000000\n",
      "1978      131.000000\n",
      "1979      314.000000\n",
      "1980      368.000000\n",
      "1981      527.000000\n",
      "1982      171.000000\n",
      "1983      206.000000\n",
      "1984      344.000000\n",
      "1985      313.000000\n",
      "1986      339.000000\n",
      "1987      436.000000\n",
      "1988      260.000000\n",
      "1989      297.000000\n",
      "1990      250.780533\n",
      "1991      253.575958\n",
      "1992      276.794312\n",
      "1993      320.682861\n",
      "1994      385.322479\n",
      "1995      554.500000\n",
      "1996      460.000000\n",
      "1997      891.000000\n",
      "1998      529.000000\n",
      "1999     1140.500000\n",
      "2000     1621.000000\n",
      "2001     1086.500000\n",
      "2002     1071.000000\n",
      "2003     1072.500000\n",
      "2004     1218.000000\n",
      "2005     1249.000000\n",
      "2006     1469.500000\n",
      "2007     1387.500000\n",
      "2008     1418.565918\n",
      "2009     1469.629517\n",
      "2010     1515.322266\n",
      "2011     1555.776123\n",
      "2012     1593.657959\n",
      "2013     1631.313721\n",
      "2014     1669.066895\n",
      "2015     1706.458252\n",
      "2016     1740.931641\n",
      "2017     1775.604736\n",
      "2018     1810.353027\n",
      "2019     1844.521484\n",
      "2020     1878.364746\n",
      "2021     1912.099365\n",
      "2022     1945.379639\n"
     ]
    }
   ],
   "source": [
    "#Planilha com os dados preenchidos\n",
    "\n",
    "df_previsoes = pd.DataFrame({'Ano':anos_para_prever, 'TOTAL_MOLLUSCS':prev_ausentes.flatten()})\n",
    "\n",
    "df_preenchido = pd.concat((dados,df_previsoes)).sort_values('Ano')\n",
    "df_preenchido = df_preenchido.set_index('Ano')\n",
    "\n",
    "with pd.option_context('display.max_rows', None,):\n",
    "    print(df_preenchido)\n",
    "\n",
    "df_preenchido.to_excel('/home/andre/Área de Trabalho/Previsão TOTAL_MOLLUSCS.xlsx')"
   ]
  }
 ],
 "metadata": {
  "kernelspec": {
   "display_name": "Python 3",
   "language": "python",
   "name": "python3"
  },
  "language_info": {
   "codemirror_mode": {
    "name": "ipython",
    "version": 3
   },
   "file_extension": ".py",
   "mimetype": "text/x-python",
   "name": "python",
   "nbconvert_exporter": "python",
   "pygments_lexer": "ipython3",
   "version": "3.10.12"
  }
 },
 "nbformat": 4,
 "nbformat_minor": 2
}
