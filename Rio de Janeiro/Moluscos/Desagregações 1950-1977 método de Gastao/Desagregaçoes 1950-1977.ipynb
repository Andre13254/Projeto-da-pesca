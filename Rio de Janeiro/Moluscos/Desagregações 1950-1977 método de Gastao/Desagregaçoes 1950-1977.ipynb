{
 "cells": [
  {
   "cell_type": "code",
   "execution_count": 1,
   "metadata": {},
   "outputs": [],
   "source": [
    "import numpy as np\n",
    "import pandas as pd\n",
    "import matplotlib.pyplot as plt\n"
   ]
  },
  {
   "cell_type": "code",
   "execution_count": 5,
   "metadata": {},
   "outputs": [
    {
     "name": "stdout",
     "output_type": "stream",
     "text": [
      "[0.         0.00061895 0.00638133 0.01214667 0.01791476 0.02367572\n",
      " 0.02942511 0.03517452 0.04092713 0.04666208 0.05240485 0.05819032\n",
      " 0.06393309 0.06967439 0.0754157  0.08116672 0.08686502 0.09046689\n",
      " 0.09239408 0.09412456 0.09561151 0.09682784 0.09819918 0.099271\n",
      " 0.09984742 0.10020795 0.10014406 0.09929141]\n"
     ]
    }
   ],
   "source": [
    "#Proporções das especies que receberao valores da desagregação\n",
    "\n",
    "prop_Lulas = np.load('/home/andre/Área de Trabalho/Reconstrução da Estatística Pesqueira BR/Rio de Janeiro/Moluscos/Lulas/prev_continua_Lula.npy').flatten()\n",
    "prop_Polvos = np.load('/home/andre/Área de Trabalho/Reconstrução da Estatística Pesqueira BR/Rio de Janeiro/Moluscos/Polvos/prev_continua_Polvo.npy').flatten()\n",
    "prop_Mexilhao =  np.load('/home/andre/Área de Trabalho/Reconstrução da Estatística Pesqueira BR/Rio de Janeiro/Moluscos/Mexilhão/prev_continua_Mexilhao.npy').flatten()\n",
    "prop_Ostra =  np.load('/home/andre/Área de Trabalho/Reconstrução da Estatística Pesqueira BR/Rio de Janeiro/Moluscos/Ostra/prev_continua_Ostra.npy').flatten()\n",
    "\n",
    "print(prop_Ostra)"
   ]
  },
  {
   "cell_type": "code",
   "execution_count": 11,
   "metadata": {},
   "outputs": [
    {
     "data": {
      "text/plain": [
       "array([0.99999994, 1.        , 1.        , 1.        , 0.99999994,\n",
       "       1.        , 1.        , 0.99999994, 1.        , 1.        ,\n",
       "       0.99999994, 1.        , 1.        , 1.        , 1.        ,\n",
       "       1.        , 1.        , 1.        , 1.        , 1.        ,\n",
       "       0.9999999 , 1.        , 0.99999994, 1.        , 1.        ,\n",
       "       1.        , 1.        , 1.        ], dtype=float32)"
      ]
     },
     "execution_count": 11,
     "metadata": {},
     "output_type": "execute_result"
    }
   ],
   "source": [
    "#Soma das proporções\n",
    "prop_soma = prop_Lulas + prop_Polvos + prop_Mexilhao + prop_Ostra\n",
    "\n",
    "#Dividindo proporções pela soma para que de sempre 1\n",
    "for i in range(len(prop_Lulas)):\n",
    "  prop_Lulas[i] /= prop_soma[i] \n",
    "  prop_Polvos[i] /= prop_soma[i]\n",
    "  prop_Mexilhao[i] /= prop_soma[i]\n",
    "  prop_Ostra[i] /= prop_soma[i]"
   ]
  },
  {
   "cell_type": "code",
   "execution_count": 22,
   "metadata": {},
   "outputs": [
    {
     "name": "stdout",
     "output_type": "stream",
     "text": [
      "     Ano  Lula_art_ind  Polvo_art_ind  Mexilhao_art   Ostra_art\n",
      "0   1950     29.281061       1.489555      3.503706    0.000000\n",
      "1   1951     33.240586       1.814916      4.953130    0.025640\n",
      "2   1952     36.422131       2.133091      6.564660    0.298574\n",
      "3   1953     35.573314       2.233614      7.595543    0.572625\n",
      "4   1954     31.155492       2.107012      7.907873    0.767639\n",
      "5   1955     26.000032       1.896349      7.820934    0.880952\n",
      "6   1956     29.538839       2.329130     10.503167    1.298866\n",
      "7   1957     41.198006       3.512120     17.026228    2.263647\n",
      "8   1958     26.825390       2.482932     12.889505    1.802175\n",
      "9   1959     13.212799       1.335282      7.381354    1.070566\n",
      "10  1960     23.185667       2.567744     15.004708    2.241878\n",
      "11  1961     17.970891       2.240050     13.691156    2.097904\n",
      "12  1962     22.000000       2.000000      2.000000    3.000000\n",
      "13  1963     57.000000       3.000000     70.000000    5.000000\n",
      "14  1964     71.000000      20.000000    600.000000   17.000000\n",
      "15  1965    167.697680      44.326298    297.491455   50.484575\n",
      "16  1966     21.000000       9.000000     32.000000   13.000000\n",
      "17  1967     70.000000      16.000000     59.000000         NaN\n",
      "18  1968    602.000000     106.000000           NaN         NaN\n",
      "19  1969     68.223886       6.688566     41.929312    8.158234\n",
      "20  1970    156.423256      14.045707     88.663765   17.867252\n",
      "21  1971     77.722473       6.450932     40.267299    8.559301\n",
      "22  1972    147.150706      11.373243     66.693977   15.782075\n",
      "23  1973    336.255303      24.603884    129.522470   35.618339\n",
      "24  1974    472.178265      32.755925    149.796930   49.268907\n",
      "25  1975    166.491659      11.082732     43.138477   17.287143\n",
      "26  1976     75.192605       4.826610     15.197627    7.783156\n",
      "27  1977    223.061510      13.776976     32.346229   22.815280\n",
      "28  1978           NaN            NaN           NaN         NaN\n",
      "29  1979           NaN            NaN           NaN         NaN\n",
      "30  1980           NaN            NaN           NaN         NaN\n",
      "31  1981           NaN            NaN      5.000000         NaN\n",
      "32  1982           NaN            NaN      9.000000         NaN\n",
      "33  1983           NaN            NaN     53.000000         NaN\n",
      "34  1984           NaN            NaN     23.000000   19.000000\n",
      "35  1985           NaN            NaN     21.000000   76.000000\n",
      "36  1986           NaN            NaN     35.000000  111.000000\n",
      "37  1987           NaN            NaN     44.000000  143.000000\n",
      "38  1988           NaN            NaN     42.000000   90.000000\n",
      "39  1989           NaN            NaN     44.000000   68.000000\n",
      "40  1990           NaN            NaN           NaN         NaN\n",
      "41  1991           NaN            NaN           NaN         NaN\n",
      "42  1992           NaN            NaN           NaN         NaN\n",
      "43  1993           NaN            NaN           NaN         NaN\n",
      "44  1994           NaN            NaN           NaN         NaN\n",
      "45  1995           NaN            NaN           NaN         NaN\n",
      "46  1996           NaN            NaN           NaN         NaN\n",
      "47  1997           NaN            NaN           NaN         NaN\n",
      "48  1998           NaN            NaN           NaN         NaN\n",
      "49  1999           NaN            NaN    250.500000         NaN\n",
      "50  2000           NaN            NaN    584.500000         NaN\n",
      "51  2001           NaN            NaN    287.000000         NaN\n",
      "52  2002           NaN            NaN    241.500000         NaN\n",
      "53  2003           NaN            NaN    237.500000         NaN\n",
      "54  2004           NaN            NaN    261.000000         NaN\n",
      "55  2005           NaN            NaN    269.500000         NaN\n",
      "56  2006           NaN            NaN    318.000000         NaN\n",
      "57  2007           NaN            NaN    166.500000         NaN\n",
      "58  2008           NaN            NaN    251.333333         NaN\n",
      "59  2009           NaN            NaN    245.277778         NaN\n",
      "60  2010           NaN            NaN    221.037037         NaN\n",
      "61  2011           NaN            NaN    147.403358         NaN\n",
      "62  2012           NaN            NaN     73.769679         NaN\n",
      "63  2013           NaN            NaN      0.136000         NaN\n",
      "64  2014           NaN            NaN      0.300000         NaN\n",
      "65  2015           NaN            NaN           NaN         NaN\n",
      "66  2016           NaN            NaN           NaN         NaN\n",
      "67  2017           NaN            NaN     23.310750    0.259880\n",
      "68  2018           NaN            NaN     62.650100    0.170600\n",
      "69  2019           NaN            NaN     45.151300    0.101000\n",
      "70  2020           NaN            NaN     28.363500    0.070800\n",
      "71  2021           NaN            NaN     31.530500    0.013300\n",
      "72  2022           NaN            NaN     41.983500    0.040800\n"
     ]
    }
   ],
   "source": [
    "df_prev = pd.read_excel('/home/andre/Área de Trabalho/Reconstrução da Estatística Pesqueira BR/Rio de Janeiro/Moluscos/RJ_Reconstrucao_Moluscos_2024_06_25.xlsx')\n",
    "df_prev = df_prev[['Ano','Lula_art_ind','Polvo_art_ind','Mexilhao_art','Ostra_art']]\n",
    "\n",
    "\n",
    "df_TOTAL_MOLLUSCS = pd.read_excel('/home/andre/Área de Trabalho/Reconstrução da Estatística Pesqueira BR/Rio de Janeiro/Moluscos/Previsão TOTAL_MOLLUSCS.xlsx')\n",
    "df_TOTAL_MOLLUSCS = df_TOTAL_MOLLUSCS[['Ano','TOTAL_MOLLUSCS']]\n",
    "\n",
    "anos_para_prever = np.array([1950,1951,1952,1953,1954,1955,1956,1957,1958,1959,1960,1961,1965,1969,1970,1971,1972,1973,1974,1975,1976,1977])\n",
    "\n",
    "for i in range(len(prop_Lulas)):\n",
    "    if i+1950 in anos_para_prever:\n",
    "      df_prev.loc[i,'Lula_art_ind'] = df_TOTAL_MOLLUSCS.loc[i,'TOTAL_MOLLUSCS']*prop_Lulas[i]\n",
    "      df_prev.loc[i,'Polvo_art_ind'] = df_TOTAL_MOLLUSCS.loc[i,'TOTAL_MOLLUSCS']*prop_Polvos[i]\n",
    "      df_prev.loc[i,'Mexilhao_art'] = df_TOTAL_MOLLUSCS.loc[i,'TOTAL_MOLLUSCS']*prop_Mexilhao[i]\n",
    "      df_prev.loc[i,'Ostra_art'] = df_TOTAL_MOLLUSCS.loc[i,'TOTAL_MOLLUSCS']*prop_Ostra[i]\n",
    "\n",
    "\n",
    "\n",
    "with pd.option_context('display.max_rows', None,):\n",
    "   print(df_prev)\n",
    "\n",
    "df_prev.to_excel('/home/andre/Área de Trabalho/Reconstrução da Estatística Pesqueira BR/Rio de Janeiro/Moluscos/Desagregações 1950-1977 método de Gastao/Desagregações 1950-1977 - GASTAO.xlsx')"
   ]
  }
 ],
 "metadata": {
  "kernelspec": {
   "display_name": "Python 3",
   "language": "python",
   "name": "python3"
  },
  "language_info": {
   "codemirror_mode": {
    "name": "ipython",
    "version": 3
   },
   "file_extension": ".py",
   "mimetype": "text/x-python",
   "name": "python",
   "nbconvert_exporter": "python",
   "pygments_lexer": "ipython3",
   "version": "3.10.12"
  }
 },
 "nbformat": 4,
 "nbformat_minor": 2
}
