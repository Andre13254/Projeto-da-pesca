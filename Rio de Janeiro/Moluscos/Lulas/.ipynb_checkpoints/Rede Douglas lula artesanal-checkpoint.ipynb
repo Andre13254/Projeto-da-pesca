{
 "cells": [
  {
   "cell_type": "code",
   "execution_count": 50,
   "id": "3f2a79b6-292a-47e0-bee2-a36d2f34bb64",
   "metadata": {},
   "outputs": [],
   "source": [
    "import numpy as np\n",
    "import keras\n",
    "import matplotlib.pyplot as plt\n",
    "from keras import layers\n",
    "import keras_tuner as kt\n",
    "from sklearn.model_selection import train_test_split\n",
    "\n",
    "#Normalização dos anos\n",
    "ano = np.array([1978,1979,1980,1981,1982,1983,1984,1985,1986,1987,1988,1989,1990,1991,1992,1993,1994,1995,1996,1997,1998,1999,2000,2001,2002,2003,2004,2005,2006,2007,2008,2009,2010,2011,2012,2013,2014,2015,2016,2017,2018,2019,2020,2021,2022])\n",
    "\n",
    "ano_media = np.mean(ano)\n",
    "ano_std = np.sqrt( np.sum((ano - ano_media)**2)/44  )\n",
    "ano_normalizado = (ano - ano_media)/ano_std\n",
    "\n",
    "#Dados disponíveis para pesca industrial\n",
    "anos_com_dados = np.delete(ano, [12,13,14,15,16,38])\n",
    "\n",
    "anos_com_dados_norm = np.delete(ano_normalizado, [12,13,14,15,16,38])\n",
    "anos_com_dados_norm = anos_com_dados_norm.reshape(39,1)\n",
    "\n",
    "pesca_art = np.array([106,175,335,373,127,140,209,176,114,198,112,146,389.5,36.5,104,12.5,127.5,14,184.5,88.5,86.5,101,106.5,122.5,72.5,17.560,34.530,10.680,20.593,8.878,9.596,209.839,2.517,56.960,33.903,41.964,29.422,56.820,63.434])\n",
    "\n",
    "pa_media = np.mean(pesca_art)\n",
    "pa_std = np.sqrt( np.sum((pesca_art - pa_media)**2)/38  )\n",
    "pa_normalizado = (pesca_art - pa_media)/pa_std\n",
    "\n",
    "#Colocando dados normalizados no formato de entrada da rede\n",
    "ano_normalizado = ano_normalizado.reshape((45,1))\n",
    "pa_normalizado = pa_normalizado.reshape((39,1))\n",
    "\n",
    "\n",
    "\n",
    "#Dados a serem preditos(anos sem pesca artesanal)\n",
    "aspa_normalizado = np.array([])\n",
    "for i in [12,13,14,15,16,38]:\n",
    "    aspa_normalizado = np.append(aspa_normalizado,ano_normalizado[i])\n",
    "\n",
    "\n",
    "aspa_normalizado = aspa_normalizado.reshape(6,1)\n",
    "\n"
   ]
  },
  {
   "cell_type": "code",
   "execution_count": null,
   "id": "aafb94e8-4079-4aed-92f4-078db3efbde9",
   "metadata": {},
   "outputs": [],
   "source": [
    "#Fit do modelo e salvando seus pesos\n",
    "model = keras.models.load_model('/home/andre/Área de Trabalho/Reconstrução da Estatística Pesqueira BR/modelo_projeto_pesca.keras') \n",
    "model.fit(anos_com_dados_norm,pa_normalizado, epochs=500, verbose=1)\n",
    "model.save_weights('/home/andre/Área de Trabalho/Reconstrução da Estatística Pesqueira BR/Lulas/pesos pesca art/.weights.h5', overwrite=True)\n",
    "\n",
    "#Loss da rede com os pesos salvos\n",
    "#Epoch 500/500\n",
    "#2/2 ━━━━━━━━━━━━━━━━━━━━ 0s 3ms/step - accuracy: 0.0000e+00 - loss: 0.3143"
   ]
  },
  {
   "cell_type": "code",
   "execution_count": 53,
   "id": "b1c7d0a7-c869-4069-a805-d77eb11cdd5f",
   "metadata": {},
   "outputs": [],
   "source": [
    "#Pegando o modelo pesos salvos\n",
    "model = keras.models.load_model('/home/andre/Área de Trabalho/Reconstrução da Estatística Pesqueira BR/modelo_projeto_pesca.keras')\n",
    "model.load_weights('/home/andre/Área de Trabalho/Reconstrução da Estatística Pesqueira BR/Lulas/pesos pesca art/.weights.h5')"
   ]
  },
  {
   "cell_type": "code",
   "execution_count": 54,
   "id": "8b0496f1-51f8-4a3f-93cf-1cc2139b6887",
   "metadata": {},
   "outputs": [
    {
     "name": "stdout",
     "output_type": "stream",
     "text": [
      "\u001b[1m2/2\u001b[0m \u001b[32m━━━━━━━━━━━━━━━━━━━━\u001b[0m\u001b[37m\u001b[0m \u001b[1m0s\u001b[0m 36ms/step\n",
      "\u001b[1m1/1\u001b[0m \u001b[32m━━━━━━━━━━━━━━━━━━━━\u001b[0m\u001b[37m\u001b[0m \u001b[1m0s\u001b[0m 11ms/step\n",
      "Previsçoes dos dados ausentes: [[113.93299]\n",
      " [117.55137]\n",
      " [179.93033]\n",
      " [280.48795]\n",
      " [377.7322 ]\n",
      " [ 66.22647]]\n",
      "\u001b[1m2/2\u001b[0m \u001b[32m━━━━━━━━━━━━━━━━━━━━\u001b[0m\u001b[37m\u001b[0m \u001b[1m0s\u001b[0m 2ms/step \n"
     ]
    },
    {
     "data": {
      "image/png": "[encoded data removed]",
      "text/plain": [
       "<Figure size 432x288 with 1 Axes>"
      ]
     },
     "metadata": {
      "needs_background": "light"
     },
     "output_type": "display_data"
    }
   ],
   "source": [
    "#Previsões\n",
    "prev_geral =model.predict(anos_com_dados_norm)*pa_std + pa_media\n",
    "prev_ausentes = model.predict(aspa_normalizado)*pa_std + pa_media\n",
    "\n",
    "#Plot dos dados e previsões\n",
    "f1=plt.figure(1).add_subplot()\n",
    "f1.scatter(anos_com_dados,pesca_art,label='Dados disponíveis')\n",
    "f1.plot(anos_com_dados,prev_geral,color='orange', label='Fit da rede' )\n",
    "f1.scatter(anos_sem_pesca_art,prev_ausentes, color='red', label='Previsões dos dados ausentes')\n",
    "\n",
    "#Print das previsões\n",
    "print('Previsçoes dos dados ausentes:', prev_ausentes)\n",
    "\n",
    "p = np.linspace(-2,2,50)\n",
    "p = p.reshape(50,1)\n",
    "y = model.predict(p)*pa_std + pa_media\n",
    "f1.plot(p*ano_std + ano_media,y,color='yellow')\n",
    "\n",
    "\n",
    "\n",
    "\n",
    "plt.legend()\n",
    "plt.show()"
   ]
  },
  {
   "cell_type": "code",
   "execution_count": null,
   "id": "13821cc9-051d-46c0-b229-8dbbc5f8924e",
   "metadata": {},
   "outputs": [],
   "source": []
  }
 ],
 "metadata": {
  "kernelspec": {
   "display_name": "Python 3 (ipykernel)",
   "language": "python",
   "name": "python3"
  },
  "language_info": {
   "codemirror_mode": {
    "name": "ipython",
    "version": 3
   },
   "file_extension": ".py",
   "mimetype": "text/x-python",
   "name": "python",
   "nbconvert_exporter": "python",
   "pygments_lexer": "ipython3",
   "version": "3.10.12"
  }
 },
 "nbformat": 4,
 "nbformat_minor": 5
}
