{
 "cells": [
  {
   "cell_type": "code",
   "execution_count": 1,
   "metadata": {},
   "outputs": [
    {
     "name": "stderr",
     "output_type": "stream",
     "text": [
      "2024-07-21 08:28:55.733265: I tensorflow/core/util/port.cc:113] oneDNN custom operations are on. You may see slightly different numerical results due to floating-point round-off errors from different computation orders. To turn them off, set the environment variable `TF_ENABLE_ONEDNN_OPTS=0`.\n",
      "2024-07-21 08:28:55.763638: I tensorflow/core/platform/cpu_feature_guard.cc:210] This TensorFlow binary is optimized to use available CPU instructions in performance-critical operations.\n",
      "To enable the following instructions: AVX2 AVX_VNNI FMA, in other operations, rebuild TensorFlow with the appropriate compiler flags.\n",
      "2024-07-21 08:28:56.216756: W tensorflow/compiler/tf2tensorrt/utils/py_utils.cc:38] TF-TRT Warning: Could not find TensorRT\n",
      "/usr/lib/python3/dist-packages/scipy/__init__.py:146: UserWarning: A NumPy version >=1.17.3 and <1.25.0 is required for this version of SciPy (detected version 1.26.4\n",
      "  warnings.warn(f\"A NumPy version >={np_minversion} and <{np_maxversion}\"\n"
     ]
    }
   ],
   "source": [
    "import numpy as np\n",
    "import pandas as pd\n",
    "import keras\n",
    "import matplotlib.pyplot as plt\n",
    "from keras import layers"
   ]
  },
  {
   "cell_type": "code",
   "execution_count": 2,
   "metadata": {},
   "outputs": [
    {
     "name": "stderr",
     "output_type": "stream",
     "text": [
      "/tmp/ipykernel_4002/1279484268.py:10: SettingWithCopyWarning: \n",
      "A value is trying to be set on a copy of a slice from a DataFrame.\n",
      "Try using .loc[row_indexer,col_indexer] = value instead\n",
      "\n",
      "See the caveats in the documentation: https://pandas.pydata.org/pandas-docs/stable/user_guide/indexing.html#returning-a-view-versus-a-copy\n",
      "  dados.loc[i,'Soma'] = df_Camaroes.loc[i,'Cam_sete_barbas_art']+df_Camaroes.loc[i,'Cam_branco_art']+df_Camaroes.loc[i,'Cam_rosa_art']+df_Camaroes.loc[i, 'Cam_barba_ruca_art']\n"
     ]
    },
    {
     "data": {
      "text/html": [
       "<div>\n",
       "<style scoped>\n",
       "    .dataframe tbody tr th:only-of-type {\n",
       "        vertical-align: middle;\n",
       "    }\n",
       "\n",
       "    .dataframe tbody tr th {\n",
       "        vertical-align: top;\n",
       "    }\n",
       "\n",
       "    .dataframe thead th {\n",
       "        text-align: right;\n",
       "    }\n",
       "</style>\n",
       "<table border=\"1\" class=\"dataframe\">\n",
       "  <thead>\n",
       "    <tr style=\"text-align: right;\">\n",
       "      <th></th>\n",
       "      <th>Ano</th>\n",
       "      <th>Cam_sete_barbas_art</th>\n",
       "      <th>Soma</th>\n",
       "      <th>Prop_Cam_sete_barbas_art</th>\n",
       "    </tr>\n",
       "  </thead>\n",
       "  <tbody>\n",
       "    <tr>\n",
       "      <th>0</th>\n",
       "      <td>1981</td>\n",
       "      <td>1037.0</td>\n",
       "      <td>1719.0</td>\n",
       "      <td>0.603258</td>\n",
       "    </tr>\n",
       "    <tr>\n",
       "      <th>1</th>\n",
       "      <td>1982</td>\n",
       "      <td>1127.0</td>\n",
       "      <td>2170.0</td>\n",
       "      <td>0.519355</td>\n",
       "    </tr>\n",
       "    <tr>\n",
       "      <th>2</th>\n",
       "      <td>1983</td>\n",
       "      <td>1159.0</td>\n",
       "      <td>4077.0</td>\n",
       "      <td>0.284278</td>\n",
       "    </tr>\n",
       "    <tr>\n",
       "      <th>3</th>\n",
       "      <td>1984</td>\n",
       "      <td>1376.0</td>\n",
       "      <td>5993.0</td>\n",
       "      <td>0.229601</td>\n",
       "    </tr>\n",
       "    <tr>\n",
       "      <th>4</th>\n",
       "      <td>1985</td>\n",
       "      <td>976.0</td>\n",
       "      <td>5281.0</td>\n",
       "      <td>0.184813</td>\n",
       "    </tr>\n",
       "  </tbody>\n",
       "</table>\n",
       "</div>"
      ],
      "text/plain": [
       "    Ano  Cam_sete_barbas_art    Soma  Prop_Cam_sete_barbas_art\n",
       "0  1981               1037.0  1719.0                  0.603258\n",
       "1  1982               1127.0  2170.0                  0.519355\n",
       "2  1983               1159.0  4077.0                  0.284278\n",
       "3  1984               1376.0  5993.0                  0.229601\n",
       "4  1985                976.0  5281.0                  0.184813"
      ]
     },
     "execution_count": 2,
     "metadata": {},
     "output_type": "execute_result"
    }
   ],
   "source": [
    "#Coletando dados\n",
    "\n",
    "df = pd.read_excel('/home/andre/Área de Trabalho/Reconstrução da Estatística Pesqueira BR/Rio de Janeiro/Crustaceos/RJ_Reconstrucao_Crustaceos_2024_06_25.xlsx')\n",
    "\n",
    "df_Camaroes = df[['Ano','Cam_sete_barbas_art', 'Cam_branco_art', 'Cam_rosa_art', 'Cam_barba_ruca_art']].dropna().reset_index(drop=True)\n",
    "\n",
    "\n",
    "dados = df_Camaroes[['Ano','Cam_sete_barbas_art']]\n",
    "for i in range(len(dados['Ano'])):\n",
    "  dados.loc[i,'Soma'] = df_Camaroes.loc[i,'Cam_sete_barbas_art']+df_Camaroes.loc[i,'Cam_branco_art']+df_Camaroes.loc[i,'Cam_rosa_art']+df_Camaroes.loc[i, 'Cam_barba_ruca_art']\n",
    "  \n",
    "dados = dados[['Ano','Cam_sete_barbas_art','Soma']]\n",
    "\n",
    "#Fazendo as proporções\n",
    "for i in range(len(dados['Ano'])):\n",
    "  dados.loc[i,'Prop_Cam_sete_barbas_art'] = dados.loc[i,'Cam_sete_barbas_art'] / dados.loc[i,'Soma']\n",
    "\n",
    "\n",
    "anos_com_dados = dados[\"Ano\"].values\n",
    "anos_para_prever = np.array([1950,1951,1952,1953,1954,1955,1956,1957,1958,1959,1960,1961,1962,1963,1964,1965,1966,1967,1968,1969,1970,1971,1972,1973,1974,1975,1976,1977,1978,1979,1980,1981,1982,1983,1984,1985,1986,1987,1988])\n",
    "todos_anos = np.concatenate((anos_para_prever, anos_com_dados))\n",
    "todos_anos.sort()\n",
    "\n",
    "prop = dados['Prop_Cam_sete_barbas_art'].values\n",
    "dados.head()"
   ]
  },
  {
   "cell_type": "code",
   "execution_count": 3,
   "metadata": {},
   "outputs": [],
   "source": [
    "#Normalização dos dados\n",
    "\n",
    "ano_mean = np.mean(anos_com_dados)\n",
    "ano_std = np.std(anos_com_dados)\n",
    "anos_para_prever_norm = (anos_para_prever - ano_mean)/ano_std\n",
    "anos_com_dados_norm = (anos_com_dados - ano_mean)/ano_std\n",
    "\n",
    "prop_mean = np.mean(prop)\n",
    "prop_std = np.std(prop)\n",
    "prop_norm = (prop - prop_mean)/prop_std"
   ]
  },
  {
   "cell_type": "code",
   "execution_count": 4,
   "metadata": {},
   "outputs": [
    {
     "name": "stderr",
     "output_type": "stream",
     "text": [
      "/home/andre/.local/lib/python3.10/site-packages/keras/src/layers/core/dense.py:87: UserWarning: Do not pass an `input_shape`/`input_dim` argument to a layer. When using Sequential models, prefer using an `Input(shape)` object as the first layer in the model instead.\n",
      "  super().__init__(activity_regularizer=activity_regularizer, **kwargs)\n"
     ]
    }
   ],
   "source": [
    "#Fit do modelo e salvando seus pesos\n",
    "model = keras.Sequential([layers.Dense(96,activation='leaky_relu',input_shape=(1,)),\n",
    "                             layers.Dense(32,activation='leaky_relu'),\n",
    "                             layers.Dense(80,activation='leaky_relu'),\n",
    "                             layers.Dense(80,activation='leaky_relu'),\n",
    "                             layers.Dense(96,activation='leaky_relu'),\n",
    "                             layers.Dense(112,activation='leaky_relu'),\n",
    "                             layers.Dense(1,activation='linear')])\n",
    "\n",
    "opt = keras.optimizers.Nadam(learning_rate=0.001)\n",
    "model.compile(optimizer=opt, loss='mse')\n",
    "\n",
    "\n",
    "#history = model.fit(anos_com_dados_norm,prop_norm, epochs=200, verbose=1)\n",
    "#model.save_weights('/home/andre/Área de Trabalho/Reconstrução da Estatística Pesqueira BR/Rio de Janeiro/Crustaceos/Cam_sete_barbas/pesos prop art 1950-1988/.weights.h5', overwrite=True)"
   ]
  },
  {
   "cell_type": "code",
   "execution_count": 5,
   "metadata": {},
   "outputs": [
    {
     "name": "stderr",
     "output_type": "stream",
     "text": [
      "/home/andre/.local/lib/python3.10/site-packages/keras/src/saving/saving_lib.py:415: UserWarning: Skipping variable loading for optimizer 'nadam', because it has 2 variables whereas the saved optimizer has 31 variables. \n",
      "  saveable.load_own_variables(weights_store.get(inner_path))\n"
     ]
    }
   ],
   "source": [
    "model.load_weights('/home/andre/Área de Trabalho/Reconstrução da Estatística Pesqueira BR/Rio de Janeiro/Crustaceos/Cam_sete_barbas/pesos prop art 1950-1988/.weights.h5')"
   ]
  },
  {
   "cell_type": "code",
   "execution_count": 6,
   "metadata": {},
   "outputs": [
    {
     "name": "stdout",
     "output_type": "stream",
     "text": [
      "\u001b[1m1/1\u001b[0m \u001b[32m━━━━━━━━━━━━━━━━━━━━\u001b[0m\u001b[37m\u001b[0m \u001b[1m0s\u001b[0m 53ms/step\n",
      "\u001b[1m2/2\u001b[0m \u001b[32m━━━━━━━━━━━━━━━━━━━━\u001b[0m\u001b[37m\u001b[0m \u001b[1m0s\u001b[0m 2ms/step \n",
      "\u001b[1m2/2\u001b[0m \u001b[32m━━━━━━━━━━━━━━━━━━━━\u001b[0m\u001b[37m\u001b[0m \u001b[1m0s\u001b[0m 3ms/step \n",
      "Previsões dos dados ausentes: [[1.        ]\n",
      " [1.        ]\n",
      " [1.        ]\n",
      " [1.        ]\n",
      " [1.        ]\n",
      " [1.        ]\n",
      " [1.        ]\n",
      " [1.        ]\n",
      " [1.        ]\n",
      " [1.        ]\n",
      " [1.        ]\n",
      " [1.        ]\n",
      " [1.        ]\n",
      " [1.        ]\n",
      " [1.        ]\n",
      " [1.        ]\n",
      " [1.        ]\n",
      " [1.        ]\n",
      " [1.        ]\n",
      " [1.        ]\n",
      " [1.        ]\n",
      " [1.        ]\n",
      " [1.        ]\n",
      " [1.        ]\n",
      " [1.        ]\n",
      " [0.97062224]\n",
      " [0.9227134 ]\n",
      " [0.8736949 ]\n",
      " [0.8227967 ]\n",
      " [0.7686056 ]\n",
      " [0.70451355]\n",
      " [0.62879187]\n",
      " [0.53224945]\n",
      " [0.38076764]\n",
      " [0.25048846]\n",
      " [0.22855274]\n",
      " [0.22575693]\n",
      " [0.22180218]\n",
      " [0.21167858]]\n"
     ]
    },
    {
     "data": {
      "image/png": "[encoded data removed]",
      "text/plain": [
       "<Figure size 432x288 with 1 Axes>"
      ]
     },
     "metadata": {
      "needs_background": "light"
     },
     "output_type": "display_data"
    }
   ],
   "source": [
    "#Previsões\n",
    "prev_disponiveis = model.predict(anos_com_dados_norm)*prop_std + prop_mean\n",
    "prev_ausentes = model.predict(anos_para_prever_norm)*prop_std + prop_mean\n",
    "\n",
    "#Colocando valores negativos para 0\n",
    "for i in range(len(prev_ausentes)):\n",
    "    if prev_ausentes[i]<0:\n",
    "        prev_ausentes[i]=0\n",
    "    if prev_ausentes[i]>=1:\n",
    "        prev_ausentes[i]=1\n",
    "\n",
    "#Plot dos dados e previsões\n",
    "f1=plt.figure(1).add_subplot()\n",
    "f1.scatter(anos_com_dados,prop,label='Dados disponíveis')\n",
    "f1.scatter(anos_para_prever,prev_ausentes, color='red', label='Previsões dos dados ausentes')\n",
    "\n",
    "#Plot do fit da rede\n",
    "p = np.linspace(-2,2,50)\n",
    "y = model.predict(p)*prop_std + prop_mean\n",
    "f1.plot(p*ano_std + ano_mean,y,color='orange',label='Fit da rede')\n",
    "\n",
    "#Print das previsões\n",
    "print('Previsões dos dados ausentes:', prev_ausentes)\n",
    "\n",
    "\n",
    "plt.legend()\n",
    "plt.show()"
   ]
  },
  {
   "cell_type": "code",
   "execution_count": 23,
   "metadata": {},
   "outputs": [
    {
     "data": {
      "image/png": "[encoded data removed]",
      "text/plain": [
       "<Figure size 432x288 with 1 Axes>"
      ]
     },
     "metadata": {
      "needs_background": "light"
     },
     "output_type": "display_data"
    }
   ],
   "source": [
    "loss = history.history['loss']\n",
    "plt.plot(loss,label='loss')\n",
    "plt.legend()\n",
    "plt.show()"
   ]
  },
  {
   "cell_type": "code",
   "execution_count": 7,
   "metadata": {},
   "outputs": [
    {
     "name": "stdout",
     "output_type": "stream",
     "text": [
      "\u001b[1m2/2\u001b[0m \u001b[32m━━━━━━━━━━━━━━━━━━━━\u001b[0m\u001b[37m\u001b[0m \u001b[1m0s\u001b[0m 2ms/step \n",
      "     Ano  Cam_sete_barbas_art  Valor acrescido\n",
      "0   1950          1597.115234      1597.115234\n",
      "1   1951          1517.034424      1517.034424\n",
      "2   1952          1435.554077      1435.554077\n",
      "3   1953          1287.010010      1287.010010\n",
      "4   1954          1159.637939      1159.637939\n",
      "5   1955          1402.511719      1402.511719\n",
      "6   1956          1040.922485      1040.922485\n",
      "7   1957           781.917480       781.917480\n",
      "8   1958          1015.011108      1015.011108\n",
      "9   1959          1615.329224      1615.329224\n",
      "10  1960           979.605896       979.605896\n",
      "11  1961           739.330261       739.330261\n",
      "12  1962          1549.439941      1549.439941\n",
      "13  1963          1568.075073      1568.075073\n",
      "14  1964          1865.081177      1865.081177\n",
      "15  1965          2090.936279      2090.936279\n",
      "16  1966          2129.691406      2129.691406\n",
      "17  1967          3208.268799      3208.268799\n",
      "18  1968          5343.994141      5343.994141\n",
      "19  1969          3368.691650      3368.691650\n",
      "20  1970          5020.974121      5020.974121\n",
      "21  1971          4249.449707      4249.449707\n",
      "22  1972          5174.506348      5174.506348\n",
      "23  1973          7983.619141      7983.619141\n",
      "24  1974          1896.200806      1896.200806\n",
      "25  1975          6140.026855      6140.026855\n",
      "26  1976          2257.782471      2257.782471\n",
      "27  1977          4971.680176      4971.680176\n",
      "28  1978         20440.332031     18585.332031\n",
      "29  1979          2017.589722      2017.589722\n",
      "30  1980          1864.237061       786.237122\n",
      "31  1981          1446.343506       409.343506\n",
      "32  1982          1511.284180       384.284119\n",
      "33  1983          1446.860352       287.860352\n",
      "34  1984          1513.017212       137.017181\n",
      "35  1985          1225.579590       249.579590\n",
      "36  1986          1507.744629       281.744659\n",
      "37  1987          1576.380615       268.380646\n",
      "38  1988          1547.021729       178.021683\n"
     ]
    }
   ],
   "source": [
    "#Lista de anos sem buracos normalizada e sua predição      (para poder me referir por indices)\n",
    "\n",
    "anos = np.arange(1950,np.max(anos_para_prever)+1)\n",
    "anos_norm = (anos-ano_mean)/ano_std\n",
    "prev_continua = model.predict(anos_norm)*prop_std + prop_mean\n",
    "\n",
    "for i in range(len(prev_continua)):\n",
    "    if prev_continua[i]<0:\n",
    "        prev_continua[i]=0\n",
    "    if prev_continua[i]>=1:\n",
    "        prev_continua[i]=1\n",
    "\n",
    "#Trazendo valores previstos para Camarao_art\n",
    "df_prev_Camarao_art = pd.read_excel('/home/andre/Área de Trabalho/Reconstrução da Estatística Pesqueira BR/Rio de Janeiro/Crustaceos/Camarao misturado/Previsão Camarao_art_1962-1974.xlsx')\n",
    "\n",
    "for i in range(len(df_prev_Camarao_art['Ano'])):\n",
    "    if pd.isnull(df.loc[i,'Camarao_art'])==True:\n",
    "       df.loc[i,'Camarao_art'] = df_prev_Camarao_art.loc[i,'Camarao_art']\n",
    "\n",
    "\n",
    "df_preenchido = df[['Ano','Cam_sete_barbas_art']].replace(np.nan,0)\n",
    "for i in range(len(prev_continua)):\n",
    "      df_preenchido.loc[i,'Cam_sete_barbas_art']=df_preenchido.loc[i,'Cam_sete_barbas_art']+df.loc[i,'Camarao_art']*prev_continua[i]\n",
    "      df_preenchido.loc[i,'Valor acrescido']=df.loc[i,'Camarao_art']*prev_continua[i]\n",
    "      \n",
    "df_preenchido = df_preenchido.loc[:1988-1950,:]\n",
    "with pd.option_context('display.max_rows', None,):\n",
    "    print(df_preenchido)\n",
    "\n",
    "\n",
    "#Planilha com os dados preenchidos\n",
    "df_preenchido.to_excel('/home/andre/Área de Trabalho/Reconstrução da Estatística Pesqueira BR/Rio de Janeiro/Crustaceos/Cam_sete_barbas/Previsão Camarao_sete_barbas_art_1950-1988.xlsx')"
   ]
  },
  {
   "cell_type": "code",
   "execution_count": 9,
   "metadata": {},
   "outputs": [
    {
     "name": "stdout",
     "output_type": "stream",
     "text": [
      "     Ano  Camarao_art\n",
      "0   1950     0.000000\n",
      "1   1951     0.000000\n",
      "2   1952     0.000000\n",
      "3   1953     0.000000\n",
      "4   1954     0.000000\n",
      "5   1955     0.000000\n",
      "6   1956     0.000000\n",
      "7   1957     0.000000\n",
      "8   1958     0.000000\n",
      "9   1959     0.000000\n",
      "10  1960     0.000000\n",
      "11  1961     0.000000\n",
      "12  1962     0.000000\n",
      "13  1963     0.000000\n",
      "14  1964     0.000000\n",
      "15  1965     0.000000\n",
      "16  1966     0.000000\n",
      "17  1967     0.000000\n",
      "18  1968     0.000000\n",
      "19  1969     0.000000\n",
      "20  1970     0.000000\n",
      "21  1971     0.000000\n",
      "22  1972     0.000000\n",
      "23  1973     0.000000\n",
      "24  1974     0.000000\n",
      "25  1975   185.839844\n",
      "26  1976   189.112061\n",
      "27  1977   718.727539\n",
      "28  1978  4002.667969\n",
      "29  1979   607.410278\n",
      "30  1980   329.762878\n",
      "31  1981   241.656494\n",
      "32  1982   337.715881\n",
      "33  1983   468.139648\n",
      "34  1984   409.982819\n",
      "35  1985   842.420410\n",
      "36  1986   966.255371\n",
      "37  1987   941.619385\n",
      "38  1988   662.978333\n"
     ]
    }
   ],
   "source": [
    "#Planilha com Camarao_art decrescido do que ja foi usado de 1950 até 1988\n",
    "Cam_art_sem_sb_50_88 = df[['Ano','Camarao_art']].replace(np.nan,0)\n",
    "for i in range(len(prev_continua)):\n",
    "    Cam_art_sem_sb_50_88.loc[i,'Camarao_art']-=Cam_art_sem_sb_50_88.loc[i,'Camarao_art']*prev_continua[i]\n",
    "\n",
    "Cam_art_sem_sb_50_88 = Cam_art_sem_sb_50_88.iloc[:1989-1950,:]\n",
    "with pd.option_context('display.max_rows', None,):\n",
    "  print(Cam_art_sem_sb_50_88)\n",
    "\n",
    "Cam_art_sem_sb_50_88.to_excel('/home/andre/Área de Trabalho/Reconstrução da Estatística Pesqueira BR/Rio de Janeiro/Crustaceos/Cam_sete_barbas/Cam_art_sem_sb_50-88.xlsx')"
   ]
  }
 ],
 "metadata": {
  "kernelspec": {
   "display_name": "Python 3",
   "language": "python",
   "name": "python3"
  },
  "language_info": {
   "codemirror_mode": {
    "name": "ipython",
    "version": 3
   },
   "file_extension": ".py",
   "mimetype": "text/x-python",
   "name": "python",
   "nbconvert_exporter": "python",
   "pygments_lexer": "ipython3",
   "version": "3.10.12"
  }
 },
 "nbformat": 4,
 "nbformat_minor": 2
}
