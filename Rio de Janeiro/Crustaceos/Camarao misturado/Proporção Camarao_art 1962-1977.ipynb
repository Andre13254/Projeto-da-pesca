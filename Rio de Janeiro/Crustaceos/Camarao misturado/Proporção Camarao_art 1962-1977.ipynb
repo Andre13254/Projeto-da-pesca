{
 "cells": [
  {
   "cell_type": "code",
   "execution_count": 1,
   "metadata": {},
   "outputs": [
    {
     "name": "stderr",
     "output_type": "stream",
     "text": [
      "2024-08-01 20:51:18.010003: I tensorflow/core/util/port.cc:113] oneDNN custom operations are on. You may see slightly different numerical results due to floating-point round-off errors from different computation orders. To turn them off, set the environment variable `TF_ENABLE_ONEDNN_OPTS=0`.\n",
      "2024-08-01 20:51:18.041186: I tensorflow/core/platform/cpu_feature_guard.cc:210] This TensorFlow binary is optimized to use available CPU instructions in performance-critical operations.\n",
      "To enable the following instructions: AVX2 AVX_VNNI FMA, in other operations, rebuild TensorFlow with the appropriate compiler flags.\n",
      "2024-08-01 20:51:18.501698: W tensorflow/compiler/tf2tensorrt/utils/py_utils.cc:38] TF-TRT Warning: Could not find TensorRT\n",
      "/usr/lib/python3/dist-packages/scipy/__init__.py:146: UserWarning: A NumPy version >=1.17.3 and <1.25.0 is required for this version of SciPy (detected version 1.26.4\n",
      "  warnings.warn(f\"A NumPy version >={np_minversion} and <{np_maxversion}\"\n"
     ]
    }
   ],
   "source": [
    "import numpy as np\n",
    "import pandas as pd\n",
    "import keras\n",
    "import matplotlib.pyplot as plt\n",
    "from keras import layers"
   ]
  },
  {
   "cell_type": "code",
   "execution_count": 2,
   "metadata": {},
   "outputs": [
    {
     "data": {
      "text/html": [
       "<div>\n",
       "<style scoped>\n",
       "    .dataframe tbody tr th:only-of-type {\n",
       "        vertical-align: middle;\n",
       "    }\n",
       "\n",
       "    .dataframe tbody tr th {\n",
       "        vertical-align: top;\n",
       "    }\n",
       "\n",
       "    .dataframe thead th {\n",
       "        text-align: right;\n",
       "    }\n",
       "</style>\n",
       "<table border=\"1\" class=\"dataframe\">\n",
       "  <thead>\n",
       "    <tr style=\"text-align: right;\">\n",
       "      <th></th>\n",
       "      <th>Ano</th>\n",
       "      <th>Camarao_art</th>\n",
       "      <th>Camarao_art_ind</th>\n",
       "      <th>Prop_Camarao_art</th>\n",
       "    </tr>\n",
       "  </thead>\n",
       "  <tbody>\n",
       "    <tr>\n",
       "      <th>0</th>\n",
       "      <td>1978</td>\n",
       "      <td>22588.0</td>\n",
       "      <td>22822.0</td>\n",
       "      <td>0.989747</td>\n",
       "    </tr>\n",
       "    <tr>\n",
       "      <th>1</th>\n",
       "      <td>1979</td>\n",
       "      <td>2625.0</td>\n",
       "      <td>21723.0</td>\n",
       "      <td>0.120840</td>\n",
       "    </tr>\n",
       "    <tr>\n",
       "      <th>2</th>\n",
       "      <td>1980</td>\n",
       "      <td>1116.0</td>\n",
       "      <td>1603.0</td>\n",
       "      <td>0.696195</td>\n",
       "    </tr>\n",
       "    <tr>\n",
       "      <th>3</th>\n",
       "      <td>1981</td>\n",
       "      <td>651.0</td>\n",
       "      <td>1115.0</td>\n",
       "      <td>0.583857</td>\n",
       "    </tr>\n",
       "    <tr>\n",
       "      <th>4</th>\n",
       "      <td>1982</td>\n",
       "      <td>722.0</td>\n",
       "      <td>943.0</td>\n",
       "      <td>0.765642</td>\n",
       "    </tr>\n",
       "  </tbody>\n",
       "</table>\n",
       "</div>"
      ],
      "text/plain": [
       "    Ano  Camarao_art  Camarao_art_ind  Prop_Camarao_art\n",
       "0  1978      22588.0          22822.0          0.989747\n",
       "1  1979       2625.0          21723.0          0.120840\n",
       "2  1980       1116.0           1603.0          0.696195\n",
       "3  1981        651.0           1115.0          0.583857\n",
       "4  1982        722.0            943.0          0.765642"
      ]
     },
     "execution_count": 2,
     "metadata": {},
     "output_type": "execute_result"
    }
   ],
   "source": [
    "#Coletando dados\n",
    "\n",
    "df = pd.read_excel('/home/andre/Área de Trabalho/Reconstrução da Estatística Pesqueira BR/Rio de Janeiro/Crustaceos/RJ_Reconstrucao_Crustaceos_2024_06_25.xlsx')\n",
    "\n",
    "df_Camarao_art_e_art_ind = pd.DataFrame(df[['Ano','Camarao_art','Camarao_ind','Camarao_art_ind']])\n",
    "\n",
    "#Juntando valores de art e ind em art_ind(quando os 2 estão presentes) \n",
    "for i in range(len(df_Camarao_art_e_art_ind['Ano'])):\n",
    "  if pd.isnull(df_Camarao_art_e_art_ind.iloc[i,3])==True and pd.isnull(df_Camarao_art_e_art_ind.iloc[i,2])==False and pd.isnull(df_Camarao_art_e_art_ind.iloc[i,1])==False:\n",
    "    df_Camarao_art_e_art_ind.iloc[i,3] = df_Camarao_art_e_art_ind.iloc[i,2] + df_Camarao_art_e_art_ind.iloc[i,1] \n",
    "\n",
    "dados = df_Camarao_art_e_art_ind[['Ano','Camarao_art','Camarao_art_ind']].dropna().reset_index(drop=True)\n",
    "\n",
    "\n",
    "anos_com_dados = dados[\"Ano\"].values\n",
    "anos_para_prever = np.array([1962,1963,1964,1965,1966,1967,1968,1969,1970,1971,1972,1973,1974,1975,1976,1977])\n",
    "todos_anos = np.concatenate((anos_para_prever, anos_com_dados))\n",
    "todos_anos.sort()\n",
    "\n",
    "#Fazendo as proporções\n",
    "for i in range(len(dados['Ano'])):\n",
    "  dados.loc[i,'Prop_Camarao_art'] = dados.loc[i,'Camarao_art'] / dados.loc[i,'Camarao_art_ind']\n",
    "\n",
    "\n",
    "\n",
    "prop = dados['Prop_Camarao_art'].values\n",
    "dados.head()"
   ]
  },
  {
   "cell_type": "code",
   "execution_count": 3,
   "metadata": {},
   "outputs": [],
   "source": [
    "#Normalização dos dados\n",
    "\n",
    "ano_mean = np.mean(anos_com_dados)\n",
    "ano_std = np.std(anos_com_dados)\n",
    "anos_para_prever_norm = (anos_para_prever - ano_mean)/ano_std\n",
    "anos_com_dados_norm = (anos_com_dados - ano_mean)/ano_std\n",
    "\n",
    "prop_mean = np.mean(prop)\n",
    "prop_std = np.std(prop)\n",
    "prop_norm = (prop - prop_mean)/prop_std"
   ]
  },
  {
   "cell_type": "code",
   "execution_count": 4,
   "metadata": {},
   "outputs": [
    {
     "name": "stderr",
     "output_type": "stream",
     "text": [
      "/home/andre/.local/lib/python3.10/site-packages/keras/src/layers/core/dense.py:87: UserWarning: Do not pass an `input_shape`/`input_dim` argument to a layer. When using Sequential models, prefer using an `Input(shape)` object as the first layer in the model instead.\n",
      "  super().__init__(activity_regularizer=activity_regularizer, **kwargs)\n"
     ]
    }
   ],
   "source": [
    "#Fit do modelo e salvando seus pesos\n",
    "model = keras.Sequential([layers.Dense(96,activation='leaky_relu',input_shape=(1,)),\n",
    "                             layers.Dense(32,activation='leaky_relu'),\n",
    "                             layers.Dense(80,activation='leaky_relu'),\n",
    "                             layers.Dense(80,activation='leaky_relu'),\n",
    "                             layers.Dense(96,activation='leaky_relu'),\n",
    "                             layers.Dense(112,activation='leaky_relu'),\n",
    "                             layers.Dense(1,activation='linear')])\n",
    "\n",
    "opt = keras.optimizers.Nadam(learning_rate=0.001)\n",
    "model.compile(optimizer=opt, loss='mse')\n",
    "\n",
    "\n",
    "#history = model.fit(anos_com_dados_norm,prop_norm, epochs=500, verbose=1)\n",
    "#model.save_weights('/home/andre/Área de Trabalho/Reconstrução da Estatística Pesqueira BR/Rio de Janeiro/Crustaceos/Camarao misturado/pesos prop camarao_art/.weights.h5', overwrite=True)"
   ]
  },
  {
   "cell_type": "code",
   "execution_count": 5,
   "metadata": {},
   "outputs": [
    {
     "name": "stderr",
     "output_type": "stream",
     "text": [
      "/home/andre/.local/lib/python3.10/site-packages/keras/src/saving/saving_lib.py:415: UserWarning: Skipping variable loading for optimizer 'nadam', because it has 2 variables whereas the saved optimizer has 31 variables. \n",
      "  saveable.load_own_variables(weights_store.get(inner_path))\n"
     ]
    }
   ],
   "source": [
    "model.load_weights('/home/andre/Área de Trabalho/Reconstrução da Estatística Pesqueira BR/Rio de Janeiro/Crustaceos/Camarao misturado/pesos prop camarao_art/.weights.h5')"
   ]
  },
  {
   "cell_type": "code",
   "execution_count": 6,
   "metadata": {},
   "outputs": [
    {
     "name": "stdout",
     "output_type": "stream",
     "text": [
      "\u001b[1m1/1\u001b[0m \u001b[32m━━━━━━━━━━━━━━━━━━━━\u001b[0m\u001b[37m\u001b[0m \u001b[1m0s\u001b[0m 57ms/step\n",
      "\u001b[1m1/1\u001b[0m \u001b[32m━━━━━━━━━━━━━━━━━━━━\u001b[0m\u001b[37m\u001b[0m \u001b[1m0s\u001b[0m 58ms/step\n",
      "\u001b[1m2/2\u001b[0m \u001b[32m━━━━━━━━━━━━━━━━━━━━\u001b[0m\u001b[37m\u001b[0m \u001b[1m0s\u001b[0m 2ms/step \n",
      "Previsões dos dados ausentes: [[0.9964244 ]\n",
      " [0.98188794]\n",
      " [0.96736574]\n",
      " [0.9532014 ]\n",
      " [0.93901736]\n",
      " [0.92404056]\n",
      " [0.909616  ]\n",
      " [0.8945012 ]\n",
      " [0.87856066]\n",
      " [0.8609096 ]\n",
      " [0.8422048 ]\n",
      " [0.8200102 ]\n",
      " [0.7966357 ]\n",
      " [0.77286094]\n",
      " [0.748057  ]\n",
      " [0.7167663 ]]\n"
     ]
    },
    {
     "data": {
      "image/png": "[encoded data removed]",
      "text/plain": [
       "<Figure size 432x288 with 1 Axes>"
      ]
     },
     "metadata": {
      "needs_background": "light"
     },
     "output_type": "display_data"
    }
   ],
   "source": [
    "#Previsões\n",
    "prev_disponiveis = model.predict(anos_com_dados_norm)*prop_std + prop_mean\n",
    "prev_ausentes = model.predict(anos_para_prever_norm)*prop_std + prop_mean\n",
    "\n",
    "#Colocando valores negativos para 0\n",
    "for i in range(len(prev_ausentes)):\n",
    "    if prev_ausentes[i]<0:\n",
    "        prev_ausentes[i]=0\n",
    "    if prev_ausentes[i]>=1:\n",
    "        prev_ausentes[i]=1\n",
    "\n",
    "#Plot dos dados e previsões\n",
    "f1=plt.figure(1).add_subplot()\n",
    "f1.scatter(anos_com_dados,prop,label='Dados disponíveis')\n",
    "f1.scatter(anos_para_prever,prev_ausentes, color='red', label='Previsões dos dados ausentes')\n",
    "\n",
    "#Plot do fit da rede\n",
    "p = np.linspace(-2,2,50)\n",
    "y = model.predict(p)*prop_std + prop_mean\n",
    "f1.plot(p*ano_std + ano_mean,y,color='orange',label='Fit da rede')\n",
    "\n",
    "#Print das previsões\n",
    "print('Previsões dos dados ausentes:', prev_ausentes)\n",
    "\n",
    "\n",
    "plt.legend()\n",
    "plt.show()"
   ]
  },
  {
   "cell_type": "code",
   "execution_count": 10,
   "metadata": {},
   "outputs": [
    {
     "data": {
      "image/png": "[encoded data removed]",
      "text/plain": [
       "<Figure size 432x288 with 1 Axes>"
      ]
     },
     "metadata": {
      "needs_background": "light"
     },
     "output_type": "display_data"
    }
   ],
   "source": [
    "loss = history.history['loss']\n",
    "plt.plot(loss,label='loss')\n",
    "plt.legend()\n",
    "plt.show()"
   ]
  },
  {
   "cell_type": "code",
   "execution_count": 10,
   "metadata": {},
   "outputs": [
    {
     "name": "stdout",
     "output_type": "stream",
     "text": [
      "\u001b[1m1/1\u001b[0m \u001b[32m━━━━━━━━━━━━━━━━━━━━\u001b[0m\u001b[37m\u001b[0m \u001b[1m0s\u001b[0m 14ms/step\n",
      "     Ano   Camarao_art\n",
      "0   1950   1455.800415\n",
      "1   1951   1392.052368\n",
      "2   1952   1325.763428\n",
      "3   1953   1196.506470\n",
      "4   1954   1085.375488\n",
      "5   1955   1312.276367\n",
      "6   1956    980.512878\n",
      "7   1957    741.592285\n",
      "8   1958    969.680969\n",
      "9   1959   1555.175903\n",
      "10  1960    949.994995\n",
      "11  1961    721.781982\n",
      "12  1962   1549.439941\n",
      "13  1963   1568.075073\n",
      "14  1964   1865.081177\n",
      "15  1965   2057.715088\n",
      "16  1966   2129.691406\n",
      "17  1967   3208.268799\n",
      "18  1968   5343.994141\n",
      "19  1969   3368.691650\n",
      "20  1970   5020.974121\n",
      "21  1971   4249.449707\n",
      "22  1972   5174.506348\n",
      "23  1973   7983.619141\n",
      "24  1974   1756.786133\n",
      "25  1975   6325.866699\n",
      "26  1976   2446.894531\n",
      "27  1977   5690.407715\n",
      "28  1978  22588.000000\n",
      "29  1979   2625.000000\n",
      "30  1980   1116.000000\n",
      "31  1981    651.000000\n",
      "32  1982    722.000000\n",
      "33  1983    756.000000\n",
      "34  1984    547.000000\n",
      "35  1985   1092.000000\n",
      "36  1986   1248.000000\n",
      "37  1987   1210.000000\n",
      "38  1988    841.000000\n",
      "39  1989    934.000000\n",
      "40  1990           NaN\n",
      "41  1991           NaN\n",
      "42  1992           NaN\n",
      "43  1993           NaN\n",
      "44  1994           NaN\n",
      "45  1995    195.000000\n",
      "46  1996           NaN\n",
      "47  1997           NaN\n",
      "48  1998           NaN\n",
      "49  1999           NaN\n",
      "50  2000           NaN\n",
      "51  2001           NaN\n",
      "52  2002           NaN\n",
      "53  2003           NaN\n",
      "54  2004           NaN\n",
      "55  2005           NaN\n",
      "56  2006           NaN\n",
      "57  2007     43.000000\n",
      "58  2008     18.510000\n",
      "59  2009    144.585000\n",
      "60  2010    105.324000\n",
      "61  2011      9.212000\n",
      "62  2012      1.892000\n",
      "63  2013     52.108000\n",
      "64  2014     35.967000\n",
      "65  2015      1.006000\n",
      "66  2016      0.008000\n",
      "67  2017      9.169000\n",
      "68  2018     26.372700\n",
      "69  2019     36.649400\n",
      "70  2020      0.905750\n",
      "71  2021      0.122330\n",
      "72  2022      3.182630\n"
     ]
    }
   ],
   "source": [
    "#Lista de anos sem buracos normalizada e sua predição      (para poder me referir por indices)\n",
    "\n",
    "anos = np.arange(1950,np.max(anos_para_prever)+1)\n",
    "anos_norm = (anos-ano_mean)/ano_std\n",
    "prev_continua = model.predict(anos_norm)*prop_std + prop_mean\n",
    "\n",
    "for i in range(len(prev_continua)):\n",
    "    if prev_continua[i]<0:\n",
    "        prev_continua[i]=0\n",
    "    if prev_continua[i]>=1:\n",
    "        prev_continua[i]=1\n",
    "\n",
    "#Trazendo valores previstos para Camarao_art_ind\n",
    "df_prev_Camarao_art_ind = pd.read_excel('/home/andre/Área de Trabalho/Reconstrução da Estatística Pesqueira BR/Rio de Janeiro/Crustaceos/Desagregações 1950-1974/Desagregações 1950-1974.xlsx')\n",
    "df_prev_Camarao_art_ind = df_prev_Camarao_art_ind[['Ano','Camarao_art_ind']]\n",
    "\n",
    "\n",
    "\n",
    "df_preenchido = df[['Ano','Camarao_art']]\n",
    "for i in range(len(prev_continua)):\n",
    "      df_preenchido.loc[i,'Camarao_art']=df_prev_Camarao_art_ind.loc[i,'Camarao_art_ind']*prev_continua[i]\n",
    "\n",
    "\n",
    "with pd.option_context('display.max_rows', None,):\n",
    "    print(df_preenchido)\n",
    "\n",
    "\n",
    "#Planilha com os dados preenchidos\n",
    "df_preenchido.to_excel('/home/andre/Área de Trabalho/Reconstrução da Estatística Pesqueira BR/Rio de Janeiro/Crustaceos/Camarao misturado/Previsão Camarao_art_1962-1977.xlsx')"
   ]
  },
  {
   "cell_type": "code",
   "execution_count": 11,
   "metadata": {},
   "outputs": [
    {
     "name": "stdout",
     "output_type": "stream",
     "text": [
      "     Ano   Camarao_ind\n",
      "0   1950      0.000030\n",
      "1   1951     -0.000050\n",
      "2   1952     -0.000059\n",
      "3   1953     -0.000040\n",
      "4   1954     -0.000051\n",
      "5   1955     -0.000053\n",
      "6   1956     -0.000026\n",
      "7   1957      0.000015\n",
      "8   1958      0.000020\n",
      "9   1959      0.000051\n",
      "10  1960     -0.000011\n",
      "11  1961      0.000028\n",
      "12  1962      5.560059\n",
      "13  1963     28.924927\n",
      "14  1964     62.918823\n",
      "15  1965    101.026124\n",
      "16  1966    138.308594\n",
      "17  1967    263.731201\n",
      "18  1968    531.005859\n",
      "19  1969    397.308350\n",
      "20  1970    694.025879\n",
      "21  1971    686.550293\n",
      "22  1972    969.493652\n",
      "23  1973   1752.380859\n",
      "24  1974    448.470535\n",
      "25  1975   1859.133301\n",
      "26  1976    824.105469\n",
      "27  1977   2248.592285\n",
      "28  1978    234.000000\n",
      "29  1979  19098.000000\n",
      "30  1980    487.000000\n",
      "31  1981    464.000000\n",
      "32  1982    221.000000\n",
      "33  1983     90.000000\n",
      "34  1984     95.000000\n",
      "35  1985   1004.000000\n",
      "36  1986    101.000000\n",
      "37  1987     44.000000\n",
      "38  1988     55.000000\n",
      "39  1989    191.000000\n",
      "40  1990           NaN\n",
      "41  1991           NaN\n",
      "42  1992           NaN\n",
      "43  1993           NaN\n",
      "44  1994           NaN\n",
      "45  1995    425.000000\n",
      "46  1996     10.000000\n",
      "47  1997     14.500000\n",
      "48  1998     22.500000\n",
      "49  1999     17.500000\n",
      "50  2000     27.000000\n",
      "51  2001     15.500000\n",
      "52  2002     18.500000\n",
      "53  2003     27.500000\n",
      "54  2004     22.000000\n",
      "55  2005     21.500000\n",
      "56  2006     18.500000\n",
      "57  2007     15.500000\n",
      "58  2008           NaN\n",
      "59  2009      2.615000\n",
      "60  2010     22.813000\n",
      "61  2011     12.206000\n",
      "62  2012      9.917000\n",
      "63  2013     20.073000\n",
      "64  2014     22.071000\n",
      "65  2015      5.222000\n",
      "66  2016           NaN\n",
      "67  2017     37.885300\n",
      "68  2018     65.211200\n",
      "69  2019    143.563000\n",
      "70  2020    160.215000\n",
      "71  2021    120.097000\n",
      "72  2022     74.298000\n"
     ]
    }
   ],
   "source": [
    "#Planilha com as previsões para Camarao_ind  (diferença entre art_ind e art)\n",
    "\n",
    "Cam_ind_preenchido = df[['Ano','Camarao_ind']]\n",
    "for i in range(len(df_preenchido['Ano'])):\n",
    "    if pd.isnull(Cam_ind_preenchido.loc[i,'Camarao_ind'])==True:\n",
    "        Cam_ind_preenchido.loc[i,'Camarao_ind'] = df_prev_Camarao_art_ind.loc[i,'Camarao_art_ind'] - df_preenchido.loc[i,'Camarao_art']\n",
    "\n",
    "with pd.option_context('display.max_rows', None,):        \n",
    "   print(Cam_ind_preenchido)\n",
    "\n",
    "Cam_ind_preenchido.to_excel('/home/andre/Área de Trabalho/Reconstrução da Estatística Pesqueira BR/Rio de Janeiro/Crustaceos/Camarao misturado/Previsão Camarao_ind.xlsx')"
   ]
  }
 ],
 "metadata": {
  "kernelspec": {
   "display_name": "Python 3",
   "language": "python",
   "name": "python3"
  },
  "language_info": {
   "codemirror_mode": {
    "name": "ipython",
    "version": 3
   },
   "file_extension": ".py",
   "mimetype": "text/x-python",
   "name": "python",
   "nbconvert_exporter": "python",
   "pygments_lexer": "ipython3",
   "version": "3.10.12"
  }
 },
 "nbformat": 4,
 "nbformat_minor": 2
}
