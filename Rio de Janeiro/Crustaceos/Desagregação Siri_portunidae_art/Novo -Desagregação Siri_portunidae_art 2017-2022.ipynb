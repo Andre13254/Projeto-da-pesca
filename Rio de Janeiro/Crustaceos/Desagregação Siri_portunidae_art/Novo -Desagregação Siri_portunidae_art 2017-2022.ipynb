{
 "cells": [
  {
   "cell_type": "code",
   "execution_count": 1,
   "metadata": {},
   "outputs": [
    {
     "name": "stderr",
     "output_type": "stream",
     "text": [
      "2024-08-03 15:08:15.708420: I tensorflow/core/util/port.cc:113] oneDNN custom operations are on. You may see slightly different numerical results due to floating-point round-off errors from different computation orders. To turn them off, set the environment variable `TF_ENABLE_ONEDNN_OPTS=0`.\n",
      "2024-08-03 15:08:15.746731: I tensorflow/core/platform/cpu_feature_guard.cc:210] This TensorFlow binary is optimized to use available CPU instructions in performance-critical operations.\n",
      "To enable the following instructions: AVX2 AVX_VNNI FMA, in other operations, rebuild TensorFlow with the appropriate compiler flags.\n",
      "2024-08-03 15:08:16.287753: W tensorflow/compiler/tf2tensorrt/utils/py_utils.cc:38] TF-TRT Warning: Could not find TensorRT\n",
      "/usr/lib/python3/dist-packages/scipy/__init__.py:146: UserWarning: A NumPy version >=1.17.3 and <1.25.0 is required for this version of SciPy (detected version 1.26.4\n",
      "  warnings.warn(f\"A NumPy version >={np_minversion} and <{np_maxversion}\"\n"
     ]
    }
   ],
   "source": [
    "import numpy as np\n",
    "import pandas as pd\n",
    "import keras\n",
    "import matplotlib.pyplot as plt\n",
    "from keras import layers"
   ]
  },
  {
   "cell_type": "code",
   "execution_count": 13,
   "metadata": {},
   "outputs": [
    {
     "data": {
      "text/plain": [
       "array([0.88721633, 0.91343586, 0.95922274, 0.98706465, 0.97899195,\n",
       "       0.9779003 ])"
      ]
     },
     "execution_count": 13,
     "metadata": {},
     "output_type": "execute_result"
    }
   ],
   "source": [
    "#Coletando dados\n",
    "\n",
    "df = pd.read_excel('/home/andre/Área de Trabalho/Reconstrução da Estatística Pesqueira BR/Rio de Janeiro/Crustaceos/RJ_Reconstrucao_Crustaceos_2024_06_25.xlsx')\n",
    "\n",
    "df_Siris = df[['Ano','Siri_azul_art', 'Siri_candeia_art', 'Siri_chita_art']].dropna().reset_index(drop=True)\n",
    "\n",
    "\n",
    "\n",
    "for i in range(len(df_Siris['Ano'])):\n",
    "  df_Siris.loc[i,'Soma'] = df_Siris.loc[i,'Siri_azul_art']+df_Siris.loc[i,'Siri_candeia_art']+df_Siris.loc[i,'Siri_chita_art']\n",
    "  \n",
    "dados = df_Siris[['Ano','Siri_azul_art','Siri_candeia_art', 'Siri_chita_art','Soma']]\n",
    "\n",
    "#Fazendo as proporções\n",
    "for i in range(len(dados['Ano'])):\n",
    "  dados.loc[i,'Prop_Siri_azul_art'] = dados.loc[i,'Siri_azul_art'] / dados.loc[i,'Soma']\n",
    "  dados.loc[i,'Prop_Siri_candeia_art'] = dados.loc[i,'Siri_candeia_art'] / dados.loc[i,'Soma']\n",
    "  dados.loc[i,'Prop_Siri_chita_art'] = dados.loc[i,'Siri_chita_art'] / dados.loc[i,'Soma']\n",
    "  \n",
    "\n",
    "anos_com_dados = dados[\"Ano\"].values\n",
    "anos_para_prever = np.array([2017,2018,2019,2020,2021,2022])\n",
    "todos_anos = np.concatenate((anos_para_prever, anos_com_dados))\n",
    "todos_anos.sort()\n",
    "\n",
    "prop_Siri_azul_art = dados['Prop_Siri_azul_art'].values\n",
    "prop_Siri_candeia_art = dados['Prop_Siri_candeia_art'].values\n",
    "prop_Siri_chita_art = dados['Prop_Siri_chita_art'].values\n",
    "dados.head()\n"
   ]
  },
  {
   "cell_type": "code",
   "execution_count": 19,
   "metadata": {},
   "outputs": [
    {
     "name": "stdout",
     "output_type": "stream",
     "text": [
      "    Ano  Siri_azul_art  Siri_candeia_art  Siri_chita_art\n",
      "0  2017       2.590042          0.249570        0.079679\n",
      "1  2018       1.029716          0.069308        0.028276\n",
      "2  2019       1.541807          0.052657        0.012887\n",
      "3  2020       4.093012          0.033222        0.020417\n",
      "4  2021       2.714059          0.049574        0.008666\n",
      "5  2022       0.663906          0.013973        0.001030\n"
     ]
    }
   ],
   "source": [
    "df_prev = pd.read_excel('/home/andre/Área de Trabalho/Reconstrução da Estatística Pesqueira BR/Rio de Janeiro/Crustaceos/RJ_Reconstrucao_Crustaceos_2024_06_25.xlsx')\n",
    "df_prev = df_prev[['Ano','Siri_azul_art', 'Siri_candeia_art', 'Siri_chita_art']].iloc[2017-1950:,:].reset_index(drop=True)\n",
    "\n",
    "\n",
    "df_Siri_portunidae_art= df[['Siri_portunidae_art']].iloc[2017-1950:,:].reset_index(drop=True)\n",
    "\n",
    "\n",
    "\n",
    "\n",
    "for i in range(len(prop_Siri_azul_art)):\n",
    "      df_prev.loc[i,'Siri_azul_art'] = df_Siri_portunidae_art.loc[i,'Siri_portunidae_art']*prop_Siri_azul_art[i]\n",
    "      df_prev.loc[i,'Siri_candeia_art'] = df_Siri_portunidae_art.loc[i,'Siri_portunidae_art']*prop_Siri_candeia_art[i]\n",
    "      df_prev.loc[i,'Siri_chita_art'] = df_Siri_portunidae_art.loc[i,'Siri_portunidae_art']*prop_Siri_chita_art[i]\n",
    "\n",
    "\n",
    "\n",
    "\n",
    "print(df_prev)\n",
    "\n",
    "df_prev.to_excel('/home/andre/Área de Trabalho/Reconstrução da Estatística Pesqueira BR/Rio de Janeiro/Crustaceos/Desagregação Siri_portunidae_art/Desagregação Siri_portunidae_art.xlsx')"
   ]
  }
 ],
 "metadata": {
  "kernelspec": {
   "display_name": "Python 3",
   "language": "python",
   "name": "python3"
  },
  "language_info": {
   "codemirror_mode": {
    "name": "ipython",
    "version": 3
   },
   "file_extension": ".py",
   "mimetype": "text/x-python",
   "name": "python",
   "nbconvert_exporter": "python",
   "pygments_lexer": "ipython3",
   "version": "3.10.12"
  }
 },
 "nbformat": 4,
 "nbformat_minor": 2
}
