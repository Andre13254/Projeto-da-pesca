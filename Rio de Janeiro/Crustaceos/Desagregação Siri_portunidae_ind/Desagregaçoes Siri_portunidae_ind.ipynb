{
 "cells": [
  {
   "cell_type": "code",
   "execution_count": 1,
   "metadata": {},
   "outputs": [],
   "source": [
    "import numpy as np\n",
    "import pandas as pd"
   ]
  },
  {
   "cell_type": "code",
   "execution_count": 2,
   "metadata": {},
   "outputs": [],
   "source": [
    "#Proporções das especies que receberao valores da desagregação\n",
    "prop_Siri_azul_ind= np.load('/home/andre/Área de Trabalho/Reconstrução da Estatística Pesqueira BR/Rio de Janeiro/Crustaceos/Desagregação Siri_portunidae_ind/prev_Siri_azul_ind 2017-2022.npy').flatten()\n",
    "prop_Siri_candeia_ind=np.load('/home/andre/Área de Trabalho/Reconstrução da Estatística Pesqueira BR/Rio de Janeiro/Crustaceos/Desagregação Siri_portunidae_ind/prev_Siri_candeia_ind 2017-2022.npy').flatten()\n",
    "prop_Siri_chita_ind= np.load('/home/andre/Área de Trabalho/Reconstrução da Estatística Pesqueira BR/Rio de Janeiro/Crustaceos/Desagregação Siri_portunidae_ind/prev_Siri_chita_ind 2017-2022.npy').flatten()\n"
   ]
  },
  {
   "cell_type": "code",
   "execution_count": 4,
   "metadata": {},
   "outputs": [],
   "source": [
    "#Soma das proporções\n",
    "prop_soma = prop_Siri_azul_ind + prop_Siri_candeia_ind + prop_Siri_chita_ind \n",
    "\n",
    "#Dividindo proporções pela soma para que de sempre 1\n",
    "for i in range(len(prop_Siri_azul_ind)):\n",
    "  prop_Siri_azul_ind[i] /= prop_soma[i] \n",
    "  prop_Siri_candeia_ind[i] /= prop_soma[i]\n",
    "  prop_Siri_chita_ind [i] /= prop_soma[i]\n"
   ]
  },
  {
   "cell_type": "code",
   "execution_count": 5,
   "metadata": {},
   "outputs": [
    {
     "name": "stdout",
     "output_type": "stream",
     "text": [
      "    Ano  Siri_azul_ind  Siri_candeia_ind  Siri_chita_ind\n",
      "0  2017       0.830337          1.976628        1.136035\n",
      "1  2018       0.703958          2.802174        0.462867\n",
      "2  2019       0.435246          3.052783        0.105971\n",
      "3  2020       0.197582          1.794117        0.055301\n",
      "4  2021       0.109288          1.365056        0.024656\n",
      "5  2022       0.031491          0.606604        0.002906\n"
     ]
    }
   ],
   "source": [
    "df = pd.read_excel('/home/andre/Área de Trabalho/Reconstrução da Estatística Pesqueira BR/Rio de Janeiro/Crustaceos/RJ_Reconstrucao_Crustaceos_2024_06_25.xlsx')\n",
    "df_prev = df[['Ano','Siri_azul_ind', 'Siri_candeia_ind', 'Siri_chita_ind']].iloc[2017-1950:,:].reset_index(drop=True)\n",
    "\n",
    "\n",
    "df_Siri_portunidae_ind= df[['Siri_portunidae_ind']].iloc[2017-1950:,:].reset_index(drop=True)\n",
    "\n",
    "\n",
    "\n",
    "\n",
    "for i in range(len(prop_Siri_azul_ind)):\n",
    "      df_prev.loc[i,'Siri_azul_ind'] = df_Siri_portunidae_ind.loc[i,'Siri_portunidae_ind']*prop_Siri_azul_ind[i]\n",
    "      df_prev.loc[i,'Siri_candeia_ind'] = df_Siri_portunidae_ind.loc[i,'Siri_portunidae_ind']*prop_Siri_candeia_ind[i]\n",
    "      df_prev.loc[i,'Siri_chita_ind'] = df_Siri_portunidae_ind.loc[i,'Siri_portunidae_ind']*prop_Siri_chita_ind[i]\n",
    "\n",
    "\n",
    "\n",
    "\n",
    "print(df_prev)\n",
    "\n",
    "df_prev.to_excel('/home/andre/Área de Trabalho/Reconstrução da Estatística Pesqueira BR/Rio de Janeiro/Crustaceos/Desagregação Siri_portunidae_ind/Desagregação Siri_portunidae_ind.xlsx')"
   ]
  }
 ],
 "metadata": {
  "kernelspec": {
   "display_name": "Python 3",
   "language": "python",
   "name": "python3"
  },
  "language_info": {
   "codemirror_mode": {
    "name": "ipython",
    "version": 3
   },
   "file_extension": ".py",
   "mimetype": "text/x-python",
   "name": "python",
   "nbconvert_exporter": "python",
   "pygments_lexer": "ipython3",
   "version": "3.10.12"
  }
 },
 "nbformat": 4,
 "nbformat_minor": 2
}
