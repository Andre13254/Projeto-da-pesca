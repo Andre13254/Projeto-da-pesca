{
 "cells": [
  {
   "cell_type": "code",
   "execution_count": 1,
   "metadata": {},
   "outputs": [],
   "source": [
    "import numpy as np\n",
    "import pandas as pd"
   ]
  },
  {
   "cell_type": "code",
   "execution_count": 2,
   "metadata": {},
   "outputs": [],
   "source": [
    "#Proporções das especies que receberao valores da desagregação\n",
    "\n",
    "prop_Camarao_art_ind = np.load('/home/andre/Área de Trabalho/Reconstrução da Estatística Pesqueira BR/Rio de Janeiro/Crustaceos/Camarao misturado/prev_continua_Camarao_art_ind.npy').flatten()\n",
    "prop_Caran_uca_art = np.load('/home/andre/Área de Trabalho/Reconstrução da Estatística Pesqueira BR/Rio de Janeiro/Crustaceos/Caran_uca_art/prev_continua_Caran_uca_art.npy').flatten()\n",
    "prop_Siri_azul_art_ind =  np.load('/home/andre/Área de Trabalho/Reconstrução da Estatística Pesqueira BR/Rio de Janeiro/Crustaceos/Siri_azul/prev_continua_Siri_azul_art_ind.npy').flatten()\n",
    "prop_Lagosta_art_ind =  np.load('/home/andre/Área de Trabalho/Reconstrução da Estatística Pesqueira BR/Rio de Janeiro/Crustaceos/Lagosta/prev_continua_Lagosta_art_ind.npy').flatten()"
   ]
  },
  {
   "cell_type": "code",
   "execution_count": 3,
   "metadata": {},
   "outputs": [
    {
     "data": {
      "text/plain": [
       "array([0.        , 0.        , 0.        , 0.        , 0.        ,\n",
       "       0.00770368, 0.00811557, 0.00852649, 0.00898406, 0.0095137 ,\n",
       "       0.01024782, 0.01181121, 0.01368477, 0.01572626, 0.01778391,\n",
       "       0.01984158, 0.02189924, 0.02395689, 0.02599682, 0.02739317,\n",
       "       0.02821942, 0.02871756, 0.0291047 , 0.02942364, 0.02941942],\n",
       "      dtype=float32)"
      ]
     },
     "execution_count": 3,
     "metadata": {},
     "output_type": "execute_result"
    }
   ],
   "source": [
    "#Colocando Lagosta para zero de 1954 ate 1954\n",
    "\n",
    "for i in range(len(prop_Lagosta_art_ind)):\n",
    "    if i+1950 in [1950,1951,1952,1953,1954]:\n",
    "        prop_Lagosta_art_ind[i]=0\n",
    "\n",
    "prop_Lagosta_art_ind"
   ]
  },
  {
   "cell_type": "code",
   "execution_count": 4,
   "metadata": {},
   "outputs": [],
   "source": [
    "#Soma das proporções\n",
    "prop_soma = prop_Camarao_art_ind + prop_Caran_uca_art + prop_Siri_azul_art_ind  + prop_Lagosta_art_ind\n",
    "\n",
    "#Dividindo proporções pela soma para que de sempre 1\n",
    "for i in range(len(prop_Camarao_art_ind)):\n",
    "  prop_Camarao_art_ind[i] /= prop_soma[i] \n",
    "  prop_Caran_uca_art[i] /= prop_soma[i]\n",
    "  prop_Siri_azul_art_ind [i] /= prop_soma[i]\n",
    "  prop_Lagosta_art_ind[i] /= prop_soma[i]"
   ]
  },
  {
   "cell_type": "code",
   "execution_count": 9,
   "metadata": {},
   "outputs": [
    {
     "name": "stdout",
     "output_type": "stream",
     "text": [
      "     Ano  Camarao_art_ind  Caran_uca_art  Siri_azul_art_ind  Lagosta_art_ind\n",
      "0   1950      1455.800445     365.555543         183.606659         0.000000\n",
      "1   1951      1392.052318     335.043755         171.595746         0.000000\n",
      "2   1952      1325.763369     305.257391         159.647589         0.000000\n",
      "3   1953      1196.506430     262.914797         140.586455         0.000000\n",
      "4   1954      1085.375437     227.003782         124.239550         0.000000\n",
      "5   1955      1312.276314     260.336225         146.328647        12.383948\n",
      "6   1956       980.512852     183.687093         106.462908         9.747549\n",
      "7   1957       741.592300     130.602805          78.390950         7.744310\n",
      "8   1958       969.680989     159.864346          99.817886        10.669926\n",
      "9   1959      1555.175955     238.563565         155.588561        18.113314\n",
      "10  1960       949.994984     134.633460          92.246322        11.905235\n",
      "11  1961       721.782010      93.497062          67.900824        10.410631\n",
      "12  1962      1555.000000     174.000000          75.000000         8.000000\n",
      "13  1963      1597.000000     207.000000         217.000000        34.000000\n",
      "14  1964      1928.000000     114.000000         175.000000        13.000000\n",
      "15  1965      2158.741212     149.224335         132.739459        50.026284\n",
      "16  1966      2268.000000     122.000000          76.000000        16.000000\n",
      "17  1967      3472.000000     162.000000         109.000000        71.000000\n",
      "18  1968      5875.000000     125.000000          62.000000       441.000000\n",
      "19  1969      3766.000000            NaN                NaN              NaN\n",
      "20  1970      5715.000000            NaN                NaN              NaN\n",
      "21  1971      4936.000000            NaN                NaN              NaN\n",
      "22  1972      6144.000000            NaN                NaN              NaN\n",
      "23  1973      9736.000000            NaN                NaN              NaN\n",
      "24  1974      2205.256668      13.520522          96.080208        65.403522\n",
      "25  1975      8185.000000            NaN                NaN              NaN\n",
      "26  1976      3271.000000      22.000000         222.000000        26.000000\n",
      "27  1977      7939.000000      32.000000         584.000000       506.000000\n",
      "28  1978              NaN            NaN                NaN              NaN\n",
      "29  1979              NaN      42.000000                NaN              NaN\n",
      "30  1980              NaN      34.000000                NaN              NaN\n",
      "31  1981              NaN      35.000000                NaN              NaN\n",
      "32  1982              NaN      46.000000                NaN              NaN\n",
      "33  1983              NaN      70.000000                NaN              NaN\n",
      "34  1984              NaN      60.000000                NaN              NaN\n",
      "35  1985              NaN      54.000000                NaN              NaN\n",
      "36  1986              NaN      42.000000                NaN              NaN\n",
      "37  1987              NaN      57.000000                NaN              NaN\n",
      "38  1988              NaN      64.000000                NaN              NaN\n",
      "39  1989              NaN      36.000000                NaN              NaN\n",
      "40  1990              NaN            NaN                NaN              NaN\n",
      "41  1991              NaN            NaN                NaN              NaN\n",
      "42  1992              NaN            NaN                NaN              NaN\n",
      "43  1993              NaN            NaN                NaN              NaN\n",
      "44  1994              NaN            NaN                NaN              NaN\n",
      "45  1995              NaN            NaN                NaN              NaN\n",
      "46  1996              NaN            NaN                NaN              NaN\n",
      "47  1997              NaN            NaN                NaN              NaN\n",
      "48  1998              NaN            NaN                NaN              NaN\n",
      "49  1999              NaN            NaN                NaN              NaN\n",
      "50  2000              NaN            NaN                NaN              NaN\n",
      "51  2001              NaN      57.500000                NaN              NaN\n",
      "52  2002              NaN      41.500000                NaN              NaN\n",
      "53  2003              NaN      58.000000                NaN              NaN\n",
      "54  2004              NaN      63.500000                NaN              NaN\n",
      "55  2005              NaN      61.500000                NaN              NaN\n",
      "56  2006              NaN      63.500000                NaN              NaN\n",
      "57  2007              NaN      93.500000                NaN              NaN\n",
      "58  2008              NaN            NaN                NaN              NaN\n",
      "59  2009              NaN            NaN                NaN              NaN\n",
      "60  2010              NaN            NaN                NaN              NaN\n",
      "61  2011              NaN            NaN                NaN              NaN\n",
      "62  2012              NaN            NaN                NaN              NaN\n",
      "63  2013              NaN            NaN                NaN              NaN\n",
      "64  2014              NaN            NaN                NaN              NaN\n",
      "65  2015              NaN            NaN                NaN              NaN\n",
      "66  2016              NaN            NaN                NaN              NaN\n",
      "67  2017              NaN      30.485110                NaN              NaN\n",
      "68  2018              NaN      88.685060                NaN              NaN\n",
      "69  2019              NaN      90.433020                NaN              NaN\n",
      "70  2020              NaN      59.924310                NaN              NaN\n",
      "71  2021              NaN      92.854620                NaN              NaN\n",
      "72  2022              NaN      28.994500                NaN              NaN\n"
     ]
    }
   ],
   "source": [
    "df_prev = pd.read_excel('/home/andre/Área de Trabalho/Reconstrução da Estatística Pesqueira BR/Rio de Janeiro/Crustaceos/RJ_Reconstrucao_Crustaceos_2024_06_25.xlsx')\n",
    "df_prev = df_prev[['Ano','Camarao_art_ind','Caran_uca_art','Siri_azul_art_ind','Lagosta_art_ind']]\n",
    "\n",
    "\n",
    "df_TOTAL_CRUSTACEOS_M = pd.read_excel('/home/andre/Área de Trabalho/Reconstrução da Estatística Pesqueira BR/Rio de Janeiro/Crustaceos/Totais/Previsão TOTAL_CRUSTACEOS_M_1950-1974.xlsx')\n",
    "df_TOTAL_CRUSTACEOS_M = df_TOTAL_CRUSTACEOS_M[['Ano','TOTAL_CRUSTACEOS_M']]\n",
    "\n",
    "anos_para_prever = np.array([1950,1951,1952,1953,1954,1955,1956,1957,1958,1959,1960,1961,1965,1974])\n",
    "\n",
    "for i in range(len(prop_Camarao_art_ind)):\n",
    "    if i+1950 in anos_para_prever:\n",
    "      df_prev.loc[i,'Camarao_art_ind'] = df_TOTAL_CRUSTACEOS_M.loc[i,'TOTAL_CRUSTACEOS_M']*prop_Camarao_art_ind[i]\n",
    "      df_prev.loc[i,'Caran_uca_art'] = df_TOTAL_CRUSTACEOS_M.loc[i,'TOTAL_CRUSTACEOS_M']*prop_Caran_uca_art[i]\n",
    "      df_prev.loc[i,'Siri_azul_art_ind'] = df_TOTAL_CRUSTACEOS_M.loc[i,'TOTAL_CRUSTACEOS_M']*prop_Siri_azul_art_ind[i]\n",
    "      df_prev.loc[i,'Lagosta_art_ind'] = df_TOTAL_CRUSTACEOS_M.loc[i,'TOTAL_CRUSTACEOS_M']*prop_Lagosta_art_ind[i]\n",
    "\n",
    "\n",
    "\n",
    "with pd.option_context('display.max_rows', None,):\n",
    "   print(df_prev)\n",
    "\n",
    "df_prev.to_excel('/home/andre/Área de Trabalho/Reconstrução da Estatística Pesqueira BR/Rio de Janeiro/Crustaceos/Desagregações 1950-1974/Desagregações 1950-1974.xlsx')"
   ]
  }
 ],
 "metadata": {
  "kernelspec": {
   "display_name": "Python 3",
   "language": "python",
   "name": "python3"
  },
  "language_info": {
   "codemirror_mode": {
    "name": "ipython",
    "version": 3
   },
   "file_extension": ".py",
   "mimetype": "text/x-python",
   "name": "python",
   "nbconvert_exporter": "python",
   "pygments_lexer": "ipython3",
   "version": "3.10.12"
  }
 },
 "nbformat": 4,
 "nbformat_minor": 2
}
