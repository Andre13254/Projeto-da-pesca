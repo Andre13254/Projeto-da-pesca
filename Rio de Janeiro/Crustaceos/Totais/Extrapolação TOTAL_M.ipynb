{
 "cells": [
  {
   "cell_type": "code",
   "execution_count": 1,
   "metadata": {},
   "outputs": [
    {
     "name": "stderr",
     "output_type": "stream",
     "text": [
      "2024-08-01 19:48:44.096472: I tensorflow/core/util/port.cc:113] oneDNN custom operations are on. You may see slightly different numerical results due to floating-point round-off errors from different computation orders. To turn them off, set the environment variable `TF_ENABLE_ONEDNN_OPTS=0`.\n",
      "2024-08-01 19:48:44.125689: I tensorflow/core/platform/cpu_feature_guard.cc:210] This TensorFlow binary is optimized to use available CPU instructions in performance-critical operations.\n",
      "To enable the following instructions: AVX2 AVX_VNNI FMA, in other operations, rebuild TensorFlow with the appropriate compiler flags.\n",
      "2024-08-01 19:48:44.578054: W tensorflow/compiler/tf2tensorrt/utils/py_utils.cc:38] TF-TRT Warning: Could not find TensorRT\n",
      "/usr/lib/python3/dist-packages/scipy/__init__.py:146: UserWarning: A NumPy version >=1.17.3 and <1.25.0 is required for this version of SciPy (detected version 1.26.4\n",
      "  warnings.warn(f\"A NumPy version >={np_minversion} and <{np_maxversion}\"\n"
     ]
    }
   ],
   "source": [
    "import numpy as np\n",
    "import pandas as pd\n",
    "import keras\n",
    "import matplotlib.pyplot as plt\n",
    "from keras import layers"
   ]
  },
  {
   "cell_type": "code",
   "execution_count": 2,
   "metadata": {},
   "outputs": [
    {
     "data": {
      "text/html": [
       "<div>\n",
       "<style scoped>\n",
       "    .dataframe tbody tr th:only-of-type {\n",
       "        vertical-align: middle;\n",
       "    }\n",
       "\n",
       "    .dataframe tbody tr th {\n",
       "        vertical-align: top;\n",
       "    }\n",
       "\n",
       "    .dataframe thead th {\n",
       "        text-align: right;\n",
       "    }\n",
       "</style>\n",
       "<table border=\"1\" class=\"dataframe\">\n",
       "  <thead>\n",
       "    <tr style=\"text-align: right;\">\n",
       "      <th></th>\n",
       "      <th>Ano</th>\n",
       "      <th>TOTAL_CRUSTACEOS_M</th>\n",
       "      <th>TOTAL_CRUSTACEOS_F&amp;M</th>\n",
       "      <th>Prop_TOTAL_CRUSTACEOS_M</th>\n",
       "    </tr>\n",
       "  </thead>\n",
       "  <tbody>\n",
       "    <tr>\n",
       "      <th>0</th>\n",
       "      <td>1962</td>\n",
       "      <td>1812.0</td>\n",
       "      <td>1924.0</td>\n",
       "      <td>0.941788</td>\n",
       "    </tr>\n",
       "    <tr>\n",
       "      <th>1</th>\n",
       "      <td>1963</td>\n",
       "      <td>2055.0</td>\n",
       "      <td>2385.0</td>\n",
       "      <td>0.861635</td>\n",
       "    </tr>\n",
       "    <tr>\n",
       "      <th>2</th>\n",
       "      <td>1964</td>\n",
       "      <td>2230.0</td>\n",
       "      <td>2343.0</td>\n",
       "      <td>0.951771</td>\n",
       "    </tr>\n",
       "    <tr>\n",
       "      <th>3</th>\n",
       "      <td>1966</td>\n",
       "      <td>2482.0</td>\n",
       "      <td>2494.0</td>\n",
       "      <td>0.995188</td>\n",
       "    </tr>\n",
       "    <tr>\n",
       "      <th>4</th>\n",
       "      <td>1967</td>\n",
       "      <td>3814.0</td>\n",
       "      <td>4012.0</td>\n",
       "      <td>0.950648</td>\n",
       "    </tr>\n",
       "  </tbody>\n",
       "</table>\n",
       "</div>"
      ],
      "text/plain": [
       "    Ano  TOTAL_CRUSTACEOS_M  TOTAL_CRUSTACEOS_F&M  Prop_TOTAL_CRUSTACEOS_M\n",
       "0  1962              1812.0                1924.0                 0.941788\n",
       "1  1963              2055.0                2385.0                 0.861635\n",
       "2  1964              2230.0                2343.0                 0.951771\n",
       "3  1966              2482.0                2494.0                 0.995188\n",
       "4  1967              3814.0                4012.0                 0.950648"
      ]
     },
     "execution_count": 2,
     "metadata": {},
     "output_type": "execute_result"
    }
   ],
   "source": [
    "#Coletando dados\n",
    "\n",
    "df = pd.read_excel('/home/andre/Área de Trabalho/Reconstrução da Estatística Pesqueira BR/Rio de Janeiro/Crustaceos/RJ_Reconstrucao_Crustaceos_2024_06_25.xlsx')\n",
    "df_totais = pd.DataFrame(df[['Ano','TOTAL_CRUSTACEOS_M','TOTAL_CRUSTACEOS_F&M']])\n",
    "\n",
    "dados = df_totais.dropna().reset_index(drop=True)\n",
    "\n",
    "#Fazendo as proporções de ostra_art em relação a mexilhao_art\n",
    "for i in range(len(dados['Ano'])):\n",
    "  dados.loc[i,'Prop_TOTAL_CRUSTACEOS_M'] = dados.loc[i,'TOTAL_CRUSTACEOS_M'] / dados.loc[i,'TOTAL_CRUSTACEOS_F&M']\n",
    "\n",
    "\n",
    "anos_com_dados = dados[\"Ano\"].values\n",
    "anos_para_prever = np.array([1950,1951,1952,1953,1954,1955,1956,1957,1958,1959,1960,1961,1965,1974])\n",
    "todos_anos = np.concatenate((anos_para_prever, anos_com_dados))\n",
    "todos_anos.sort()\n",
    "\n",
    "\n",
    "prop = dados['Prop_TOTAL_CRUSTACEOS_M'].values\n",
    "dados.head()"
   ]
  },
  {
   "cell_type": "code",
   "execution_count": 3,
   "metadata": {},
   "outputs": [],
   "source": [
    "#Normalização dos dados\n",
    "\n",
    "ano_mean = np.mean(anos_com_dados)\n",
    "ano_std = np.std(anos_com_dados)\n",
    "anos_para_prever_norm = (anos_para_prever - ano_mean)/ano_std\n",
    "anos_com_dados_norm = (anos_com_dados - ano_mean)/ano_std\n",
    "\n",
    "prop_mean = np.mean(prop)\n",
    "prop_std = np.std(prop)\n",
    "prop_norm = (prop - prop_mean)/prop_std"
   ]
  },
  {
   "cell_type": "code",
   "execution_count": 4,
   "metadata": {},
   "outputs": [
    {
     "name": "stderr",
     "output_type": "stream",
     "text": [
      "/home/andre/.local/lib/python3.10/site-packages/keras/src/layers/core/dense.py:87: UserWarning: Do not pass an `input_shape`/`input_dim` argument to a layer. When using Sequential models, prefer using an `Input(shape)` object as the first layer in the model instead.\n",
      "  super().__init__(activity_regularizer=activity_regularizer, **kwargs)\n"
     ]
    }
   ],
   "source": [
    "#Fit do modelo e salvando seus pesos\n",
    "model = keras.Sequential([layers.Dense(96,activation='leaky_relu',input_shape=(1,)),\n",
    "                             layers.Dense(32,activation='leaky_relu'),\n",
    "                             layers.Dense(80,activation='leaky_relu'),\n",
    "                             layers.Dense(80,activation='leaky_relu'),\n",
    "                             layers.Dense(96,activation='leaky_relu'),\n",
    "                             layers.Dense(112,activation='leaky_relu'),\n",
    "                             layers.Dense(1,activation='linear')])\n",
    "\n",
    "opt = keras.optimizers.Nadam(learning_rate=0.001)\n",
    "model.compile(optimizer=opt, loss='mse')\n",
    "\n",
    "\n",
    "#history = model.fit(anos_com_dados_norm,prop_norm, epochs=500, verbose=1)\n",
    "#model.save_weights('/home/andre/Área de Trabalho/Reconstrução da Estatística Pesqueira BR/Rio de Janeiro/Crustaceos/Totais/pesos TOTAL_CRUSTACEOS_M/.weights.h5', overwrite=True)"
   ]
  },
  {
   "cell_type": "code",
   "execution_count": 5,
   "metadata": {},
   "outputs": [
    {
     "name": "stderr",
     "output_type": "stream",
     "text": [
      "/home/andre/.local/lib/python3.10/site-packages/keras/src/saving/saving_lib.py:415: UserWarning: Skipping variable loading for optimizer 'nadam', because it has 2 variables whereas the saved optimizer has 31 variables. \n",
      "  saveable.load_own_variables(weights_store.get(inner_path))\n"
     ]
    }
   ],
   "source": [
    "model.load_weights('/home/andre/Área de Trabalho/Reconstrução da Estatística Pesqueira BR/Rio de Janeiro/Crustaceos/Totais/pesos TOTAL_CRUSTACEOS_M/.weights.h5')"
   ]
  },
  {
   "cell_type": "code",
   "execution_count": 6,
   "metadata": {},
   "outputs": [
    {
     "name": "stdout",
     "output_type": "stream",
     "text": [
      "\u001b[1m1/1\u001b[0m \u001b[32m━━━━━━━━━━━━━━━━━━━━\u001b[0m\u001b[37m\u001b[0m \u001b[1m0s\u001b[0m 74ms/step\n",
      "\u001b[1m1/1\u001b[0m \u001b[32m━━━━━━━━━━━━━━━━━━━━\u001b[0m\u001b[37m\u001b[0m \u001b[1m0s\u001b[0m 36ms/step\n",
      "\u001b[1m2/2\u001b[0m \u001b[32m━━━━━━━━━━━━━━━━━━━━\u001b[0m\u001b[37m\u001b[0m \u001b[1m0s\u001b[0m 2ms/step \n",
      "Previsões dos dados ausentes: [[0.99419725]\n",
      " [0.9860746 ]\n",
      " [0.9778408 ]\n",
      " [0.96926504]\n",
      " [0.96069574]\n",
      " [0.9521277 ]\n",
      " [0.9435595 ]\n",
      " [0.9349564 ]\n",
      " [0.92608905]\n",
      " [0.91722214]\n",
      " [0.90815896]\n",
      " [0.8989845 ]\n",
      " [0.92489094]\n",
      " [0.7982096 ]]\n"
     ]
    },
    {
     "data": {
      "image/png": "[encoded data removed]",
      "text/plain": [
       "<Figure size 432x288 with 1 Axes>"
      ]
     },
     "metadata": {
      "needs_background": "light"
     },
     "output_type": "display_data"
    }
   ],
   "source": [
    "#Previsões\n",
    "prev_disponiveis = model.predict(anos_com_dados_norm)*prop_std + prop_mean\n",
    "prev_ausentes = model.predict(anos_para_prever_norm)*prop_std + prop_mean\n",
    "\n",
    "#Colocando valores negativos para 0\n",
    "for i in range(len(prev_ausentes)):\n",
    "    if prev_ausentes[i]<0:\n",
    "        prev_ausentes[i]=0\n",
    "    if prev_ausentes[i]>=1:\n",
    "        prev_ausentes[i]=1\n",
    "\n",
    "#Plot dos dados e previsões\n",
    "f1=plt.figure(1).add_subplot()\n",
    "f1.scatter(anos_com_dados,prop,label='Dados disponíveis')\n",
    "f1.scatter(anos_para_prever,prev_ausentes, color='red', label='Previsões dos dados ausentes')\n",
    "\n",
    "#Plot do fit da rede\n",
    "p = np.linspace(-2,2,50)\n",
    "y = model.predict(p)*prop_std + prop_mean\n",
    "f1.plot(p*ano_std + ano_mean,y,color='orange',label='Fit da rede')\n",
    "\n",
    "#Print das previsões\n",
    "print('Previsões dos dados ausentes:', prev_ausentes)\n",
    "\n",
    "\n",
    "plt.legend()\n",
    "plt.show()"
   ]
  },
  {
   "cell_type": "code",
   "execution_count": 17,
   "metadata": {},
   "outputs": [
    {
     "data": {
      "image/png": "[encoded data removed]",
      "text/plain": [
       "<Figure size 432x288 with 1 Axes>"
      ]
     },
     "metadata": {
      "needs_background": "light"
     },
     "output_type": "display_data"
    }
   ],
   "source": [
    "loss = history.history['loss']\n",
    "plt.plot(loss,label='loss')\n",
    "plt.legend()\n",
    "plt.show()"
   ]
  },
  {
   "cell_type": "code",
   "execution_count": 7,
   "metadata": {},
   "outputs": [
    {
     "name": "stdout",
     "output_type": "stream",
     "text": [
      "\u001b[1m1/1\u001b[0m \u001b[32m━━━━━━━━━━━━━━━━━━━━\u001b[0m\u001b[37m\u001b[0m \u001b[1m0s\u001b[0m 12ms/step\n",
      "     Ano  TOTAL_CRUSTACEOS_M\n",
      "0   1950         2004.962646\n",
      "1   1951         1898.692017\n",
      "2   1952         1790.668335\n",
      "3   1953         1600.007812\n",
      "4   1954         1436.618652\n",
      "5   1955         1731.325195\n",
      "6   1956         1280.410278\n",
      "7   1957          958.330261\n",
      "8   1958         1240.033203\n",
      "9   1959         1967.441528\n",
      "10  1960         1188.780029\n",
      "11  1961          893.590576\n",
      "12  1962         1812.000000\n",
      "13  1963         2055.000000\n",
      "14  1964         2230.000000\n",
      "15  1965         2490.731201\n",
      "16  1966         2482.000000\n",
      "17  1967         3814.000000\n",
      "18  1968         6503.000000\n",
      "19  1969         3766.000000\n",
      "20  1970         5715.000000\n",
      "21  1971         4936.000000\n",
      "22  1972         6144.000000\n",
      "23  1973         9736.000000\n",
      "24  1974         2380.260986\n",
      "25  1975         8185.000000\n",
      "26  1976         3543.000000\n",
      "27  1977         9064.000000\n",
      "28  1978        24835.000000\n",
      "29  1979        21827.000000\n",
      "30  1980         3519.000000\n",
      "31  1981         3190.500000\n",
      "32  1982         3704.000000\n",
      "33  1983         5727.000000\n",
      "34  1984         7498.000000\n",
      "35  1985         8259.000000\n",
      "36  1986         7176.000000\n",
      "37  1987         7826.000000\n",
      "38  1988         8456.500000\n",
      "39  1989         7717.000000\n",
      "40  1990                 NaN\n",
      "41  1991                 NaN\n",
      "42  1992                 NaN\n",
      "43  1993                 NaN\n",
      "44  1994                 NaN\n",
      "45  1995         1379.000000\n",
      "46  1996         1315.100000\n",
      "47  1997         1873.000000\n",
      "48  1998         1967.500000\n",
      "49  1999         1382.000000\n",
      "50  2000         1220.500000\n",
      "51  2001         1484.500000\n",
      "52  2002         1408.000000\n",
      "53  2003         1611.500000\n",
      "54  2004         1855.000000\n",
      "55  2005         1882.000000\n",
      "56  2006         2051.500000\n",
      "57  2007         1942.500000\n",
      "58  2008                 NaN\n",
      "59  2009                 NaN\n",
      "60  2010                 NaN\n",
      "61  2011                 NaN\n",
      "62  2012                 NaN\n",
      "63  2013                 NaN\n",
      "64  2014                 NaN\n",
      "65  2015                 NaN\n",
      "66  2016                 NaN\n",
      "67  2017                 NaN\n",
      "68  2018                 NaN\n",
      "69  2019                 NaN\n",
      "70  2020                 NaN\n",
      "71  2021                 NaN\n",
      "72  2022                 NaN\n"
     ]
    }
   ],
   "source": [
    "#Lista de anos sem buracos normalizada e sua predição      (para poder me referir por indices)\n",
    "\n",
    "anos = np.arange(1950,np.max(anos_para_prever)+1)\n",
    "anos_norm = (anos-ano_mean)/ano_std\n",
    "prev_continua = model.predict(anos_norm)*prop_std + prop_mean\n",
    "\n",
    "for i in range(len(prev_continua)):\n",
    "    if prev_continua[i]<0:\n",
    "        prev_continua[i]=0\n",
    "    if prev_continua[i]>=1:\n",
    "        prev_continua[i]=1\n",
    "\n",
    "#Trazendo valores previstos para TOTAL_CRUSTACEOS_F&M\n",
    "df_prev_FM = pd.read_excel('/home/andre/Área de Trabalho/Reconstrução da Estatística Pesqueira BR/Rio de Janeiro/Crustaceos/Totais/Previsão TOTAL_CRUSTACEOS_F&M_1950-1955.xlsx')\n",
    "\n",
    "\n",
    "for i in range(len(df_prev_FM['Ano'])):\n",
    "    if pd.isnull(df.loc[i,'TOTAL_CRUSTACEOS_F&M'])==True:\n",
    "       df.loc[i,'TOTAL_CRUSTACEOS_F&M'] = df_prev_FM.loc[i,'TOTAL_CRUSTACEOS_F&M']\n",
    "\n",
    "\n",
    "df_preenchido = df[['Ano','TOTAL_CRUSTACEOS_M']]\n",
    "for i in range(len(prev_continua)):\n",
    "    if pd.isnull(df.loc[i,'TOTAL_CRUSTACEOS_M'])==True:\n",
    "      df_preenchido.loc[i,'TOTAL_CRUSTACEOS_M']=df.loc[i,'TOTAL_CRUSTACEOS_F&M']*prev_continua[i]\n",
    "\n",
    "\n",
    "with pd.option_context('display.max_rows', None,):\n",
    "    print(df_preenchido)\n",
    "\n",
    "\n",
    "#Planilha com os dados preenchidos\n",
    "df_preenchido.to_excel('/home/andre/Área de Trabalho/Reconstrução da Estatística Pesqueira BR/Rio de Janeiro/Crustaceos/Totais/Previsão TOTAL_CRUSTACEOS_M_1950-1974.xlsx')"
   ]
  }
 ],
 "metadata": {
  "kernelspec": {
   "display_name": "Python 3",
   "language": "python",
   "name": "python3"
  },
  "language_info": {
   "codemirror_mode": {
    "name": "ipython",
    "version": 3
   },
   "file_extension": ".py",
   "mimetype": "text/x-python",
   "name": "python",
   "nbconvert_exporter": "python",
   "pygments_lexer": "ipython3",
   "version": "3.10.12"
  }
 },
 "nbformat": 4,
 "nbformat_minor": 2
}
