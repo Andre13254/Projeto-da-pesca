{
 "cells": [
  {
   "cell_type": "code",
   "execution_count": 2,
   "id": "ce4f02d9-c266-4841-8560-bf1892330841",
   "metadata": {},
   "outputs": [],
   "source": [
    "import numpy as np\n",
    "import keras\n",
    "import matplotlib.pyplot as plt\n",
    "from keras import layers\n",
    "import keras_tuner as kt\n",
    "from sklearn.model_selection import train_test_split\n",
    "\n",
    "#Dados disponíveis para pesca industrial\n",
    "ano = np.array([1962,1963,1964,1966,1967,1981,1982,1983,1984,1985,1986,1987,1988,1989,1999,2000,2001,2002,2003,2004,2005,2006,2007,2008,2009,2010,2011,2012,2013,2014,2017,2018,2019,2020,2021,2022])\n",
    "pesca_art = np.array([2,70,600,32,59,5,9,53,23,21,35,44,42,44,250.5,584.5,287,241.5,237.5,261,269.5,318,166.5,251.333,245.278,221.037,147.403,73.770,0.136,0.300,23.311,62.650,45.151,28.364,31.531,41.984])\n",
    "\n",
    "\n",
    "ano_media = np.mean(ano)\n",
    "ano_std = np.sqrt( np.sum((ano - ano_media)**2)/35  )\n",
    "ano_normalizado = (ano - ano_media)/ano_std\n",
    "\n",
    "pa_media = np.mean(pesca_art)\n",
    "pa_std = np.sqrt( np.sum((pesca_art - pa_media)**2)/35  )\n",
    "pa_normalizado = (pesca_art - pa_media)/pa_std\n",
    "\n",
    "#Colocando dados normalizados no formato de entrada da rede\n",
    "ano_normalizado = ano_normalizado.reshape((36,1))\n",
    "pa_normalizado = pa_normalizado.reshape((36,1))\n",
    "\n",
    "\n",
    "#Dados a serem preditos e normalização\n",
    "anos_sem_pesca_art = np.array([1965,1968,1969,1970,1971,1972,1973,1974,1975,1976,1977,1978,1979,1980,1990,1991,1992,1993,1994,1995,1996,1997,1998,2015,2016])\n",
    "\n",
    "aspa_media = np.mean(anos_sem_pesca_art)\n",
    "aspa_std = np.sqrt( np.sum((anos_sem_pesca_art - aspa_media)**2)/24  )\n",
    "aspa_normalizado = (anos_sem_pesca_art - aspa_media)/aspa_std\n",
    "aspa_normalizado = aspa_normalizado.reshape(25,1)"
   ]
  },
  {
   "cell_type": "code",
   "execution_count": null,
   "id": "c6fc706e-2222-4e07-8ef4-04e62bb32a73",
   "metadata": {},
   "outputs": [],
   "source": [
    "#Fit do modelo e salvando seus pesos\n",
    "model = keras.models.load_model('/home/andre/Área de Trabalho/Projeto da pesca/modelo_projeto_pesca.keras') \n",
    "model.fit(ano_normalizado,pa_normalizado, epochs=500, verbose=1)\n",
    "model.save_weights('/home/andre/Área de Trabalho/Projeto da pesca/Mexilhão/pesos pesca art/.weights.h5', overwrite=True)\n",
    "\n",
    "#Loss da rede com os pesos salvos\n",
    "#Epoch 500/500\n",
    "#2/2 ━━━━━━━━━━━━━━━━━━━━ 0s 2ms/step - accuracy: 0.0000e+00 - loss: 0.4244"
   ]
  },
  {
   "cell_type": "code",
   "execution_count": 7,
   "id": "53345c75-4d77-4721-a2dc-74e1fd6a589f",
   "metadata": {},
   "outputs": [],
   "source": [
    "#Pegando o modelo pesos salvos\n",
    "model = keras.models.load_model('/home/andre/Área de Trabalho/Projeto da pesca/modelo_projeto_pesca.keras')\n",
    "model.load_weights('/home/andre/Área de Trabalho/Projeto da pesca/Mexilhão/pesos pesca art/.weights.h5')"
   ]
  },
  {
   "cell_type": "code",
   "execution_count": 12,
   "id": "a57031ce-b317-471e-b56c-4b8c1cf315cc",
   "metadata": {},
   "outputs": [
    {
     "name": "stdout",
     "output_type": "stream",
     "text": [
      "\u001b[1m2/2\u001b[0m \u001b[32m━━━━━━━━━━━━━━━━━━━━\u001b[0m\u001b[37m\u001b[0m \u001b[1m0s\u001b[0m 2ms/step \n",
      "\u001b[1m1/1\u001b[0m \u001b[32m━━━━━━━━━━━━━━━━━━━━\u001b[0m\u001b[37m\u001b[0m \u001b[1m0s\u001b[0m 11ms/step\n",
      "Previsões dos dados ausentes: [[ 96.24167 ]\n",
      " [ 52.99668 ]\n",
      " [ 38.84028 ]\n",
      " [ 25.627945]\n",
      " [ 17.548141]\n",
      " [ 18.17202 ]\n",
      " [ 20.29007 ]\n",
      " [ 22.690186]\n",
      " [ 26.011337]\n",
      " [ 30.606483]\n",
      " [ 37.096764]\n",
      " [ 43.314697]\n",
      " [ 78.10304 ]\n",
      " [163.85045 ]\n",
      " [219.69269 ]\n",
      " [198.9089  ]\n",
      " [203.35696 ]\n",
      " [231.11446 ]\n",
      " [191.4689  ]\n",
      " [ 97.50813 ]\n",
      " [ 22.791893]\n",
      " [ 16.314072]\n",
      " [ 22.009033]\n",
      " [ 61.107277]\n",
      " [ 62.91295 ]]\n"
     ]
    },
    {
     "data": {
      "image/png": "[encoded data removed]",
      "text/plain": [
       "<Figure size 432x288 with 1 Axes>"
      ]
     },
     "metadata": {
      "needs_background": "light"
     },
     "output_type": "display_data"
    }
   ],
   "source": [
    "#Previsões\n",
    "prev_geral = model.predict(ano_normalizado)*pa_std + pa_media\n",
    "prev_ausentes = model.predict(aspa_normalizado)*pa_std + pa_media\n",
    "\n",
    "#Plot dos dados e previsões\n",
    "f1=plt.figure(1).add_subplot()\n",
    "f1.scatter(ano,pesca_art,label='Dados disponíveis')\n",
    "f1.plot(ano,prev_geral,color='orange', label='Fit da rede' )\n",
    "f1.scatter(anos_sem_pesca_art,prev_ausentes, color='red', label='Previsões dos dados ausentes')\n",
    "\n",
    "#Print das previsões\n",
    "print('Previsões dos dados ausentes:', prev_ausentes)\n",
    "\n",
    "\n",
    "plt.legend()\n",
    "plt.show()"
   ]
  },
  {
   "cell_type": "code",
   "execution_count": null,
   "id": "1988a0fa-9876-43fb-9ab0-305c0e213850",
   "metadata": {},
   "outputs": [],
   "source": []
  }
 ],
 "metadata": {
  "kernelspec": {
   "display_name": "Python 3 (ipykernel)",
   "language": "python",
   "name": "python3"
  },
  "language_info": {
   "codemirror_mode": {
    "name": "ipython",
    "version": 3
   },
   "file_extension": ".py",
   "mimetype": "text/x-python",
   "name": "python",
   "nbconvert_exporter": "python",
   "pygments_lexer": "ipython3",
   "version": "3.10.12"
  }
 },
 "nbformat": 4,
 "nbformat_minor": 5
}
