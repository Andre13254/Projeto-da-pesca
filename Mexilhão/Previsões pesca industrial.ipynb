{
 "cells": [
  {
   "cell_type": "code",
   "execution_count": null,
   "id": "eb9e0cc5-0041-46c4-b2be-ec5f4f5a7a37",
   "metadata": {},
   "outputs": [],
   "source": [
    "import numpy as np\n",
    "import keras\n",
    "import matplotlib.pyplot as plt\n",
    "from keras import layers\n",
    "import keras_tuner as kt\n",
    "from sklearn.model_selection import train_test_split\n",
    "\n",
    "#Dados disponíveis para pesca industrial\n",
    "ano = np.array([1987,2000,2002,2003,2004,2005])\n",
    "pesca_ind = np.array([1,1.5,0.5,0.5,0.5,0.5])\n",
    "\n",
    "ano_media = np.mean(ano)\n",
    "ano_std = np.sqrt( np.sum((ano - ano_media)**2)/5  )\n",
    "ano_normalizado = (ano - ano_media)/ano_std\n",
    "\n",
    "pi_media = np.mean(pesca_ind)\n",
    "pi_std = np.sqrt( np.sum((pesca_ind - pi_media)**2)/5  )\n",
    "pi_normalizado = (pesca_ind - pi_media)/pi_std\n",
    "\n",
    "#Dados a seram preditos e normalização\n",
    "anos_sem_pesca_ind = np.array([1988,1989,1990,1991,1992,1993,1994,1995,1996,1997,1998,1999,2001])\n",
    "\n",
    "aspi_media = np.mean(anos_sem_pesca_ind)\n",
    "aspi_std = np.sqrt( np.sum((anos_sem_pesca_ind - aspi_media)**2)/12  )\n",
    "aspi_normalizado = (anos_sem_pesca_ind - aspi_media)/aspi_std"
   ]
  },
  {
   "cell_type": "code",
   "execution_count": null,
   "id": "d50999f0-1b4d-42bf-81cc-af96cdd5b9b6",
   "metadata": {},
   "outputs": [],
   "source": [
    "#Fit do modelo e salvando seus pesos\n",
    "model = keras.models.load_model('/home/andre/Área de Trabalho/Projeto da pesca/modelo_projeto_pesca.keras') \n",
    "model.fit(ano_normalizado,pi_normalizado, epochs=500, verbose=1)\n",
    "model.save_weights('/home/andre/Área de Trabalho/Projeto da pesca/Mexilhão/pesos pesca ind/.weights.h5', overwrite=False)\n",
    "\n",
    "#Loss da rede com os pesos salvos\n",
    "#Epoch 500/500\n",
    "#1/1 ━━━━━━━━━━━━━━━━━━━━ 0s 17ms/step - accuracy: 0.0000e+00 - loss: 9.2677e-07"
   ]
  },
  {
   "cell_type": "code",
   "execution_count": 3,
   "id": "32bd718c-3603-4013-9401-8c8392348471",
   "metadata": {},
   "outputs": [],
   "source": [
    "#Pegando o modelo e seus pesos salvos\n",
    "model = keras.models.load_model('/home/andre/Área de Trabalho/Projeto da pesca/modelo_projeto_pesca.keras') \n",
    "model.load_weights('/home/andre/Área de Trabalho/Projeto da pesca/Mexilhão/pesos pesca ind/.weights.h5')"
   ]
  },
  {
   "cell_type": "code",
   "execution_count": 4,
   "id": "a4b27018-0105-4dad-9d62-18c75a9910df",
   "metadata": {},
   "outputs": [
    {
     "name": "stdout",
     "output_type": "stream",
     "text": [
      "\u001b[1m1/1\u001b[0m \u001b[32m━━━━━━━━━━━━━━━━━━━━\u001b[0m\u001b[37m\u001b[0m \u001b[1m0s\u001b[0m 47ms/step\n",
      "\u001b[1m1/1\u001b[0m \u001b[32m━━━━━━━━━━━━━━━━━━━━\u001b[0m\u001b[37m\u001b[0m \u001b[1m0s\u001b[0m 43ms/step\n",
      "Previsões dos dados ausentes: [[1.2139268 ]\n",
      " [1.409272  ]\n",
      " [1.6417533 ]\n",
      " [1.9044225 ]\n",
      " [2.1558244 ]\n",
      " [2.1243453 ]\n",
      " [1.4517885 ]\n",
      " [0.5090734 ]\n",
      " [0.4921508 ]\n",
      " [0.49929327]\n",
      " [0.41125652]\n",
      " [0.36857897]\n",
      " [0.28536394]]\n"
     ]
    },
    {
     "data": {
      "image/png": "[encoded data removed]",
      "text/plain": [
       "<Figure size 432x288 with 1 Axes>"
      ]
     },
     "metadata": {
      "needs_background": "light"
     },
     "output_type": "display_data"
    }
   ],
   "source": [
    "#Previsões\n",
    "prev_geral = model.predict(ano_normalizado)*pi_std + pi_media\n",
    "prev_ausentes = model.predict(aspi_normalizado)*pi_std + pi_media\n",
    "\n",
    "#Plot dos dados e previsões\n",
    "f1=plt.figure(1).add_subplot()\n",
    "f1.scatter(ano,pesca_ind,label='Dados disponíveis')\n",
    "f1.plot(ano,prev_geral,color='orange', label='Fit da rede' )\n",
    "f1.scatter(anos_sem_pesca_ind,prev_ausentes, color='red', label='Previsões dos dados ausentes')\n",
    "\n",
    "#Print das previsões\n",
    "print('Previsões dos dados ausentes:', prev_ausentes)\n",
    "\n",
    "\n",
    "plt.legend()\n",
    "plt.show()"
   ]
  },
  {
   "cell_type": "code",
   "execution_count": null,
   "id": "fc72a646-546b-4589-9213-ba48b7fd424a",
   "metadata": {},
   "outputs": [],
   "source": []
  }
 ],
 "metadata": {
  "kernelspec": {
   "display_name": "Python 3 (ipykernel)",
   "language": "python",
   "name": "python3"
  },
  "language_info": {
   "codemirror_mode": {
    "name": "ipython",
    "version": 3
   },
   "file_extension": ".py",
   "mimetype": "text/x-python",
   "name": "python",
   "nbconvert_exporter": "python",
   "pygments_lexer": "ipython3",
   "version": "3.10.12"
  }
 },
 "nbformat": 4,
 "nbformat_minor": 5
}
